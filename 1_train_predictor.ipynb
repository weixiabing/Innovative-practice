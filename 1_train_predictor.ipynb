{
 "cells": [
  {
   "cell_type": "code",
   "execution_count": 1,
   "metadata": {},
   "outputs": [],
   "source": [
    "\n",
    "import pandas as pd\n",
    "import numpy as np\n",
    "import matplotlib.pyplot as plt\n",
    "\n"
   ]
  },
  {
   "cell_type": "code",
   "execution_count": 2,
   "metadata": {},
   "outputs": [],
   "source": [
    "names = locals()\n",
    "http=[]\n",
    "for i in range (2,7):\n",
    "    http.append('library/csv/pm/shanghai/Shanghai_201'+str(i)+'_HourlyPM2.5.csv')\n",
    "\n",
    "    names['df_bj201'+str(i)] = pd.read_csv(http[i-2])#从csv读取数据\n",
    " "
   ]
  },
  {
   "cell_type": "code",
   "execution_count": 3,
   "metadata": {},
   "outputs": [
    {
     "data": {
      "text/plain": "           Site Parameter        Date (LST)  Year  Month  Day  Hour  Value  \\\n0      Shanghai     PM2.5     2012/1/1 0:00  2012      1    1     0    112   \n1      Shanghai     PM2.5     2012/1/1 1:00  2012      1    1     1    113   \n2      Shanghai     PM2.5     2012/1/1 2:00  2012      1    1     2    115   \n3      Shanghai     PM2.5     2012/1/1 3:00  2012      1    1     3    144   \n4      Shanghai     PM2.5     2012/1/1 4:00  2012      1    1     4    152   \n...         ...       ...               ...   ...    ...  ...   ...    ...   \n43843  Shanghai     PM2.5  12/31/2016 19:00  2016     12   31    19     43   \n43844  Shanghai     PM2.5  12/31/2016 20:00  2016     12   31    20     40   \n43845  Shanghai     PM2.5  12/31/2016 21:00  2016     12   31    21     35   \n43846  Shanghai     PM2.5  12/31/2016 22:00  2016     12   31    22     39   \n43847  Shanghai     PM2.5  12/31/2016 23:00  2016     12   31    23     44   \n\n          QC  \n0      Valid  \n1      Valid  \n2      Valid  \n3      Valid  \n4      Valid  \n...      ...  \n43843  Valid  \n43844  Valid  \n43845  Valid  \n43846  Valid  \n43847  Valid  \n\n[43848 rows x 9 columns]",
      "text/html": "<div>\n<style scoped>\n    .dataframe tbody tr th:only-of-type {\n        vertical-align: middle;\n    }\n\n    .dataframe tbody tr th {\n        vertical-align: top;\n    }\n\n    .dataframe thead th {\n        text-align: right;\n    }\n</style>\n<table border=\"1\" class=\"dataframe\">\n  <thead>\n    <tr style=\"text-align: right;\">\n      <th></th>\n      <th>Site</th>\n      <th>Parameter</th>\n      <th>Date (LST)</th>\n      <th>Year</th>\n      <th>Month</th>\n      <th>Day</th>\n      <th>Hour</th>\n      <th>Value</th>\n      <th>QC</th>\n    </tr>\n  </thead>\n  <tbody>\n    <tr>\n      <th>0</th>\n      <td>Shanghai</td>\n      <td>PM2.5</td>\n      <td>2012/1/1 0:00</td>\n      <td>2012</td>\n      <td>1</td>\n      <td>1</td>\n      <td>0</td>\n      <td>112</td>\n      <td>Valid</td>\n    </tr>\n    <tr>\n      <th>1</th>\n      <td>Shanghai</td>\n      <td>PM2.5</td>\n      <td>2012/1/1 1:00</td>\n      <td>2012</td>\n      <td>1</td>\n      <td>1</td>\n      <td>1</td>\n      <td>113</td>\n      <td>Valid</td>\n    </tr>\n    <tr>\n      <th>2</th>\n      <td>Shanghai</td>\n      <td>PM2.5</td>\n      <td>2012/1/1 2:00</td>\n      <td>2012</td>\n      <td>1</td>\n      <td>1</td>\n      <td>2</td>\n      <td>115</td>\n      <td>Valid</td>\n    </tr>\n    <tr>\n      <th>3</th>\n      <td>Shanghai</td>\n      <td>PM2.5</td>\n      <td>2012/1/1 3:00</td>\n      <td>2012</td>\n      <td>1</td>\n      <td>1</td>\n      <td>3</td>\n      <td>144</td>\n      <td>Valid</td>\n    </tr>\n    <tr>\n      <th>4</th>\n      <td>Shanghai</td>\n      <td>PM2.5</td>\n      <td>2012/1/1 4:00</td>\n      <td>2012</td>\n      <td>1</td>\n      <td>1</td>\n      <td>4</td>\n      <td>152</td>\n      <td>Valid</td>\n    </tr>\n    <tr>\n      <th>...</th>\n      <td>...</td>\n      <td>...</td>\n      <td>...</td>\n      <td>...</td>\n      <td>...</td>\n      <td>...</td>\n      <td>...</td>\n      <td>...</td>\n      <td>...</td>\n    </tr>\n    <tr>\n      <th>43843</th>\n      <td>Shanghai</td>\n      <td>PM2.5</td>\n      <td>12/31/2016 19:00</td>\n      <td>2016</td>\n      <td>12</td>\n      <td>31</td>\n      <td>19</td>\n      <td>43</td>\n      <td>Valid</td>\n    </tr>\n    <tr>\n      <th>43844</th>\n      <td>Shanghai</td>\n      <td>PM2.5</td>\n      <td>12/31/2016 20:00</td>\n      <td>2016</td>\n      <td>12</td>\n      <td>31</td>\n      <td>20</td>\n      <td>40</td>\n      <td>Valid</td>\n    </tr>\n    <tr>\n      <th>43845</th>\n      <td>Shanghai</td>\n      <td>PM2.5</td>\n      <td>12/31/2016 21:00</td>\n      <td>2016</td>\n      <td>12</td>\n      <td>31</td>\n      <td>21</td>\n      <td>35</td>\n      <td>Valid</td>\n    </tr>\n    <tr>\n      <th>43846</th>\n      <td>Shanghai</td>\n      <td>PM2.5</td>\n      <td>12/31/2016 22:00</td>\n      <td>2016</td>\n      <td>12</td>\n      <td>31</td>\n      <td>22</td>\n      <td>39</td>\n      <td>Valid</td>\n    </tr>\n    <tr>\n      <th>43847</th>\n      <td>Shanghai</td>\n      <td>PM2.5</td>\n      <td>12/31/2016 23:00</td>\n      <td>2016</td>\n      <td>12</td>\n      <td>31</td>\n      <td>23</td>\n      <td>44</td>\n      <td>Valid</td>\n    </tr>\n  </tbody>\n</table>\n<p>43848 rows × 9 columns</p>\n</div>"
     },
     "execution_count": 3,
     "metadata": {},
     "output_type": "execute_result"
    }
   ],
   "source": [
    "df = pd.DataFrame()\n",
    "\n",
    "df=pd.concat([df_bj2012,df_bj2013,df_bj2014,df_bj2015,df_bj2016],ignore_index=True)#合并数据集\n",
    "df"
   ]
  },
  {
   "cell_type": "code",
   "execution_count": 33,
   "metadata": {},
   "outputs": [
    {
     "data": {
      "text/html": [
       "<div>\n",
       "<style scoped>\n",
       "    .dataframe tbody tr th:only-of-type {\n",
       "        vertical-align: middle;\n",
       "    }\n",
       "\n",
       "    .dataframe tbody tr th {\n",
       "        vertical-align: top;\n",
       "    }\n",
       "\n",
       "    .dataframe thead th {\n",
       "        text-align: right;\n",
       "    }\n",
       "</style>\n",
       "<table border=\"1\" class=\"dataframe\">\n",
       "  <thead>\n",
       "    <tr style=\"text-align: right;\">\n",
       "      <th></th>\n",
       "      <th>Date (LST)</th>\n",
       "      <th>Value</th>\n",
       "      <th>QC</th>\n",
       "    </tr>\n",
       "  </thead>\n",
       "  <tbody>\n",
       "    <tr>\n",
       "      <th>0</th>\n",
       "      <td>2012/1/1 0:00</td>\n",
       "      <td>112</td>\n",
       "      <td>Valid</td>\n",
       "    </tr>\n",
       "    <tr>\n",
       "      <th>1</th>\n",
       "      <td>2012/1/1 1:00</td>\n",
       "      <td>113</td>\n",
       "      <td>Valid</td>\n",
       "    </tr>\n",
       "    <tr>\n",
       "      <th>2</th>\n",
       "      <td>2012/1/1 2:00</td>\n",
       "      <td>115</td>\n",
       "      <td>Valid</td>\n",
       "    </tr>\n",
       "    <tr>\n",
       "      <th>3</th>\n",
       "      <td>2012/1/1 3:00</td>\n",
       "      <td>144</td>\n",
       "      <td>Valid</td>\n",
       "    </tr>\n",
       "    <tr>\n",
       "      <th>4</th>\n",
       "      <td>2012/1/1 4:00</td>\n",
       "      <td>152</td>\n",
       "      <td>Valid</td>\n",
       "    </tr>\n",
       "    <tr>\n",
       "      <th>...</th>\n",
       "      <td>...</td>\n",
       "      <td>...</td>\n",
       "      <td>...</td>\n",
       "    </tr>\n",
       "    <tr>\n",
       "      <th>43843</th>\n",
       "      <td>12/31/2016 19:00</td>\n",
       "      <td>43</td>\n",
       "      <td>Valid</td>\n",
       "    </tr>\n",
       "    <tr>\n",
       "      <th>43844</th>\n",
       "      <td>12/31/2016 20:00</td>\n",
       "      <td>40</td>\n",
       "      <td>Valid</td>\n",
       "    </tr>\n",
       "    <tr>\n",
       "      <th>43845</th>\n",
       "      <td>12/31/2016 21:00</td>\n",
       "      <td>35</td>\n",
       "      <td>Valid</td>\n",
       "    </tr>\n",
       "    <tr>\n",
       "      <th>43846</th>\n",
       "      <td>12/31/2016 22:00</td>\n",
       "      <td>39</td>\n",
       "      <td>Valid</td>\n",
       "    </tr>\n",
       "    <tr>\n",
       "      <th>43847</th>\n",
       "      <td>12/31/2016 23:00</td>\n",
       "      <td>44</td>\n",
       "      <td>Valid</td>\n",
       "    </tr>\n",
       "  </tbody>\n",
       "</table>\n",
       "<p>43848 rows × 3 columns</p>\n",
       "</div>"
      ],
      "text/plain": [
       "             Date (LST)  Value     QC\n",
       "0         2012/1/1 0:00    112  Valid\n",
       "1         2012/1/1 1:00    113  Valid\n",
       "2         2012/1/1 2:00    115  Valid\n",
       "3         2012/1/1 3:00    144  Valid\n",
       "4         2012/1/1 4:00    152  Valid\n",
       "...                 ...    ...    ...\n",
       "43843  12/31/2016 19:00     43  Valid\n",
       "43844  12/31/2016 20:00     40  Valid\n",
       "43845  12/31/2016 21:00     35  Valid\n",
       "43846  12/31/2016 22:00     39  Valid\n",
       "43847  12/31/2016 23:00     44  Valid\n",
       "\n",
       "[43848 rows x 3 columns]"
      ]
     },
     "execution_count": 33,
     "metadata": {},
     "output_type": "execute_result"
    }
   ],
   "source": [
    "df = df.iloc[:,[2,7,8]] #取[2，7,8]行（value,QC）\n",
    "df "
   ]
  },
  {
   "cell_type": "code",
   "execution_count": 34,
   "metadata": {},
   "outputs": [
    {
     "data": {
      "text/plain": [
       "873"
      ]
     },
     "execution_count": 34,
     "metadata": {},
     "output_type": "execute_result"
    }
   ],
   "source": [
    "a=0\n",
    "for i in range(len(df)):      #统计数据缺失项和错误项\n",
    "    if (df['QC'][i] == \"Missing\" and df['Value'][i]<=0 ):\n",
    "        a+=1\n",
    "a"
   ]
  },
  {
   "cell_type": "code",
   "execution_count": 35,
   "metadata": {},
   "outputs": [
    {
     "name": "stderr",
     "output_type": "stream",
     "text": [
      "ipykernel_launcher:4: SettingWithCopyWarning: \n",
      "A value is trying to be set on a copy of a slice from a DataFrame\n",
      "\n",
      "See the caveats in the documentation: https://pandas.pydata.org/pandas-docs/stable/user_guide/indexing.html#returning-a-view-versus-a-copy\n",
      "C:\\Users\\weixi\\.virtualenvs\\Innovative-practice-Om2RB-sU\\lib\\site-packages\\pandas\\core\\indexing.py:670: SettingWithCopyWarning: \n",
      "A value is trying to be set on a copy of a slice from a DataFrame\n",
      "\n",
      "See the caveats in the documentation: https://pandas.pydata.org/pandas-docs/stable/user_guide/indexing.html#returning-a-view-versus-a-copy\n",
      "  iloc._setitem_with_indexer(indexer, value)\n"
     ]
    }
   ],
   "source": [
    "df1= df.copy()\n",
    "for i in range(len(df1)):\n",
    "    if (df1['QC'][i] == \"Missing\" or df1['Value'][i]<=0):\n",
    "        df1['Value'][i] = \"NaN\"    \n",
    "                                    #取数据框中缺失值上下的数字平均值来填写数字的缺失值\n",
    "df2=df1.copy()\n",
    "df2['Value']=df2['Value'].fillna(df2['Value'].interpolate(method='linear', limit_direction='forward', axis=0))        \n"
   ]
  },
  {
   "cell_type": "code",
   "execution_count": 36,
   "metadata": {},
   "outputs": [],
   "source": [
    "df2 = df2.iloc[:,[0,1]]\n",
    "df2.index = range(len(df2) )#重制index\n",
    "df2\n",
    "df2.to_csv(\"library/csv/pm/shanghai.csv\", encoding=\"utf_8_sig\") #导出csv"
   ]
  },
  {
   "cell_type": "code",
   "execution_count": 37,
   "metadata": {},
   "outputs": [
    {
     "ename": "TypeError",
     "evalue": "no numeric data to plot",
     "output_type": "error",
     "traceback": [
      "\u001B[1;31m---------------------------------------------------------------------------\u001B[0m",
      "\u001B[1;31mTypeError\u001B[0m                                 Traceback (most recent call last)",
      "\u001B[1;32m~\\AppData\\Local\\Temp/ipykernel_33644/4197172273.py\u001B[0m in \u001B[0;36m<module>\u001B[1;34m\u001B[0m\n\u001B[1;32m----> 1\u001B[1;33m \u001B[0mdf2\u001B[0m\u001B[1;33m.\u001B[0m\u001B[0mplot\u001B[0m\u001B[1;33m(\u001B[0m\u001B[1;33m)\u001B[0m\u001B[1;33m\u001B[0m\u001B[0m\n\u001B[0m\u001B[0;32m      2\u001B[0m \u001B[0mplt\u001B[0m\u001B[1;33m.\u001B[0m\u001B[0mshow\u001B[0m\u001B[1;33m(\u001B[0m\u001B[1;33m)\u001B[0m\u001B[1;33m\u001B[0m\u001B[0m\n",
      "\u001B[1;32m~\\.virtualenvs\\Innovative-practice-Om2RB-sU\\lib\\site-packages\\pandas\\plotting\\_core.py\u001B[0m in \u001B[0;36m__call__\u001B[1;34m(self, *args, **kwargs)\u001B[0m\n\u001B[0;32m    947\u001B[0m                     \u001B[0mdata\u001B[0m\u001B[1;33m.\u001B[0m\u001B[0mcolumns\u001B[0m \u001B[1;33m=\u001B[0m \u001B[0mlabel_name\u001B[0m\u001B[1;33m\u001B[0m\u001B[0m\n\u001B[0;32m    948\u001B[0m \u001B[1;33m\u001B[0m\u001B[0m\n\u001B[1;32m--> 949\u001B[1;33m         \u001B[1;32mreturn\u001B[0m \u001B[0mplot_backend\u001B[0m\u001B[1;33m.\u001B[0m\u001B[0mplot\u001B[0m\u001B[1;33m(\u001B[0m\u001B[0mdata\u001B[0m\u001B[1;33m,\u001B[0m \u001B[0mkind\u001B[0m\u001B[1;33m=\u001B[0m\u001B[0mkind\u001B[0m\u001B[1;33m,\u001B[0m \u001B[1;33m**\u001B[0m\u001B[0mkwargs\u001B[0m\u001B[1;33m)\u001B[0m\u001B[1;33m\u001B[0m\u001B[0m\n\u001B[0m\u001B[0;32m    950\u001B[0m \u001B[1;33m\u001B[0m\u001B[0m\n\u001B[0;32m    951\u001B[0m     \u001B[0m__call__\u001B[0m\u001B[1;33m.\u001B[0m\u001B[0m__doc__\u001B[0m \u001B[1;33m=\u001B[0m \u001B[0m__doc__\u001B[0m\u001B[1;33m\u001B[0m\u001B[0m\n",
      "\u001B[1;32m~\\.virtualenvs\\Innovative-practice-Om2RB-sU\\lib\\site-packages\\pandas\\plotting\\_matplotlib\\__init__.py\u001B[0m in \u001B[0;36mplot\u001B[1;34m(data, kind, **kwargs)\u001B[0m\n\u001B[0;32m     59\u001B[0m             \u001B[0mkwargs\u001B[0m\u001B[1;33m[\u001B[0m\u001B[1;34m\"ax\"\u001B[0m\u001B[1;33m]\u001B[0m \u001B[1;33m=\u001B[0m \u001B[0mgetattr\u001B[0m\u001B[1;33m(\u001B[0m\u001B[0max\u001B[0m\u001B[1;33m,\u001B[0m \u001B[1;34m\"left_ax\"\u001B[0m\u001B[1;33m,\u001B[0m \u001B[0max\u001B[0m\u001B[1;33m)\u001B[0m\u001B[1;33m\u001B[0m\u001B[0m\n\u001B[0;32m     60\u001B[0m     \u001B[0mplot_obj\u001B[0m \u001B[1;33m=\u001B[0m \u001B[0mPLOT_CLASSES\u001B[0m\u001B[1;33m[\u001B[0m\u001B[0mkind\u001B[0m\u001B[1;33m]\u001B[0m\u001B[1;33m(\u001B[0m\u001B[0mdata\u001B[0m\u001B[1;33m,\u001B[0m \u001B[1;33m**\u001B[0m\u001B[0mkwargs\u001B[0m\u001B[1;33m)\u001B[0m\u001B[1;33m\u001B[0m\u001B[0m\n\u001B[1;32m---> 61\u001B[1;33m     \u001B[0mplot_obj\u001B[0m\u001B[1;33m.\u001B[0m\u001B[0mgenerate\u001B[0m\u001B[1;33m(\u001B[0m\u001B[1;33m)\u001B[0m\u001B[1;33m\u001B[0m\u001B[0m\n\u001B[0m\u001B[0;32m     62\u001B[0m     \u001B[0mplot_obj\u001B[0m\u001B[1;33m.\u001B[0m\u001B[0mdraw\u001B[0m\u001B[1;33m(\u001B[0m\u001B[1;33m)\u001B[0m\u001B[1;33m\u001B[0m\u001B[0m\n\u001B[0;32m     63\u001B[0m     \u001B[1;32mreturn\u001B[0m \u001B[0mplot_obj\u001B[0m\u001B[1;33m.\u001B[0m\u001B[0mresult\u001B[0m\u001B[1;33m\u001B[0m\u001B[0m\n",
      "\u001B[1;32m~\\.virtualenvs\\Innovative-practice-Om2RB-sU\\lib\\site-packages\\pandas\\plotting\\_matplotlib\\core.py\u001B[0m in \u001B[0;36mgenerate\u001B[1;34m(self)\u001B[0m\n\u001B[0;32m    267\u001B[0m     \u001B[1;32mdef\u001B[0m \u001B[0mgenerate\u001B[0m\u001B[1;33m(\u001B[0m\u001B[0mself\u001B[0m\u001B[1;33m)\u001B[0m\u001B[1;33m:\u001B[0m\u001B[1;33m\u001B[0m\u001B[0m\n\u001B[0;32m    268\u001B[0m         \u001B[0mself\u001B[0m\u001B[1;33m.\u001B[0m\u001B[0m_args_adjust\u001B[0m\u001B[1;33m(\u001B[0m\u001B[1;33m)\u001B[0m\u001B[1;33m\u001B[0m\u001B[0m\n\u001B[1;32m--> 269\u001B[1;33m         \u001B[0mself\u001B[0m\u001B[1;33m.\u001B[0m\u001B[0m_compute_plot_data\u001B[0m\u001B[1;33m(\u001B[0m\u001B[1;33m)\u001B[0m\u001B[1;33m\u001B[0m\u001B[0m\n\u001B[0m\u001B[0;32m    270\u001B[0m         \u001B[0mself\u001B[0m\u001B[1;33m.\u001B[0m\u001B[0m_setup_subplots\u001B[0m\u001B[1;33m(\u001B[0m\u001B[1;33m)\u001B[0m\u001B[1;33m\u001B[0m\u001B[0m\n\u001B[0;32m    271\u001B[0m         \u001B[0mself\u001B[0m\u001B[1;33m.\u001B[0m\u001B[0m_make_plot\u001B[0m\u001B[1;33m(\u001B[0m\u001B[1;33m)\u001B[0m\u001B[1;33m\u001B[0m\u001B[0m\n",
      "\u001B[1;32m~\\.virtualenvs\\Innovative-practice-Om2RB-sU\\lib\\site-packages\\pandas\\plotting\\_matplotlib\\core.py\u001B[0m in \u001B[0;36m_compute_plot_data\u001B[1;34m(self)\u001B[0m\n\u001B[0;32m    416\u001B[0m         \u001B[1;31m# no non-numeric frames or series allowed\u001B[0m\u001B[1;33m\u001B[0m\u001B[1;33m\u001B[0m\u001B[0m\n\u001B[0;32m    417\u001B[0m         \u001B[1;32mif\u001B[0m \u001B[0mis_empty\u001B[0m\u001B[1;33m:\u001B[0m\u001B[1;33m\u001B[0m\u001B[0m\n\u001B[1;32m--> 418\u001B[1;33m             \u001B[1;32mraise\u001B[0m \u001B[0mTypeError\u001B[0m\u001B[1;33m(\u001B[0m\u001B[1;34m\"no numeric data to plot\"\u001B[0m\u001B[1;33m)\u001B[0m\u001B[1;33m\u001B[0m\u001B[0m\n\u001B[0m\u001B[0;32m    419\u001B[0m \u001B[1;33m\u001B[0m\u001B[0m\n\u001B[0;32m    420\u001B[0m         \u001B[1;31m# GH25587: cast ExtensionArray of pandas (IntegerArray, etc.) to\u001B[0m\u001B[1;33m\u001B[0m\u001B[1;33m\u001B[0m\u001B[0m\n",
      "\u001B[1;31mTypeError\u001B[0m: no numeric data to plot"
     ]
    }
   ],
   "source": [
    "df2.plot()\n",
    "plt.show()"
   ]
  }
 ],
 "metadata": {
  "interpreter": {
   "hash": "4255743febc701a83e7c9e51b23ab07e249c4fef660122ce73cbf07659370248"
  },
  "kernelspec": {
   "display_name": "Python 3.7.0 64-bit ('Innovative-practice-Om2RB-sU': pipenv)",
   "name": "python3"
  },
  "language_info": {
   "codemirror_mode": {
    "name": "ipython",
    "version": 3
   },
   "file_extension": ".py",
   "mimetype": "text/x-python",
   "name": "python",
   "nbconvert_exporter": "python",
   "pygments_lexer": "ipython3",
   "version": "3.7.0"
  },
  "orig_nbformat": 4
 },
 "nbformat": 4,
 "nbformat_minor": 2
}