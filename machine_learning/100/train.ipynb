{
 "cells": [
  {
   "cell_type": "code",
   "execution_count": 1,
   "metadata": {},
   "outputs": [],
   "source": [
    "import numpy as np\n",
    "from tensorflow import keras\n",
    "from tensorflow.keras.models import Sequential"
   ]
  },
  {
   "cell_type": "code",
   "execution_count": 2,
   "metadata": {},
   "outputs": [
    {
     "name": "stdout",
     "output_type": "stream",
     "text": [
      "(828, 12, 71, 73, 1)\n",
      "(828, 71, 73, 1)\n"
     ]
    }
   ],
   "source": [
    "# 读取npy trainX和trainY\n",
    "trainX = np.load('100/trainX.npy')\n",
    "trainY = np.load('100/trainY.npy')\n",
    "print(trainX.shape)\n",
    "print(trainY.shape)\n"
   ]
  },
  {
   "cell_type": "code",
   "execution_count": 8,
   "metadata": {},
   "outputs": [
    {
     "name": "stdout",
     "output_type": "stream",
     "text": [
      "Model: \"sequential_3\"\n",
      "_________________________________________________________________\n",
      " Layer (type)                Output Shape              Param #   \n",
      "=================================================================\n",
      " conv_lstm2d_9 (ConvLSTM2D)  (None, None, 71, 73, 64)  416256    \n",
      "                                                                 \n",
      " batch_normalization_6 (Batc  (None, None, 71, 73, 64)  256      \n",
      " hNormalization)                                                 \n",
      "                                                                 \n",
      " conv_lstm2d_10 (ConvLSTM2D)  (None, None, 71, 73, 64)  295168   \n",
      "                                                                 \n",
      " batch_normalization_7 (Batc  (None, None, 71, 73, 64)  256      \n",
      " hNormalization)                                                 \n",
      "                                                                 \n",
      " conv_lstm2d_11 (ConvLSTM2D)  (None, 71, 73, 64)       33024     \n",
      "                                                                 \n",
      " conv2d_1 (Conv2D)           (None, 71, 73, 1)         577       \n",
      "                                                                 \n",
      "=================================================================\n",
      "Total params: 745,537\n",
      "Trainable params: 745,281\n",
      "Non-trainable params: 256\n",
      "_________________________________________________________________\n"
     ]
    }
   ],
   "source": [
    "model = Sequential([\n",
    "    keras.layers.ConvLSTM2D(filters=64, kernel_size=(5, 5),\n",
    "                   input_shape=(None, 71, 73, 1),\n",
    "                   padding='same', return_sequences=True),\n",
    "    keras.layers.BatchNormalization(),\n",
    "    keras.layers.ConvLSTM2D(filters=64, kernel_size=(3, 3),\n",
    "                   padding='same', return_sequences=True),\n",
    "    keras.layers.BatchNormalization(),\n",
    "    keras.layers.ConvLSTM2D(filters=64, kernel_size=(1, 1),\n",
    "                   padding='same', return_sequences=False),\n",
    "    keras.layers.Conv2D(filters=1, kernel_size=(3, 3),\n",
    "                        activation='sigmoid',\n",
    "                        padding='same')\n",
    "])\n",
    "model.compile(loss='binary_crossentropy', optimizer='adadelta')\n",
    "model.summary()\n"
   ]
  },
  {
   "cell_type": "code",
   "execution_count": 9,
   "metadata": {},
   "outputs": [
    {
     "name": "stdout",
     "output_type": "stream",
     "text": [
      "Epoch 1/50\n"
     ]
    },
    {
     "ename": "",
     "evalue": "",
     "output_type": "error",
     "traceback": [
      "\u001b[1;31mCanceled future for execute_request message before replies were done"
     ]
    },
    {
     "ename": "",
     "evalue": "",
     "output_type": "error",
     "traceback": [
      "\u001b[1;31m在当前单元格或上一个单元格中执行代码时 Kernel 崩溃。请查看单元格中的代码，以确定故障的可能原因。有关详细信息，请单击 <a href='https://aka.ms/vscodeJupyterKernelCrash'>此处</a>。有关更多详细信息，请查看 Jupyter <a href='command:jupyter.viewOutput'>log</a>。"
     ]
    }
   ],
   "source": [
    "# 定义回调\n",
    "early_stopping = keras.callbacks.EarlyStopping(monitor=\"val_loss\", patience=10)\n",
    "reduce_lr = keras.callbacks.ReduceLROnPlateau(monitor=\"val_loss\", patience=5)\n",
    "\n",
    "# 设置训练参数\n",
    "epochs = 50\n",
    "batch_size = 2\n",
    "\n",
    "# 拟合模型.\n",
    "model.fit(\n",
    "    trainX,\n",
    "    trainY,\n",
    "    batch_size=batch_size,\n",
    "    epochs=epochs,\n",
    "    validation_split=0.2,\n",
    "    callbacks=[early_stopping, reduce_lr],\n",
    ")\n",
    "model.save('100/model.h5')\n"
   ]
  }
 ],
 "metadata": {
  "kernelspec": {
   "display_name": "Innovative-practice-HHChy52D",
   "language": "python",
   "name": "python3"
  },
  "language_info": {
   "codemirror_mode": {
    "name": "ipython",
    "version": 3
   },
   "file_extension": ".py",
   "mimetype": "text/x-python",
   "name": "python",
   "nbconvert_exporter": "python",
   "pygments_lexer": "ipython3",
   "version": "3.8.6"
  },
  "orig_nbformat": 4
 },
 "nbformat": 4,
 "nbformat_minor": 2
}
