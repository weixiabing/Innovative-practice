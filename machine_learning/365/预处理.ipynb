{
 "cells": [
  {
   "cell_type": "code",
   "execution_count": 1,
   "metadata": {},
   "outputs": [],
   "source": [
    "#读取2001文件夹中的cdf文件\n",
    "\n",
    "import os\n",
    "os.environ[\"CDF_LIB\"] ='cdf/lib'\n",
    "\n",
    "import numpy as np\n",
    "\n"
   ]
  },
  {
   "cell_type": "code",
   "execution_count": 17,
   "metadata": {},
   "outputs": [
    {
     "name": "stdout",
     "output_type": "stream",
     "text": [
      "(4380, 71, 73)\n"
     ]
    }
   ],
   "source": [
    "from spacepy import pycdf\n",
    "#创建一个空的数组\n",
    "data = np.array([])\n",
    "for i in range(365):\n",
    "    cdf_file = pycdf.CDF(f'data/2001/gps{i+1}.cdf')\n",
    "    var_data = cdf_file['tecIGS']\n",
    "    #转换为numpy数组\n",
    "    datap = np.array(var_data)\n",
    "    #将datap添加到data中\n",
    "    if i == 0:\n",
    "        data = datap\n",
    "    else:\n",
    "        data = np.vstack((data,datap))\n",
    "    pycdf.CDF.close(cdf_file)\n",
    "print(data.shape)\n"
   ]
  },
  {
   "cell_type": "code",
   "execution_count": 18,
   "metadata": {},
   "outputs": [],
   "source": [
    "#保存data为npy文件\n",
    "np.save('data_365.npy',data)\n"
   ]
  },
  {
   "cell_type": "code",
   "execution_count": 28,
   "metadata": {},
   "outputs": [],
   "source": [
    "#读取npy文件\n",
    "data = np.load('../data/data_365.npy')"
   ]
  },
  {
   "cell_type": "code",
   "execution_count": 29,
   "metadata": {},
   "outputs": [
    {
     "name": "stdout",
     "output_type": "stream",
     "text": [
      "3\n"
     ]
    }
   ],
   "source": [
    "#统计data的数值分布\n",
    "count = np.count_nonzero(data > 1000)\n",
    "\n",
    "print(count)\n"
   ]
  },
  {
   "cell_type": "code",
   "execution_count": 30,
   "metadata": {},
   "outputs": [],
   "source": [
    "#将值大于1505210099的值置为线性插值\n",
    "data[data>1000] = 0"
   ]
  },
  {
   "cell_type": "code",
   "execution_count": 31,
   "metadata": {},
   "outputs": [
    {
     "name": "stdout",
     "output_type": "stream",
     "text": [
      "(4380, 71, 73)\n"
     ]
    },
    {
     "data": {
      "image/png": "[encoded data removed]",
      "text/plain": [
       "<Figure size 640x480 with 1 Axes>"
      ]
     },
     "metadata": {},
     "output_type": "display_data"
    }
   ],
   "source": [
    "print(data.shape)\n",
    "#绘制直方图\n",
    "import matplotlib.pyplot as plt\n",
    "plt.hist(data.reshape(-1,1),bins=100)\n",
    "plt.show()"
   ]
  },
  {
   "cell_type": "code",
   "execution_count": 32,
   "metadata": {},
   "outputs": [
    {
     "name": "stdout",
     "output_type": "stream",
     "text": [
      "最小值： 0.0\n",
      "最大值： 674.5\n"
     ]
    }
   ],
   "source": [
    "data_min = np.min(data)\n",
    "data_max = np.max(data)\n",
    "print(\"最小值：\",data_min)\n",
    "print(\"最大值：\",data_max)\n",
    "data_normalized = (data - data_min) / (data_max - data_min)\n",
    "\n"
   ]
  },
  {
   "cell_type": "code",
   "execution_count": 33,
   "metadata": {},
   "outputs": [
    {
     "name": "stdout",
     "output_type": "stream",
     "text": [
      "(3066, 71, 73)\n",
      "(1314, 71, 73)\n"
     ]
    }
   ],
   "source": [
    "n=int(data_normalized.shape[0]*0.7)\n",
    "trainlist=data_normalized[0:n,:,:]\n",
    "testlist=data_normalized[n:,:,:]\n",
    "print(trainlist.shape)\n",
    "print(testlist.shape)"
   ]
  },
  {
   "cell_type": "code",
   "execution_count": 34,
   "metadata": {},
   "outputs": [
    {
     "name": "stdout",
     "output_type": "stream",
     "text": [
      "(3063, 3, 71, 73, 1)\n",
      "(3063, 71, 73, 1)\n",
      "(1311, 3, 71, 73, 1)\n",
      "(1311, 71, 73, 1)\n"
     ]
    }
   ],
   "source": [
    "#滑窗\n",
    "def create_dataset(dataset, look_back):\n",
    "#这里的look_back与timestep相同\n",
    "    dataX, dataY = [], []\n",
    "    for j in range(dataset.shape[0]-look_back):\n",
    "            a = dataset[j:(j+look_back),:,:]\n",
    "            dataX.append(a)\n",
    "            dataY.append(dataset[j + look_back,:,:])\n",
    "    return np.array(dataX),np.array(dataY)\n",
    "look_back = 3\n",
    "trainX,trainY  = create_dataset(trainlist,look_back)\n",
    "testX,testY = create_dataset(testlist,look_back)\n",
    "trainX =np.reshape(trainX, (trainX.shape[0], trainX.shape[1],trainX.shape[2],trainX.shape[3],1))\n",
    "testX =np.reshape(testX, (testX.shape[0], testX.shape[1],testX.shape[2],testX.shape[3],1))\n",
    "trainY =np.reshape(trainY, (trainY.shape[0], trainY.shape[1],trainY.shape[2],1))\n",
    "testY =np.reshape(testY, (testY.shape[0], testY.shape[1],testY.shape[2],1))\n",
    "print(trainX.shape)\n",
    "print(trainY.shape)\n",
    "print(testX.shape)\n",
    "print(testY.shape)"
   ]
  },
  {
   "cell_type": "code",
   "execution_count": 28,
   "metadata": {},
   "outputs": [],
   "source": [
    "#保存数据\n",
    "np.save('trainX.npy',trainX)\n",
    "np.save('trainY.npy',trainY)\n",
    "np.save('testX.npy',testX)\n",
    "np.save('testY.npy',testY)"
   ]
  }
 ],
 "metadata": {
  "kernelspec": {
   "display_name": "Innovative-practice-HHChy52D",
   "language": "python",
   "name": "python3"
  },
  "language_info": {
   "codemirror_mode": {
    "name": "ipython",
    "version": 3
   },
   "file_extension": ".py",
   "mimetype": "text/x-python",
   "name": "python",
   "nbconvert_exporter": "python",
   "pygments_lexer": "ipython3",
   "version": "3.8.6"
  },
  "orig_nbformat": 4
 },
 "nbformat": 4,
 "nbformat_minor": 2
}
