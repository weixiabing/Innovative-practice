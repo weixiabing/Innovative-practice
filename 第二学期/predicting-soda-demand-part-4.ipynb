{
 "cells": [
  {
   "cell_type": "code",
   "execution_count": 1,
   "id": "61929299",
   "metadata": {
    "_cell_guid": "b1076dfc-b9ad-4769-8c92-a6c4dae69d19",
    "_uuid": "8f2839f25d086af736a60e9eeb907d3b93b6e0e5",
    "execution": {
     "iopub.execute_input": "2021-08-20T15:23:51.463457Z",
     "iopub.status.busy": "2021-08-20T15:23:51.462788Z",
     "iopub.status.idle": "2021-08-20T15:23:51.477031Z",
     "shell.execute_reply": "2021-08-20T15:23:51.477890Z",
     "shell.execute_reply.started": "2021-08-20T12:32:34.453672Z"
    },
    "papermill": {
     "duration": 0.050553,
     "end_time": "2021-08-20T15:23:51.478307",
     "exception": false,
     "start_time": "2021-08-20T15:23:51.427754",
     "status": "completed"
    },
    "tags": []
   },
   "outputs": [
    {
     "name": "stdout",
     "output_type": "stream",
     "text": [
      "/kaggle/input/predict-demand/train.csv\n",
      "/kaggle/input/predict-demand/test.csv\n"
     ]
    }
   ],
   "source": [
    "\n",
    "\n",
    "import numpy as np # linear algebra\n",
    "import pandas as pd # data processing, CSV file I/O (e.g. pd.read_csv)\n",
    "\n",
    "import os\n",
    "for dirname, _, filenames in os.walk('/kaggle/input'):\n",
    "    for filename in filenames:\n",
    "        print(os.path.join(dirname, filename))\n"
   ]
  },
  {
   "cell_type": "code",
   "execution_count": 2,
   "id": "daf64b08",
   "metadata": {
    "execution": {
     "iopub.execute_input": "2021-08-20T15:23:51.524983Z",
     "iopub.status.busy": "2021-08-20T15:23:51.524337Z",
     "iopub.status.idle": "2021-08-20T15:23:52.618813Z",
     "shell.execute_reply": "2021-08-20T15:23:52.618136Z",
     "shell.execute_reply.started": "2021-08-20T12:40:52.436855Z"
    },
    "papermill": {
     "duration": 1.118802,
     "end_time": "2021-08-20T15:23:52.618972",
     "exception": false,
     "start_time": "2021-08-20T15:23:51.500170",
     "status": "completed"
    },
    "tags": []
   },
   "outputs": [],
   "source": [
    "import seaborn as sns\n",
    "import matplotlib.pyplot as plt"
   ]
  },
  {
   "cell_type": "code",
   "execution_count": 3,
   "id": "4806a59b",
   "metadata": {
    "execution": {
     "iopub.execute_input": "2021-08-20T15:23:52.670269Z",
     "iopub.status.busy": "2021-08-20T15:23:52.669531Z",
     "iopub.status.idle": "2021-08-20T15:23:52.674953Z",
     "shell.execute_reply": "2021-08-20T15:23:52.674401Z",
     "shell.execute_reply.started": "2021-08-20T12:40:54.956943Z"
    },
    "papermill": {
     "duration": 0.034606,
     "end_time": "2021-08-20T15:23:52.675110",
     "exception": false,
     "start_time": "2021-08-20T15:23:52.640504",
     "status": "completed"
    },
    "tags": []
   },
   "outputs": [],
   "source": [
    "%matplotlib inline\n",
    "\n",
    "from matplotlib.pylab import rcParams\n",
    "rcParams['figure.figsize'] = 10,6"
   ]
  },
  {
   "cell_type": "code",
   "execution_count": 4,
   "id": "80b9f58f",
   "metadata": {
    "execution": {
     "iopub.execute_input": "2021-08-20T15:23:52.724091Z",
     "iopub.status.busy": "2021-08-20T15:23:52.723329Z",
     "iopub.status.idle": "2021-08-20T15:23:52.782749Z",
     "shell.execute_reply": "2021-08-20T15:23:52.782044Z",
     "shell.execute_reply.started": "2021-08-20T12:32:42.579406Z"
    },
    "papermill": {
     "duration": 0.086091,
     "end_time": "2021-08-20T15:23:52.782921",
     "exception": false,
     "start_time": "2021-08-20T15:23:52.696830",
     "status": "completed"
    },
    "tags": []
   },
   "outputs": [],
   "source": [
    "train = pd.read_csv('/kaggle/input/predict-demand/train.csv')\n",
    "test = pd.read_csv('/kaggle/input/predict-demand/test.csv')"
   ]
  },
  {
   "cell_type": "code",
   "execution_count": 5,
   "id": "87ed35e7",
   "metadata": {
    "execution": {
     "iopub.execute_input": "2021-08-20T15:23:52.837702Z",
     "iopub.status.busy": "2021-08-20T15:23:52.836762Z",
     "iopub.status.idle": "2021-08-20T15:23:52.889266Z",
     "shell.execute_reply": "2021-08-20T15:23:52.890217Z",
     "shell.execute_reply.started": "2021-08-20T12:33:02.343273Z"
    },
    "papermill": {
     "duration": 0.086073,
     "end_time": "2021-08-20T15:23:52.890506",
     "exception": false,
     "start_time": "2021-08-20T15:23:52.804433",
     "status": "completed"
    },
    "tags": []
   },
   "outputs": [
    {
     "data": {
      "text/html": [
       "<div>\n",
       "<style scoped>\n",
       "    .dataframe tbody tr th:only-of-type {\n",
       "        vertical-align: middle;\n",
       "    }\n",
       "\n",
       "    .dataframe tbody tr th {\n",
       "        vertical-align: top;\n",
       "    }\n",
       "\n",
       "    .dataframe thead th {\n",
       "        text-align: right;\n",
       "    }\n",
       "</style>\n",
       "<table border=\"1\" class=\"dataframe\">\n",
       "  <thead>\n",
       "    <tr style=\"text-align: right;\">\n",
       "      <th></th>\n",
       "      <th>id</th>\n",
       "      <th>date</th>\n",
       "      <th>city</th>\n",
       "      <th>lat</th>\n",
       "      <th>long</th>\n",
       "      <th>pop</th>\n",
       "      <th>shop</th>\n",
       "      <th>brand</th>\n",
       "      <th>container</th>\n",
       "      <th>capacity</th>\n",
       "      <th>price</th>\n",
       "      <th>quantity</th>\n",
       "    </tr>\n",
       "  </thead>\n",
       "  <tbody>\n",
       "    <tr>\n",
       "      <th>6475</th>\n",
       "      <td>6475.0</td>\n",
       "      <td>31/12/17</td>\n",
       "      <td>Athens</td>\n",
       "      <td>37.96245</td>\n",
       "      <td>23.68708</td>\n",
       "      <td>665871.0</td>\n",
       "      <td>shop_3</td>\n",
       "      <td>orange-power</td>\n",
       "      <td>plastic</td>\n",
       "      <td>1.5lt</td>\n",
       "      <td>1.02</td>\n",
       "      <td>33201.0</td>\n",
       "    </tr>\n",
       "    <tr>\n",
       "      <th>6476</th>\n",
       "      <td>6476.0</td>\n",
       "      <td>31/12/17</td>\n",
       "      <td>Larisa</td>\n",
       "      <td>39.63689</td>\n",
       "      <td>22.41761</td>\n",
       "      <td>144302.0</td>\n",
       "      <td>shop_5</td>\n",
       "      <td>orange-power</td>\n",
       "      <td>can</td>\n",
       "      <td>330ml</td>\n",
       "      <td>0.47</td>\n",
       "      <td>46971.0</td>\n",
       "    </tr>\n",
       "    <tr>\n",
       "      <th>6477</th>\n",
       "      <td>6477.0</td>\n",
       "      <td>31/12/17</td>\n",
       "      <td>Patra</td>\n",
       "      <td>38.24444</td>\n",
       "      <td>21.73444</td>\n",
       "      <td>168501.0</td>\n",
       "      <td>shop_6</td>\n",
       "      <td>adult-cola</td>\n",
       "      <td>glass</td>\n",
       "      <td>500ml</td>\n",
       "      <td>1.02</td>\n",
       "      <td>47708.0</td>\n",
       "    </tr>\n",
       "    <tr>\n",
       "      <th>6478</th>\n",
       "      <td>6478.0</td>\n",
       "      <td>31/12/17</td>\n",
       "      <td>Thessaloniki</td>\n",
       "      <td>40.64361</td>\n",
       "      <td>22.93086</td>\n",
       "      <td>353001.0</td>\n",
       "      <td>shop_4</td>\n",
       "      <td>gazoza</td>\n",
       "      <td>plastic</td>\n",
       "      <td>1.5lt</td>\n",
       "      <td>1.34</td>\n",
       "      <td>27115.0</td>\n",
       "    </tr>\n",
       "    <tr>\n",
       "      <th>6479</th>\n",
       "      <td>6479.0</td>\n",
       "      <td>31/12/17</td>\n",
       "      <td>Thessaloniki</td>\n",
       "      <td>40.64361</td>\n",
       "      <td>22.93086</td>\n",
       "      <td>353001.0</td>\n",
       "      <td>shop_4</td>\n",
       "      <td>adult-cola</td>\n",
       "      <td>glass</td>\n",
       "      <td>500ml</td>\n",
       "      <td>1.16</td>\n",
       "      <td>30413.0</td>\n",
       "    </tr>\n",
       "  </tbody>\n",
       "</table>\n",
       "</div>"
      ],
      "text/plain": [
       "          id      date          city       lat      long       pop    shop  \\\n",
       "6475  6475.0  31/12/17        Athens  37.96245  23.68708  665871.0  shop_3   \n",
       "6476  6476.0  31/12/17        Larisa  39.63689  22.41761  144302.0  shop_5   \n",
       "6477  6477.0  31/12/17         Patra  38.24444  21.73444  168501.0  shop_6   \n",
       "6478  6478.0  31/12/17  Thessaloniki  40.64361  22.93086  353001.0  shop_4   \n",
       "6479  6479.0  31/12/17  Thessaloniki  40.64361  22.93086  353001.0  shop_4   \n",
       "\n",
       "             brand container capacity  price  quantity  \n",
       "6475  orange-power   plastic    1.5lt   1.02   33201.0  \n",
       "6476  orange-power       can    330ml   0.47   46971.0  \n",
       "6477    adult-cola     glass    500ml   1.02   47708.0  \n",
       "6478        gazoza   plastic    1.5lt   1.34   27115.0  \n",
       "6479    adult-cola     glass    500ml   1.16   30413.0  "
      ]
     },
     "execution_count": 5,
     "metadata": {},
     "output_type": "execute_result"
    }
   ],
   "source": [
    "# All values after row 6479 are NaN.\n",
    "train  = train.drop(train.index[6480:])\n",
    "train.tail()"
   ]
  },
  {
   "cell_type": "code",
   "execution_count": 6,
   "id": "0aa28c17",
   "metadata": {
    "execution": {
     "iopub.execute_input": "2021-08-20T15:23:52.960146Z",
     "iopub.status.busy": "2021-08-20T15:23:52.959372Z",
     "iopub.status.idle": "2021-08-20T15:23:52.981772Z",
     "shell.execute_reply": "2021-08-20T15:23:52.981049Z",
     "shell.execute_reply.started": "2021-08-20T12:35:16.981410Z"
    },
    "papermill": {
     "duration": 0.060194,
     "end_time": "2021-08-20T15:23:52.981937",
     "exception": false,
     "start_time": "2021-08-20T15:23:52.921743",
     "status": "completed"
    },
    "tags": []
   },
   "outputs": [
    {
     "data": {
      "text/html": [
       "<div>\n",
       "<style scoped>\n",
       "    .dataframe tbody tr th:only-of-type {\n",
       "        vertical-align: middle;\n",
       "    }\n",
       "\n",
       "    .dataframe tbody tr th {\n",
       "        vertical-align: top;\n",
       "    }\n",
       "\n",
       "    .dataframe thead th {\n",
       "        text-align: right;\n",
       "    }\n",
       "</style>\n",
       "<table border=\"1\" class=\"dataframe\">\n",
       "  <thead>\n",
       "    <tr style=\"text-align: right;\">\n",
       "      <th></th>\n",
       "      <th></th>\n",
       "      <th>id</th>\n",
       "    </tr>\n",
       "    <tr>\n",
       "      <th>brand</th>\n",
       "      <th>container</th>\n",
       "      <th></th>\n",
       "    </tr>\n",
       "  </thead>\n",
       "  <tbody>\n",
       "    <tr>\n",
       "      <th rowspan=\"3\" valign=\"top\">adult-cola</th>\n",
       "      <th>can</th>\n",
       "      <td>430</td>\n",
       "    </tr>\n",
       "    <tr>\n",
       "      <th>glass</th>\n",
       "      <td>432</td>\n",
       "    </tr>\n",
       "    <tr>\n",
       "      <th>plastic</th>\n",
       "      <td>432</td>\n",
       "    </tr>\n",
       "    <tr>\n",
       "      <th rowspan=\"3\" valign=\"top\">gazoza</th>\n",
       "      <th>can</th>\n",
       "      <td>431</td>\n",
       "    </tr>\n",
       "    <tr>\n",
       "      <th>glass</th>\n",
       "      <td>429</td>\n",
       "    </tr>\n",
       "    <tr>\n",
       "      <th>plastic</th>\n",
       "      <td>431</td>\n",
       "    </tr>\n",
       "    <tr>\n",
       "      <th rowspan=\"3\" valign=\"top\">kinder-cola</th>\n",
       "      <th>can</th>\n",
       "      <td>431</td>\n",
       "    </tr>\n",
       "    <tr>\n",
       "      <th>glass</th>\n",
       "      <td>431</td>\n",
       "    </tr>\n",
       "    <tr>\n",
       "      <th>plastic</th>\n",
       "      <td>432</td>\n",
       "    </tr>\n",
       "    <tr>\n",
       "      <th rowspan=\"3\" valign=\"top\">lemon-boost</th>\n",
       "      <th>can</th>\n",
       "      <td>431</td>\n",
       "    </tr>\n",
       "    <tr>\n",
       "      <th>glass</th>\n",
       "      <td>432</td>\n",
       "    </tr>\n",
       "    <tr>\n",
       "      <th>plastic</th>\n",
       "      <td>431</td>\n",
       "    </tr>\n",
       "    <tr>\n",
       "      <th rowspan=\"3\" valign=\"top\">orange-power</th>\n",
       "      <th>can</th>\n",
       "      <td>430</td>\n",
       "    </tr>\n",
       "    <tr>\n",
       "      <th>glass</th>\n",
       "      <td>430</td>\n",
       "    </tr>\n",
       "    <tr>\n",
       "      <th>plastic</th>\n",
       "      <td>431</td>\n",
       "    </tr>\n",
       "  </tbody>\n",
       "</table>\n",
       "</div>"
      ],
      "text/plain": [
       "                         id\n",
       "brand        container     \n",
       "adult-cola   can        430\n",
       "             glass      432\n",
       "             plastic    432\n",
       "gazoza       can        431\n",
       "             glass      429\n",
       "             plastic    431\n",
       "kinder-cola  can        431\n",
       "             glass      431\n",
       "             plastic    432\n",
       "lemon-boost  can        431\n",
       "             glass      432\n",
       "             plastic    431\n",
       "orange-power can        430\n",
       "             glass      430\n",
       "             plastic    431"
      ]
     },
     "execution_count": 6,
     "metadata": {},
     "output_type": "execute_result"
    }
   ],
   "source": [
    "# See the types of sodas we have. We will only be working with Gazoza.\n",
    "pd.DataFrame(train.groupby(['brand', 'container'], axis =0, as_index=True).count()['id'])"
   ]
  },
  {
   "cell_type": "markdown",
   "id": "0a0921f6",
   "metadata": {
    "papermill": {
     "duration": 0.02488,
     "end_time": "2021-08-20T15:23:53.031917",
     "exception": false,
     "start_time": "2021-08-20T15:23:53.007037",
     "status": "completed"
    },
    "tags": []
   },
   "source": [
    "## Clean Data"
   ]
  },
  {
   "cell_type": "code",
   "execution_count": 7,
   "id": "8ce960ba",
   "metadata": {
    "execution": {
     "iopub.execute_input": "2021-08-20T15:23:53.091743Z",
     "iopub.status.busy": "2021-08-20T15:23:53.090995Z",
     "iopub.status.idle": "2021-08-20T15:23:53.136071Z",
     "shell.execute_reply": "2021-08-20T15:23:53.135287Z",
     "shell.execute_reply.started": "2021-08-20T12:33:54.702930Z"
    },
    "papermill": {
     "duration": 0.079252,
     "end_time": "2021-08-20T15:23:53.136290",
     "exception": false,
     "start_time": "2021-08-20T15:23:53.057038",
     "status": "completed"
    },
    "tags": []
   },
   "outputs": [
    {
     "name": "stdout",
     "output_type": "stream",
     "text": [
      "<class 'pandas.core.frame.DataFrame'>\n",
      "RangeIndex: 216 entries, 0 to 215\n",
      "Data columns (total 12 columns):\n",
      " #   Column     Non-Null Count  Dtype         \n",
      "---  ------     --------------  -----         \n",
      " 0   id         216 non-null    int64         \n",
      " 1   date       216 non-null    datetime64[ns]\n",
      " 2   city       216 non-null    object        \n",
      " 3   lat        213 non-null    float64       \n",
      " 4   long       211 non-null    float64       \n",
      " 5   pop        216 non-null    int64         \n",
      " 6   shop       216 non-null    object        \n",
      " 7   brand      216 non-null    object        \n",
      " 8   container  216 non-null    object        \n",
      " 9   capacity   216 non-null    float64       \n",
      " 10  price      216 non-null    float64       \n",
      " 11  quantity   216 non-null    int64         \n",
      "dtypes: datetime64[ns](1), float64(4), int64(3), object(4)\n",
      "memory usage: 20.4+ KB\n"
     ]
    }
   ],
   "source": [
    "gazoza_train = train[train['brand'] == 'gazoza'].reset_index(drop=True)\n",
    "\n",
    "# Fill in the missing contiainer types\n",
    "gazoza_train.at[340, 'container'] = 'can'\n",
    "gazoza_train.at[798, 'container'] = 'glass'\n",
    "gazoza_train.at[984, 'container'] = 'glass'\n",
    "gazoza_train.at[1214, 'container'] = 'plastic'\n",
    "gazoza_train.at[1229, 'container'] = 'glass'\n",
    "# Fill in the missing capacity types\n",
    "gazoza_train.at[368, 'capacity'] = '1.5lt'\n",
    "gazoza_train.at[648, 'capacity'] = '500ml'\n",
    "gazoza_train.at[962, 'capacity'] = '500ml'\n",
    "# Choose features\n",
    "# gazoza_train.drop(['id','shop','long','brand','container'], axis=1, inplace=True)\n",
    "gazoza_train['date'] = pd.to_datetime(gazoza_train['date'])\n",
    "# Remove the sufix of the values of the capacity column, Change into numerics\n",
    "gazoza_train['capacity'] = gazoza_train['capacity'].map(lambda x: str(x)[:-2])\n",
    "gazoza_train['capacity'] = pd.to_numeric(gazoza_train['capacity'])\n",
    "\n",
    "#----------------------\n",
    "\n",
    "gazoza_test = test[test['brand'] == 'gazoza'].reset_index(drop=True)\n",
    "# Fill in the missing capacity types\n",
    "gazoza_test.at[208, 'capacity'] = '330ml'\n",
    "gazoza_test.at[209, 'capacity'] = '500ml'\n",
    "# Choose features\n",
    "# gazoza_test.drop(['id','shop','long','brand','container'], axis=1, inplace=True)\n",
    "gazoza_test['date'] = pd.to_datetime(gazoza_test['date'])\n",
    "# Remove the sufix of the values of the capacity column, Change into numerics\n",
    "gazoza_test['capacity'] = gazoza_test['capacity'].map(lambda x: str(x)[:-2])\n",
    "gazoza_test['capacity'] = pd.to_numeric(gazoza_test['capacity'])\n",
    "\n",
    "# -----------------------\n",
    "gazoza_test.info()"
   ]
  },
  {
   "cell_type": "code",
   "execution_count": 8,
   "id": "64819eba",
   "metadata": {
    "execution": {
     "iopub.execute_input": "2021-08-20T15:23:53.197224Z",
     "iopub.status.busy": "2021-08-20T15:23:53.191903Z",
     "iopub.status.idle": "2021-08-20T15:23:53.478650Z",
     "shell.execute_reply": "2021-08-20T15:23:53.479160Z",
     "shell.execute_reply.started": "2021-08-20T12:34:08.322243Z"
    },
    "papermill": {
     "duration": 0.319073,
     "end_time": "2021-08-20T15:23:53.479380",
     "exception": false,
     "start_time": "2021-08-20T15:23:53.160307",
     "status": "completed"
    },
    "tags": []
   },
   "outputs": [],
   "source": [
    "# Fill in the missing values for lat column of training set\n",
    "gazoza_train['lat'] = gazoza_train.apply(lambda row: 37.97945 if (row['shop'] == 'shop_1') else row['lat'],axis=1)\n",
    "gazoza_train['lat'] = gazoza_train.apply(lambda row: 35.32787 if (row['shop'] == 'shop_2') else row['lat'],axis=1)\n",
    "gazoza_train['lat'] = gazoza_train.apply(lambda row: 37.96245 if (row['shop'] == 'shop_3') else row['lat'],axis=1)\n",
    "gazoza_train['lat'] = gazoza_train.apply(lambda row: 39.63689 if (row['shop'] == 'shop_5') else row['lat'],axis=1)\n",
    "gazoza_train['lat'] = gazoza_train.apply(lambda row: 38.24444 if (row['shop'] == 'shop_6') else row['lat'],axis=1)\n",
    "\n",
    "# Fill in the missing values for long column of training set\n",
    "gazoza_train['long'] = gazoza_train.apply(lambda row: 23.68708 if (row['shop'] == 'shop_3') else row['long'],axis=1)\n",
    "gazoza_train['long'] = gazoza_train.apply(lambda row: 22.93086 if (row['shop'] == 'shop_4') else row['long'],axis=1)\n",
    "gazoza_train['long'] = gazoza_train.apply(lambda row: 21.73444 if (row['shop'] == 'shop_6') else row['long'],axis=1)\n",
    "\n",
    "# Fill in the missing values for lat column of testing set\n",
    "gazoza_test['lat'] = gazoza_test.apply(lambda row: 37.96245 if (row['shop'] == 'shop_3') else row['lat'],axis=1)\n",
    "gazoza_test['lat'] = gazoza_test.apply(lambda row: 39.63689 if (row['shop'] == 'shop_5') else row['lat'],axis=1)\n",
    "\n",
    "\n",
    "# Fill in the missing values for long column of testing set\n",
    "gazoza_test['long'] = gazoza_test.apply(lambda row: 23.68708 if (row['shop'] == 'shop_3') else row['long'],axis=1)\n",
    "gazoza_test['long'] = gazoza_test.apply(lambda row: 21.73444 if (row['shop'] == 'shop_6') else row['long'],axis=1)\n",
    "gazoza_test['long'] = gazoza_test.apply(lambda row: 25.14341 if (row['shop'] == 'shop_2') else row['long'],axis=1)\n",
    "gazoza_test['long'] = gazoza_test.apply(lambda row: 23.71622 if (row['shop'] == 'shop_1') else row['long'],axis=1)\n",
    "gazoza_test['long'] = gazoza_test.apply(lambda row: 22.41761 if (row['shop'] == 'shop_5') else row['long'],axis=1)"
   ]
  },
  {
   "cell_type": "code",
   "execution_count": 9,
   "id": "e4ef4bcc",
   "metadata": {
    "execution": {
     "iopub.execute_input": "2021-08-20T15:23:53.528026Z",
     "iopub.status.busy": "2021-08-20T15:23:53.527387Z",
     "iopub.status.idle": "2021-08-20T15:23:53.543023Z",
     "shell.execute_reply": "2021-08-20T15:23:53.542345Z",
     "shell.execute_reply.started": "2021-08-20T12:34:17.745163Z"
    },
    "papermill": {
     "duration": 0.041004,
     "end_time": "2021-08-20T15:23:53.543178",
     "exception": false,
     "start_time": "2021-08-20T15:23:53.502174",
     "status": "completed"
    },
    "tags": []
   },
   "outputs": [
    {
     "name": "stdout",
     "output_type": "stream",
     "text": [
      "<class 'pandas.core.frame.DataFrame'>\n",
      "RangeIndex: 1296 entries, 0 to 1295\n",
      "Data columns (total 12 columns):\n",
      " #   Column     Non-Null Count  Dtype         \n",
      "---  ------     --------------  -----         \n",
      " 0   id         1296 non-null   float64       \n",
      " 1   date       1296 non-null   datetime64[ns]\n",
      " 2   city       1296 non-null   object        \n",
      " 3   lat        1296 non-null   float64       \n",
      " 4   long       1296 non-null   float64       \n",
      " 5   pop        1296 non-null   float64       \n",
      " 6   shop       1296 non-null   object        \n",
      " 7   brand      1296 non-null   object        \n",
      " 8   container  1296 non-null   object        \n",
      " 9   capacity   1296 non-null   float64       \n",
      " 10  price      1296 non-null   float64       \n",
      " 11  quantity   1296 non-null   float64       \n",
      "dtypes: datetime64[ns](1), float64(7), object(4)\n",
      "memory usage: 121.6+ KB\n"
     ]
    }
   ],
   "source": [
    "gazoza_train.info()"
   ]
  },
  {
   "cell_type": "code",
   "execution_count": 10,
   "id": "43be721d",
   "metadata": {
    "execution": {
     "iopub.execute_input": "2021-08-20T15:23:53.606465Z",
     "iopub.status.busy": "2021-08-20T15:23:53.605779Z",
     "iopub.status.idle": "2021-08-20T15:23:53.609638Z",
     "shell.execute_reply": "2021-08-20T15:23:53.610172Z",
     "shell.execute_reply.started": "2021-08-20T12:34:30.905298Z"
    },
    "papermill": {
     "duration": 0.043915,
     "end_time": "2021-08-20T15:23:53.610385",
     "exception": false,
     "start_time": "2021-08-20T15:23:53.566470",
     "status": "completed"
    },
    "tags": []
   },
   "outputs": [
    {
     "name": "stdout",
     "output_type": "stream",
     "text": [
      "<class 'pandas.core.frame.DataFrame'>\n",
      "RangeIndex: 216 entries, 0 to 215\n",
      "Data columns (total 12 columns):\n",
      " #   Column     Non-Null Count  Dtype         \n",
      "---  ------     --------------  -----         \n",
      " 0   id         216 non-null    int64         \n",
      " 1   date       216 non-null    datetime64[ns]\n",
      " 2   city       216 non-null    object        \n",
      " 3   lat        216 non-null    float64       \n",
      " 4   long       216 non-null    float64       \n",
      " 5   pop        216 non-null    int64         \n",
      " 6   shop       216 non-null    object        \n",
      " 7   brand      216 non-null    object        \n",
      " 8   container  216 non-null    object        \n",
      " 9   capacity   216 non-null    float64       \n",
      " 10  price      216 non-null    float64       \n",
      " 11  quantity   216 non-null    int64         \n",
      "dtypes: datetime64[ns](1), float64(4), int64(3), object(4)\n",
      "memory usage: 20.4+ KB\n"
     ]
    }
   ],
   "source": [
    "gazoza_test.info()"
   ]
  },
  {
   "cell_type": "code",
   "execution_count": 11,
   "id": "38c7de4d",
   "metadata": {
    "execution": {
     "iopub.execute_input": "2021-08-20T15:23:53.671751Z",
     "iopub.status.busy": "2021-08-20T15:23:53.670431Z",
     "iopub.status.idle": "2021-08-20T15:23:53.708248Z",
     "shell.execute_reply": "2021-08-20T15:23:53.707339Z",
     "shell.execute_reply.started": "2021-08-20T12:36:55.825286Z"
    },
    "papermill": {
     "duration": 0.074654,
     "end_time": "2021-08-20T15:23:53.708479",
     "exception": false,
     "start_time": "2021-08-20T15:23:53.633825",
     "status": "completed"
    },
    "tags": []
   },
   "outputs": [],
   "source": [
    "# Convert the leters to ml\n",
    "\n",
    "to_scale_index = gazoza_train[gazoza_train['capacity'] == 1.5]['capacity'].index\n",
    "for x in to_scale_index:\n",
    "    gazoza_train.at[x, 'capacity'] = gazoza_train.at[x, 'capacity'] * 1000\n",
    "    \n",
    "to_scale_index = gazoza_test[gazoza_test['capacity'] == 1.5]['capacity'].index\n",
    "for x in to_scale_index:\n",
    "    gazoza_test.at[x, 'capacity'] = gazoza_test.at[x, 'capacity'] * 1000"
   ]
  },
  {
   "cell_type": "code",
   "execution_count": 12,
   "id": "00f8f643",
   "metadata": {
    "execution": {
     "iopub.execute_input": "2021-08-20T15:23:53.780984Z",
     "iopub.status.busy": "2021-08-20T15:23:53.780088Z",
     "iopub.status.idle": "2021-08-20T15:23:53.796376Z",
     "shell.execute_reply": "2021-08-20T15:23:53.796912Z",
     "shell.execute_reply.started": "2021-08-20T12:39:18.820169Z"
    },
    "papermill": {
     "duration": 0.058427,
     "end_time": "2021-08-20T15:23:53.797111",
     "exception": false,
     "start_time": "2021-08-20T15:23:53.738684",
     "status": "completed"
    },
    "tags": []
   },
   "outputs": [
    {
     "data": {
      "text/html": [
       "<div>\n",
       "<style scoped>\n",
       "    .dataframe tbody tr th:only-of-type {\n",
       "        vertical-align: middle;\n",
       "    }\n",
       "\n",
       "    .dataframe tbody tr th {\n",
       "        vertical-align: top;\n",
       "    }\n",
       "\n",
       "    .dataframe thead th {\n",
       "        text-align: right;\n",
       "    }\n",
       "</style>\n",
       "<table border=\"1\" class=\"dataframe\">\n",
       "  <thead>\n",
       "    <tr style=\"text-align: right;\">\n",
       "      <th></th>\n",
       "      <th>id</th>\n",
       "      <th>date</th>\n",
       "      <th>city</th>\n",
       "      <th>lat</th>\n",
       "      <th>long</th>\n",
       "      <th>pop</th>\n",
       "      <th>shop</th>\n",
       "      <th>brand</th>\n",
       "      <th>container</th>\n",
       "      <th>capacity</th>\n",
       "      <th>price</th>\n",
       "      <th>quantity</th>\n",
       "    </tr>\n",
       "  </thead>\n",
       "  <tbody>\n",
       "    <tr>\n",
       "      <th>0</th>\n",
       "      <td>6485</td>\n",
       "      <td>2018-01-31</td>\n",
       "      <td>Athens</td>\n",
       "      <td>37.97945</td>\n",
       "      <td>23.71622</td>\n",
       "      <td>664046</td>\n",
       "      <td>shop_1</td>\n",
       "      <td>gazoza</td>\n",
       "      <td>glass</td>\n",
       "      <td>500.0</td>\n",
       "      <td>0.77</td>\n",
       "      <td>24297</td>\n",
       "    </tr>\n",
       "    <tr>\n",
       "      <th>1</th>\n",
       "      <td>6486</td>\n",
       "      <td>2018-01-31</td>\n",
       "      <td>Athens</td>\n",
       "      <td>37.97945</td>\n",
       "      <td>23.71622</td>\n",
       "      <td>664046</td>\n",
       "      <td>shop_1</td>\n",
       "      <td>gazoza</td>\n",
       "      <td>plastic</td>\n",
       "      <td>1500.0</td>\n",
       "      <td>1.22</td>\n",
       "      <td>21295</td>\n",
       "    </tr>\n",
       "    <tr>\n",
       "      <th>2</th>\n",
       "      <td>6487</td>\n",
       "      <td>2018-01-31</td>\n",
       "      <td>Athens</td>\n",
       "      <td>37.97945</td>\n",
       "      <td>23.71622</td>\n",
       "      <td>664046</td>\n",
       "      <td>shop_1</td>\n",
       "      <td>gazoza</td>\n",
       "      <td>can</td>\n",
       "      <td>330.0</td>\n",
       "      <td>0.28</td>\n",
       "      <td>38107</td>\n",
       "    </tr>\n",
       "    <tr>\n",
       "      <th>3</th>\n",
       "      <td>6496</td>\n",
       "      <td>2018-01-31</td>\n",
       "      <td>Irakleion</td>\n",
       "      <td>35.32787</td>\n",
       "      <td>25.14341</td>\n",
       "      <td>137154</td>\n",
       "      <td>shop_2</td>\n",
       "      <td>gazoza</td>\n",
       "      <td>plastic</td>\n",
       "      <td>1500.0</td>\n",
       "      <td>1.27</td>\n",
       "      <td>26491</td>\n",
       "    </tr>\n",
       "    <tr>\n",
       "      <th>4</th>\n",
       "      <td>6508</td>\n",
       "      <td>2018-01-31</td>\n",
       "      <td>Patra</td>\n",
       "      <td>38.24444</td>\n",
       "      <td>21.73444</td>\n",
       "      <td>168034</td>\n",
       "      <td>shop_6</td>\n",
       "      <td>gazoza</td>\n",
       "      <td>plastic</td>\n",
       "      <td>1500.0</td>\n",
       "      <td>1.43</td>\n",
       "      <td>25790</td>\n",
       "    </tr>\n",
       "  </tbody>\n",
       "</table>\n",
       "</div>"
      ],
      "text/plain": [
       "     id       date       city       lat      long     pop    shop   brand  \\\n",
       "0  6485 2018-01-31     Athens  37.97945  23.71622  664046  shop_1  gazoza   \n",
       "1  6486 2018-01-31     Athens  37.97945  23.71622  664046  shop_1  gazoza   \n",
       "2  6487 2018-01-31     Athens  37.97945  23.71622  664046  shop_1  gazoza   \n",
       "3  6496 2018-01-31  Irakleion  35.32787  25.14341  137154  shop_2  gazoza   \n",
       "4  6508 2018-01-31      Patra  38.24444  21.73444  168034  shop_6  gazoza   \n",
       "\n",
       "  container  capacity  price  quantity  \n",
       "0     glass     500.0   0.77     24297  \n",
       "1   plastic    1500.0   1.22     21295  \n",
       "2       can     330.0   0.28     38107  \n",
       "3   plastic    1500.0   1.27     26491  \n",
       "4   plastic    1500.0   1.43     25790  "
      ]
     },
     "execution_count": 12,
     "metadata": {},
     "output_type": "execute_result"
    }
   ],
   "source": [
    "gazoza_test.head()"
   ]
  },
  {
   "cell_type": "code",
   "execution_count": 13,
   "id": "eac5fb2f",
   "metadata": {
    "execution": {
     "iopub.execute_input": "2021-08-20T15:23:53.855728Z",
     "iopub.status.busy": "2021-08-20T15:23:53.854877Z",
     "iopub.status.idle": "2021-08-20T15:23:53.860946Z",
     "shell.execute_reply": "2021-08-20T15:23:53.860365Z",
     "shell.execute_reply.started": "2021-08-20T12:51:03.129506Z"
    },
    "papermill": {
     "duration": 0.039208,
     "end_time": "2021-08-20T15:23:53.861104",
     "exception": false,
     "start_time": "2021-08-20T15:23:53.821896",
     "status": "completed"
    },
    "tags": []
   },
   "outputs": [
    {
     "data": {
      "text/plain": [
       "array(['Athens', 'Irakleion', 'Patra', 'Thessaloniki', 'Larisa'],\n",
       "      dtype=object)"
      ]
     },
     "execution_count": 13,
     "metadata": {},
     "output_type": "execute_result"
    }
   ],
   "source": [
    "gazoza_test['city'].unique()"
   ]
  },
  {
   "cell_type": "code",
   "execution_count": 14,
   "id": "fdb86964",
   "metadata": {
    "execution": {
     "iopub.execute_input": "2021-08-20T15:23:53.939231Z",
     "iopub.status.busy": "2021-08-20T15:23:53.934679Z",
     "iopub.status.idle": "2021-08-20T15:23:56.887509Z",
     "shell.execute_reply": "2021-08-20T15:23:56.886947Z",
     "shell.execute_reply.started": "2021-08-20T12:44:33.599437Z"
    },
    "papermill": {
     "duration": 3.000607,
     "end_time": "2021-08-20T15:23:56.887670",
     "exception": false,
     "start_time": "2021-08-20T15:23:53.887063",
     "status": "completed"
    },
    "tags": []
   },
   "outputs": [
    {
     "data": {
      "text/plain": [
       "<seaborn.axisgrid.FacetGrid at 0x7f7e20fb69d0>"
      ]
     },
     "execution_count": 14,
     "metadata": {},
     "output_type": "execute_result"
    },
    {
     "data": {
      "image/png": "[encoded data removed]",
      "text/plain": [
       "<Figure size 1870.75x360 with 5 Axes>"
      ]
     },
     "metadata": {
      "needs_background": "light"
     },
     "output_type": "display_data"
    }
   ],
   "source": [
    "sns.displot(gazoza_train, x = 'quantity', col = 'city', hue = 'capacity')"
   ]
  },
  {
   "cell_type": "code",
   "execution_count": 15,
   "id": "ace296c1",
   "metadata": {
    "execution": {
     "iopub.execute_input": "2021-08-20T15:23:56.951430Z",
     "iopub.status.busy": "2021-08-20T15:23:56.946040Z",
     "iopub.status.idle": "2021-08-20T15:23:56.980563Z",
     "shell.execute_reply": "2021-08-20T15:23:56.981110Z",
     "shell.execute_reply.started": "2021-08-20T12:56:32.500187Z"
    },
    "papermill": {
     "duration": 0.067137,
     "end_time": "2021-08-20T15:23:56.981317",
     "exception": false,
     "start_time": "2021-08-20T15:23:56.914180",
     "status": "completed"
    },
    "tags": []
   },
   "outputs": [
    {
     "name": "stdout",
     "output_type": "stream",
     "text": [
      "Athens glass\n",
      "Athens plastic\n",
      "Athens can\n",
      "Irakleion glass\n",
      "Irakleion plastic\n",
      "Irakleion can\n",
      "Patra glass\n",
      "Patra plastic\n",
      "Patra can\n",
      "Thessaloniki glass\n",
      "Thessaloniki plastic\n",
      "Thessaloniki can\n",
      "Larisa glass\n",
      "Larisa plastic\n",
      "Larisa can\n"
     ]
    }
   ],
   "source": [
    "# Diaggregate the data by city and container type\n",
    "disaggreg_data = []\n",
    "\n",
    "for city in gazoza_train['city'].unique():\n",
    "    for container in gazoza_train['container'].unique():\n",
    "        disaggreg_data.append(gazoza_train[(gazoza_train['city'] == city) & (gazoza_train['container'] == container)])\n",
    "        print(city,container)"
   ]
  },
  {
   "cell_type": "code",
   "execution_count": 16,
   "id": "890638d3",
   "metadata": {
    "execution": {
     "iopub.execute_input": "2021-08-20T15:23:57.043820Z",
     "iopub.status.busy": "2021-08-20T15:23:57.043139Z",
     "iopub.status.idle": "2021-08-20T15:23:57.046446Z",
     "shell.execute_reply": "2021-08-20T15:23:57.045850Z",
     "shell.execute_reply.started": "2021-08-20T13:07:14.869407Z"
    },
    "papermill": {
     "duration": 0.038481,
     "end_time": "2021-08-20T15:23:57.046596",
     "exception": false,
     "start_time": "2021-08-20T15:23:57.008115",
     "status": "completed"
    },
    "tags": []
   },
   "outputs": [],
   "source": [
    "df_AG = pd.DataFrame(disaggreg_data[0])\n",
    "df_AP = pd.DataFrame(disaggreg_data[1])\n",
    "df_AC = pd.DataFrame(disaggreg_data[2])\n",
    "df_IG = pd.DataFrame(disaggreg_data[3])\n",
    "df_IP = pd.DataFrame(disaggreg_data[4])\n",
    "df_IC = pd.DataFrame(disaggreg_data[5])\n",
    "df_PG = pd.DataFrame(disaggreg_data[6])\n",
    "df_PP = pd.DataFrame(disaggreg_data[7])\n",
    "df_PC = pd.DataFrame(disaggreg_data[8])\n",
    "df_TG = pd.DataFrame(disaggreg_data[9])\n",
    "df_TP = pd.DataFrame(disaggreg_data[10])\n",
    "df_TC = pd.DataFrame(disaggreg_data[11])\n",
    "df_LG = pd.DataFrame(disaggreg_data[12])\n",
    "df_LP = pd.DataFrame(disaggreg_data[13])\n",
    "df_LC = pd.DataFrame(disaggreg_data[14])"
   ]
  },
  {
   "cell_type": "code",
   "execution_count": 17,
   "id": "b70deb29",
   "metadata": {
    "execution": {
     "iopub.execute_input": "2021-08-20T15:23:57.104169Z",
     "iopub.status.busy": "2021-08-20T15:23:57.103480Z",
     "iopub.status.idle": "2021-08-20T15:23:57.362001Z",
     "shell.execute_reply": "2021-08-20T15:23:57.361381Z",
     "shell.execute_reply.started": "2021-08-20T13:21:18.899620Z"
    },
    "papermill": {
     "duration": 0.289295,
     "end_time": "2021-08-20T15:23:57.362172",
     "exception": false,
     "start_time": "2021-08-20T15:23:57.072877",
     "status": "completed"
    },
    "tags": []
   },
   "outputs": [],
   "source": [
    "from statsmodels.tsa.seasonal import seasonal_decompose\n",
    "from statsmodels.tsa.stattools import acf, pacf\n",
    "from statsmodels.tsa.arima_model import ARIMA"
   ]
  },
  {
   "cell_type": "code",
   "execution_count": 18,
   "id": "2571177f",
   "metadata": {
    "execution": {
     "iopub.execute_input": "2021-08-20T15:23:57.425347Z",
     "iopub.status.busy": "2021-08-20T15:23:57.424297Z",
     "iopub.status.idle": "2021-08-20T15:23:57.427438Z",
     "shell.execute_reply": "2021-08-20T15:23:57.426813Z",
     "shell.execute_reply.started": "2021-08-20T13:43:19.568762Z"
    },
    "papermill": {
     "duration": 0.039085,
     "end_time": "2021-08-20T15:23:57.427586",
     "exception": false,
     "start_time": "2021-08-20T15:23:57.388501",
     "status": "completed"
    },
    "tags": []
   },
   "outputs": [],
   "source": [
    "# this method comples a time series analysis and returns the forecast for the next 12 months\n",
    "def tsa_method(gazoza_train):\n",
    "    qty = pd.DataFrame(gazoza_train.groupby(['date'], axis =0, as_index=True).sum()['quantity'])\n",
    "    qty_test = pd.DataFrame(gazoza_test.groupby(['date'], axis =0, as_index=True).sum()['quantity'])\n",
    "    print(qty.shape)\n",
    "    qty_log = np.log(qty)\n",
    "    desomposition = seasonal_decompose(qty_log)\n",
    "    trend = desomposition.trend\n",
    "    seasonal = desomposition.seasonal\n",
    "    resedual = desomposition.resid\n",
    "    decomposedLogData = resedual\n",
    "    decomposedLogData.dropna(inplace = True)\n",
    "    dataLogDiffShifting = qty_log - qty_log.shift()\n",
    "    dataLogDiffShifting.dropna(inplace=True)\n",
    "    lag_acf = acf(dataLogDiffShifting, nlags = 4)\n",
    "    lag_pacf = pacf(dataLogDiffShifting, nlags = 4, method = 'ols') # ordinary least square\n",
    "    model = ARIMA(qty_log, order = (2,1,2)) #P, d, Q values\n",
    "    results_ARIMA = model.fit(disp = -1)\n",
    "    #predictions_ARIMA_diff = pd.Series(results_AR.fittedvalues, copy = True)\n",
    "    forecast_18 = pd.Series(results_ARIMA.forecast(steps=12)[0])\n",
    "    forecast_18.index = qty_test.index\n",
    "    \n",
    "    return forecast_18\n",
    "    "
   ]
  },
  {
   "cell_type": "code",
   "execution_count": 19,
   "id": "c76d72e3",
   "metadata": {
    "execution": {
     "iopub.execute_input": "2021-08-20T15:23:57.497556Z",
     "iopub.status.busy": "2021-08-20T15:23:57.496568Z",
     "iopub.status.idle": "2021-08-20T15:23:57.499702Z",
     "shell.execute_reply": "2021-08-20T15:23:57.499139Z",
     "shell.execute_reply.started": "2021-08-20T13:43:21.214868Z"
    },
    "papermill": {
     "duration": 0.046584,
     "end_time": "2021-08-20T15:23:57.499840",
     "exception": false,
     "start_time": "2021-08-20T15:23:57.453256",
     "status": "completed"
    },
    "tags": []
   },
   "outputs": [],
   "source": [
    "NN_pred = [27995.53125, 23516.5625, 43323.83203125, 29774.40234375, 33537.34765625, 70139.9453125, 43992.3203125, 52559.10546875, 28519.216796875, 41201.68359375, 37230.76171875, 28008.6328125, 15068.306640625, 53544.8515625, 27877.029296875, 55124.234375, 46199.5234375, 37970.35546875, 20397.423828125, 17169.49609375, 24014.318359375, 30734.091796875, 19227.01953125, 35711.67578125, 43398.37109375, 24988.18359375, 49291.14453125, 33905.75390625, 21092.140625, 18523.40625, 8996.20703125, 32146.455078125, 13686.7841796875, 14233.4130859375, 27304.142578125, 46164.00390625, 31509.890625, 26958.54296875, 38854.87109375, 38880.48828125, 35190.87109375, 49890.19140625, 71913.0625, 40483.1875, 34886.7421875, 19460.2265625, 37590.765625, 31629.5234375, 38371.40234375, 34561.57421875, 55011.75, 58391.1875, 23737.64453125, 45129.44140625, 25710.375, 33765.53515625, 34778.96875, 31293.46484375, 47564.203125, 37007.83203125, 33198.61328125, 31615.2265625, 30672.3203125, 16498.169921875, 25355.603515625, 38380.02734375, 19921.14453125, 15839.169921875, 52092.11328125, 52734.98046875, 66335.6875, 38484.32421875, 33439.15234375, 21001.66796875, 42554.59765625, 35852.05859375, 50307.07421875, 50665.0, 69231.234375, 42383.16015625, 26663.25, 53392.8671875, 28573.515625, 34009.9453125, 39956.50390625, 26632.994140625, 37432.921875, 41723.14453125, 49404.46875, 45379.0546875, 26688.580078125, 37427.03125, 37474.4921875, 24938.96484375, 48030.3046875, 43909.546875, 29060.2109375, 67551.9375, 50301.796875, 23725.052734375, 13720.724609375, 33999.34375, 28512.76953125, 10637.6240234375, 39149.33203125, 25444.76171875, 30374.298828125, 35924.77734375, 31564.185546875, 29570.2890625, 40910.09375, 26785.978515625, 53981.1875, 52303.34375, 35203.890625, 69333.734375, 42392.890625, 37152.0234375, 58010.87890625, 32404.88671875, 29477.134765625, 44852.078125, 26087.58203125, 41751.3203125, 49078.78515625, 20083.494140625, 32528.818359375, 43357.875, 44197.8046875, 33356.62890625, 45851.48828125, 71055.59375, 43619.21484375, 42871.9375, 30516.349609375, 32907.0078125, 41599.7109375, 21804.482421875, 21607.615234375, 57112.26953125, 40662.93359375, 34989.27734375, 54343.9765625, 52764.5859375, 31167.564453125, 39070.9609375, 47230.59375, 37018.05078125, 38778.203125, 28512.91015625, 27252.984375, 42987.33203125, 26270.578125, 24253.88671875, 40682.4296875, 41081.109375, 51537.83984375, 25260.09765625, 64921.359375, 13649.220703125, 50031.4375, 19499.998046875, 27483.662109375, 19638.134765625, 39703.21875, 41357.453125, 24828.607421875, 55624.38671875, 56818.8671875, 44787.83984375, 75056.171875, 46479.01171875, 40996.97265625, 53417.18359375, 29909.45703125, 21538.673828125, 41609.44140625, 35022.06640625, 26955.34375, 44190.3828125, 30243.65625, 23796.41796875, 34811.61328125, 43152.23046875, 51311.85546875, 53467.75, 41293.0859375, 70035.671875, 39494.1171875, 29174.099609375, 58109.79296875, 32986.46875, 27690.654296875, 40554.1328125, 28288.490234375, 37389.99609375, 14594.43359375, 18129.9140625, 35436.28515625, 26497.876953125, 46253.0234375, 39117.265625, 56855.5703125, 55177.7265625, 44436.01953125, 71817.46875, 46895.90234375, 36585.85546875, 58718.1640625, 37862.078125, 16612.62890625, 41212.01171875, 34686.59375, 26125.1171875, 46643.03125, 49484.62890625]\n",
    "NN_comp = pd.Series(NN_pred, index = gazoza_test['date'])"
   ]
  },
  {
   "cell_type": "code",
   "execution_count": 20,
   "id": "0df034ba",
   "metadata": {
    "execution": {
     "iopub.execute_input": "2021-08-20T15:23:57.555109Z",
     "iopub.status.busy": "2021-08-20T15:23:57.554110Z",
     "iopub.status.idle": "2021-08-20T15:23:59.024247Z",
     "shell.execute_reply": "2021-08-20T15:23:59.023738Z",
     "shell.execute_reply.started": "2021-08-20T13:43:22.379094Z"
    },
    "papermill": {
     "duration": 1.49909,
     "end_time": "2021-08-20T15:23:59.024386",
     "exception": false,
     "start_time": "2021-08-20T15:23:57.525296",
     "status": "completed"
    },
    "tags": []
   },
   "outputs": [
    {
     "name": "stderr",
     "output_type": "stream",
     "text": [
      "/opt/conda/lib/python3.7/site-packages/ipykernel_launcher.py:1: UserWarning: Boolean Series key will be reindexed to match DataFrame index.\n",
      "  \"\"\"Entry point for launching an IPython kernel.\n",
      "/opt/conda/lib/python3.7/site-packages/statsmodels/tsa/stattools.py:671: FutureWarning: fft=True will become the default after the release of the 0.12 release of statsmodels. To suppress this warning, explicitly set fft=False.\n",
      "  FutureWarning,\n",
      "/opt/conda/lib/python3.7/site-packages/statsmodels/tsa/arima_model.py:472: FutureWarning: \n",
      "statsmodels.tsa.arima_model.ARMA and statsmodels.tsa.arima_model.ARIMA have\n",
      "been deprecated in favor of statsmodels.tsa.arima.model.ARIMA (note the .\n",
      "between arima and model) and\n",
      "statsmodels.tsa.SARIMAX. These will be removed after the 0.12 release.\n",
      "\n",
      "statsmodels.tsa.arima.model.ARIMA makes use of the statespace framework and\n",
      "is both well tested and maintained.\n",
      "\n",
      "To silence this warning and continue using ARMA and ARIMA until they are\n",
      "removed, use:\n",
      "\n",
      "import warnings\n",
      "warnings.filterwarnings('ignore', 'statsmodels.tsa.arima_model.ARMA',\n",
      "                        FutureWarning)\n",
      "warnings.filterwarnings('ignore', 'statsmodels.tsa.arima_model.ARIMA',\n",
      "                        FutureWarning)\n",
      "\n",
      "  warnings.warn(ARIMA_DEPRECATION_WARN, FutureWarning)\n",
      "/opt/conda/lib/python3.7/site-packages/statsmodels/tsa/base/tsa_model.py:527: ValueWarning: No frequency information was provided, so inferred frequency M will be used.\n",
      "  % freq, ValueWarning)\n",
      "/opt/conda/lib/python3.7/site-packages/statsmodels/tsa/base/tsa_model.py:527: ValueWarning: No frequency information was provided, so inferred frequency M will be used.\n",
      "  % freq, ValueWarning)\n"
     ]
    },
    {
     "name": "stdout",
     "output_type": "stream",
     "text": [
      "(72, 1)\n"
     ]
    },
    {
     "name": "stderr",
     "output_type": "stream",
     "text": [
      "/opt/conda/lib/python3.7/site-packages/statsmodels/tsa/tsatools.py:701: RuntimeWarning: overflow encountered in exp\n",
      "  newparams = ((1-np.exp(-params))/(1+np.exp(-params))).copy()\n",
      "/opt/conda/lib/python3.7/site-packages/statsmodels/tsa/tsatools.py:701: RuntimeWarning: invalid value encountered in true_divide\n",
      "  newparams = ((1-np.exp(-params))/(1+np.exp(-params))).copy()\n",
      "/opt/conda/lib/python3.7/site-packages/statsmodels/tsa/tsatools.py:702: RuntimeWarning: overflow encountered in exp\n",
      "  tmp = ((1-np.exp(-params))/(1+np.exp(-params))).copy()\n",
      "/opt/conda/lib/python3.7/site-packages/statsmodels/tsa/tsatools.py:702: RuntimeWarning: invalid value encountered in true_divide\n",
      "  tmp = ((1-np.exp(-params))/(1+np.exp(-params))).copy()\n",
      "/opt/conda/lib/python3.7/site-packages/statsmodels/base/model.py:548: HessianInversionWarning: Inverting hessian failed, no bse or cov_params available\n",
      "  'available', HessianInversionWarning)\n",
      "/opt/conda/lib/python3.7/site-packages/statsmodels/tsa/arima_model.py:472: FutureWarning: \n",
      "statsmodels.tsa.arima_model.ARMA and statsmodels.tsa.arima_model.ARIMA have\n",
      "been deprecated in favor of statsmodels.tsa.arima.model.ARIMA (note the .\n",
      "between arima and model) and\n",
      "statsmodels.tsa.SARIMAX. These will be removed after the 0.12 release.\n",
      "\n",
      "statsmodels.tsa.arima.model.ARIMA makes use of the statespace framework and\n",
      "is both well tested and maintained.\n",
      "\n",
      "To silence this warning and continue using ARMA and ARIMA until they are\n",
      "removed, use:\n",
      "\n",
      "import warnings\n",
      "warnings.filterwarnings('ignore', 'statsmodels.tsa.arima_model.ARMA',\n",
      "                        FutureWarning)\n",
      "warnings.filterwarnings('ignore', 'statsmodels.tsa.arima_model.ARIMA',\n",
      "                        FutureWarning)\n",
      "\n",
      "  warnings.warn(ARIMA_DEPRECATION_WARN, FutureWarning)\n"
     ]
    },
    {
     "data": {
      "text/plain": [
       "Text(0, 0.5, 'Quantity Sold')"
      ]
     },
     "execution_count": 20,
     "metadata": {},
     "output_type": "execute_result"
    },
    {
     "data": {
      "image/png": "[encoded data removed]",
      "text/plain": [
       "<Figure size 720x432 with 1 Axes>"
      ]
     },
     "metadata": {
      "needs_background": "light"
     },
     "output_type": "display_data"
    }
   ],
   "source": [
    "df_AG_test = gazoza_test[(gazoza_test['city'] == 'Athens') & (gazoza_train['container'] == 'glass')]\n",
    "qty_AG_test = pd.DataFrame(df_AG_test.groupby(['date'], axis =0, as_index=True).sum()['quantity'])\n",
    "\n",
    "plt.plot(qty_AG_test, label = \"2018 Test Data\")\n",
    "plt.plot(np.exp(tsa_method(df_AG)), label = \"2018 Forecast\")\n",
    "# plt.plot(np.exp(low_bound), linestyle = '--', color ='gray', label = '95% Confidence Interval')\n",
    "# plt.plot(np.exp(high_bound), linestyle = '--', color ='gray')\n",
    "plt.legend(loc='best')\n",
    "plt.title(\"2018 Forecast vs 2018 Test for Glass Bottles in Athens\")\n",
    "plt.xlabel(\"Date\")\n",
    "plt.ylabel(\"Quantity Sold\")"
   ]
  },
  {
   "cell_type": "code",
   "execution_count": 21,
   "id": "011377b6",
   "metadata": {
    "collapsed": true,
    "execution": {
     "iopub.execute_input": "2021-08-20T15:23:59.098587Z",
     "iopub.status.busy": "2021-08-20T15:23:59.096764Z",
     "iopub.status.idle": "2021-08-20T15:24:05.115453Z",
     "shell.execute_reply": "2021-08-20T15:24:05.115990Z",
     "shell.execute_reply.started": "2021-08-20T14:03:22.545609Z"
    },
    "jupyter": {
     "outputs_hidden": true
    },
    "papermill": {
     "duration": 6.062886,
     "end_time": "2021-08-20T15:24:05.116172",
     "exception": false,
     "start_time": "2021-08-20T15:23:59.053286",
     "status": "completed"
    },
    "tags": []
   },
   "outputs": [
    {
     "name": "stdout",
     "output_type": "stream",
     "text": [
      "(72, 1)\n"
     ]
    },
    {
     "name": "stderr",
     "output_type": "stream",
     "text": [
      "/opt/conda/lib/python3.7/site-packages/statsmodels/tsa/stattools.py:671: FutureWarning: fft=True will become the default after the release of the 0.12 release of statsmodels. To suppress this warning, explicitly set fft=False.\n",
      "  FutureWarning,\n",
      "/opt/conda/lib/python3.7/site-packages/statsmodels/tsa/arima_model.py:472: FutureWarning: \n",
      "statsmodels.tsa.arima_model.ARMA and statsmodels.tsa.arima_model.ARIMA have\n",
      "been deprecated in favor of statsmodels.tsa.arima.model.ARIMA (note the .\n",
      "between arima and model) and\n",
      "statsmodels.tsa.SARIMAX. These will be removed after the 0.12 release.\n",
      "\n",
      "statsmodels.tsa.arima.model.ARIMA makes use of the statespace framework and\n",
      "is both well tested and maintained.\n",
      "\n",
      "To silence this warning and continue using ARMA and ARIMA until they are\n",
      "removed, use:\n",
      "\n",
      "import warnings\n",
      "warnings.filterwarnings('ignore', 'statsmodels.tsa.arima_model.ARMA',\n",
      "                        FutureWarning)\n",
      "warnings.filterwarnings('ignore', 'statsmodels.tsa.arima_model.ARIMA',\n",
      "                        FutureWarning)\n",
      "\n",
      "  warnings.warn(ARIMA_DEPRECATION_WARN, FutureWarning)\n",
      "/opt/conda/lib/python3.7/site-packages/statsmodels/tsa/base/tsa_model.py:527: ValueWarning: No frequency information was provided, so inferred frequency M will be used.\n",
      "  % freq, ValueWarning)\n",
      "/opt/conda/lib/python3.7/site-packages/statsmodels/tsa/base/tsa_model.py:527: ValueWarning: No frequency information was provided, so inferred frequency M will be used.\n",
      "  % freq, ValueWarning)\n",
      "/opt/conda/lib/python3.7/site-packages/statsmodels/tsa/tsatools.py:701: RuntimeWarning: overflow encountered in exp\n",
      "  newparams = ((1-np.exp(-params))/(1+np.exp(-params))).copy()\n",
      "/opt/conda/lib/python3.7/site-packages/statsmodels/tsa/tsatools.py:701: RuntimeWarning: invalid value encountered in true_divide\n",
      "  newparams = ((1-np.exp(-params))/(1+np.exp(-params))).copy()\n",
      "/opt/conda/lib/python3.7/site-packages/statsmodels/tsa/tsatools.py:702: RuntimeWarning: overflow encountered in exp\n",
      "  tmp = ((1-np.exp(-params))/(1+np.exp(-params))).copy()\n",
      "/opt/conda/lib/python3.7/site-packages/statsmodels/tsa/tsatools.py:702: RuntimeWarning: invalid value encountered in true_divide\n",
      "  tmp = ((1-np.exp(-params))/(1+np.exp(-params))).copy()\n",
      "/opt/conda/lib/python3.7/site-packages/statsmodels/base/model.py:548: HessianInversionWarning: Inverting hessian failed, no bse or cov_params available\n",
      "  'available', HessianInversionWarning)\n",
      "/opt/conda/lib/python3.7/site-packages/statsmodels/tsa/arima_model.py:472: FutureWarning: \n",
      "statsmodels.tsa.arima_model.ARMA and statsmodels.tsa.arima_model.ARIMA have\n",
      "been deprecated in favor of statsmodels.tsa.arima.model.ARIMA (note the .\n",
      "between arima and model) and\n",
      "statsmodels.tsa.SARIMAX. These will be removed after the 0.12 release.\n",
      "\n",
      "statsmodels.tsa.arima.model.ARIMA makes use of the statespace framework and\n",
      "is both well tested and maintained.\n",
      "\n",
      "To silence this warning and continue using ARMA and ARIMA until they are\n",
      "removed, use:\n",
      "\n",
      "import warnings\n",
      "warnings.filterwarnings('ignore', 'statsmodels.tsa.arima_model.ARMA',\n",
      "                        FutureWarning)\n",
      "warnings.filterwarnings('ignore', 'statsmodels.tsa.arima_model.ARIMA',\n",
      "                        FutureWarning)\n",
      "\n",
      "  warnings.warn(ARIMA_DEPRECATION_WARN, FutureWarning)\n",
      "/opt/conda/lib/python3.7/site-packages/statsmodels/tsa/stattools.py:671: FutureWarning: fft=True will become the default after the release of the 0.12 release of statsmodels. To suppress this warning, explicitly set fft=False.\n",
      "  FutureWarning,\n",
      "/opt/conda/lib/python3.7/site-packages/statsmodels/tsa/arima_model.py:472: FutureWarning: \n",
      "statsmodels.tsa.arima_model.ARMA and statsmodels.tsa.arima_model.ARIMA have\n",
      "been deprecated in favor of statsmodels.tsa.arima.model.ARIMA (note the .\n",
      "between arima and model) and\n",
      "statsmodels.tsa.SARIMAX. These will be removed after the 0.12 release.\n",
      "\n",
      "statsmodels.tsa.arima.model.ARIMA makes use of the statespace framework and\n",
      "is both well tested and maintained.\n",
      "\n",
      "To silence this warning and continue using ARMA and ARIMA until they are\n",
      "removed, use:\n",
      "\n",
      "import warnings\n",
      "warnings.filterwarnings('ignore', 'statsmodels.tsa.arima_model.ARMA',\n",
      "                        FutureWarning)\n",
      "warnings.filterwarnings('ignore', 'statsmodels.tsa.arima_model.ARIMA',\n",
      "                        FutureWarning)\n",
      "\n",
      "  warnings.warn(ARIMA_DEPRECATION_WARN, FutureWarning)\n",
      "/opt/conda/lib/python3.7/site-packages/statsmodels/tsa/base/tsa_model.py:527: ValueWarning: No frequency information was provided, so inferred frequency M will be used.\n",
      "  % freq, ValueWarning)\n",
      "/opt/conda/lib/python3.7/site-packages/statsmodels/tsa/base/tsa_model.py:527: ValueWarning: No frequency information was provided, so inferred frequency M will be used.\n",
      "  % freq, ValueWarning)\n"
     ]
    },
    {
     "name": "stdout",
     "output_type": "stream",
     "text": [
      "(72, 1)\n"
     ]
    },
    {
     "name": "stderr",
     "output_type": "stream",
     "text": [
      "/opt/conda/lib/python3.7/site-packages/statsmodels/base/model.py:548: HessianInversionWarning: Inverting hessian failed, no bse or cov_params available\n",
      "  'available', HessianInversionWarning)\n",
      "/opt/conda/lib/python3.7/site-packages/statsmodels/tsa/arima_model.py:472: FutureWarning: \n",
      "statsmodels.tsa.arima_model.ARMA and statsmodels.tsa.arima_model.ARIMA have\n",
      "been deprecated in favor of statsmodels.tsa.arima.model.ARIMA (note the .\n",
      "between arima and model) and\n",
      "statsmodels.tsa.SARIMAX. These will be removed after the 0.12 release.\n",
      "\n",
      "statsmodels.tsa.arima.model.ARIMA makes use of the statespace framework and\n",
      "is both well tested and maintained.\n",
      "\n",
      "To silence this warning and continue using ARMA and ARIMA until they are\n",
      "removed, use:\n",
      "\n",
      "import warnings\n",
      "warnings.filterwarnings('ignore', 'statsmodels.tsa.arima_model.ARMA',\n",
      "                        FutureWarning)\n",
      "warnings.filterwarnings('ignore', 'statsmodels.tsa.arima_model.ARIMA',\n",
      "                        FutureWarning)\n",
      "\n",
      "  warnings.warn(ARIMA_DEPRECATION_WARN, FutureWarning)\n",
      "/opt/conda/lib/python3.7/site-packages/statsmodels/tsa/stattools.py:671: FutureWarning: fft=True will become the default after the release of the 0.12 release of statsmodels. To suppress this warning, explicitly set fft=False.\n",
      "  FutureWarning,\n",
      "/opt/conda/lib/python3.7/site-packages/statsmodels/tsa/arima_model.py:472: FutureWarning: \n",
      "statsmodels.tsa.arima_model.ARMA and statsmodels.tsa.arima_model.ARIMA have\n",
      "been deprecated in favor of statsmodels.tsa.arima.model.ARIMA (note the .\n",
      "between arima and model) and\n",
      "statsmodels.tsa.SARIMAX. These will be removed after the 0.12 release.\n",
      "\n",
      "statsmodels.tsa.arima.model.ARIMA makes use of the statespace framework and\n",
      "is both well tested and maintained.\n",
      "\n",
      "To silence this warning and continue using ARMA and ARIMA until they are\n",
      "removed, use:\n",
      "\n",
      "import warnings\n",
      "warnings.filterwarnings('ignore', 'statsmodels.tsa.arima_model.ARMA',\n",
      "                        FutureWarning)\n",
      "warnings.filterwarnings('ignore', 'statsmodels.tsa.arima_model.ARIMA',\n",
      "                        FutureWarning)\n",
      "\n",
      "  warnings.warn(ARIMA_DEPRECATION_WARN, FutureWarning)\n",
      "/opt/conda/lib/python3.7/site-packages/statsmodels/tsa/base/tsa_model.py:527: ValueWarning: No frequency information was provided, so inferred frequency M will be used.\n",
      "  % freq, ValueWarning)\n",
      "/opt/conda/lib/python3.7/site-packages/statsmodels/tsa/base/tsa_model.py:527: ValueWarning: No frequency information was provided, so inferred frequency M will be used.\n",
      "  % freq, ValueWarning)\n"
     ]
    },
    {
     "name": "stdout",
     "output_type": "stream",
     "text": [
      "(72, 1)\n"
     ]
    },
    {
     "name": "stderr",
     "output_type": "stream",
     "text": [
      "/opt/conda/lib/python3.7/site-packages/statsmodels/base/model.py:548: HessianInversionWarning: Inverting hessian failed, no bse or cov_params available\n",
      "  'available', HessianInversionWarning)\n",
      "/opt/conda/lib/python3.7/site-packages/statsmodels/tsa/arima_model.py:472: FutureWarning: \n",
      "statsmodels.tsa.arima_model.ARMA and statsmodels.tsa.arima_model.ARIMA have\n",
      "been deprecated in favor of statsmodels.tsa.arima.model.ARIMA (note the .\n",
      "between arima and model) and\n",
      "statsmodels.tsa.SARIMAX. These will be removed after the 0.12 release.\n",
      "\n",
      "statsmodels.tsa.arima.model.ARIMA makes use of the statespace framework and\n",
      "is both well tested and maintained.\n",
      "\n",
      "To silence this warning and continue using ARMA and ARIMA until they are\n",
      "removed, use:\n",
      "\n",
      "import warnings\n",
      "warnings.filterwarnings('ignore', 'statsmodels.tsa.arima_model.ARMA',\n",
      "                        FutureWarning)\n",
      "warnings.filterwarnings('ignore', 'statsmodels.tsa.arima_model.ARIMA',\n",
      "                        FutureWarning)\n",
      "\n",
      "  warnings.warn(ARIMA_DEPRECATION_WARN, FutureWarning)\n",
      "/opt/conda/lib/python3.7/site-packages/statsmodels/tsa/stattools.py:671: FutureWarning: fft=True will become the default after the release of the 0.12 release of statsmodels. To suppress this warning, explicitly set fft=False.\n",
      "  FutureWarning,\n",
      "/opt/conda/lib/python3.7/site-packages/statsmodels/tsa/arima_model.py:472: FutureWarning: \n",
      "statsmodels.tsa.arima_model.ARMA and statsmodels.tsa.arima_model.ARIMA have\n",
      "been deprecated in favor of statsmodels.tsa.arima.model.ARIMA (note the .\n",
      "between arima and model) and\n",
      "statsmodels.tsa.SARIMAX. These will be removed after the 0.12 release.\n",
      "\n",
      "statsmodels.tsa.arima.model.ARIMA makes use of the statespace framework and\n",
      "is both well tested and maintained.\n",
      "\n",
      "To silence this warning and continue using ARMA and ARIMA until they are\n",
      "removed, use:\n",
      "\n",
      "import warnings\n",
      "warnings.filterwarnings('ignore', 'statsmodels.tsa.arima_model.ARMA',\n",
      "                        FutureWarning)\n",
      "warnings.filterwarnings('ignore', 'statsmodels.tsa.arima_model.ARIMA',\n",
      "                        FutureWarning)\n",
      "\n",
      "  warnings.warn(ARIMA_DEPRECATION_WARN, FutureWarning)\n",
      "/opt/conda/lib/python3.7/site-packages/statsmodels/tsa/base/tsa_model.py:527: ValueWarning: No frequency information was provided, so inferred frequency M will be used.\n",
      "  % freq, ValueWarning)\n",
      "/opt/conda/lib/python3.7/site-packages/statsmodels/tsa/base/tsa_model.py:527: ValueWarning: No frequency information was provided, so inferred frequency M will be used.\n",
      "  % freq, ValueWarning)\n"
     ]
    },
    {
     "name": "stdout",
     "output_type": "stream",
     "text": [
      "(72, 1)\n"
     ]
    },
    {
     "name": "stderr",
     "output_type": "stream",
     "text": [
      "/opt/conda/lib/python3.7/site-packages/statsmodels/tsa/arima_model.py:472: FutureWarning: \n",
      "statsmodels.tsa.arima_model.ARMA and statsmodels.tsa.arima_model.ARIMA have\n",
      "been deprecated in favor of statsmodels.tsa.arima.model.ARIMA (note the .\n",
      "between arima and model) and\n",
      "statsmodels.tsa.SARIMAX. These will be removed after the 0.12 release.\n",
      "\n",
      "statsmodels.tsa.arima.model.ARIMA makes use of the statespace framework and\n",
      "is both well tested and maintained.\n",
      "\n",
      "To silence this warning and continue using ARMA and ARIMA until they are\n",
      "removed, use:\n",
      "\n",
      "import warnings\n",
      "warnings.filterwarnings('ignore', 'statsmodels.tsa.arima_model.ARMA',\n",
      "                        FutureWarning)\n",
      "warnings.filterwarnings('ignore', 'statsmodels.tsa.arima_model.ARIMA',\n",
      "                        FutureWarning)\n",
      "\n",
      "  warnings.warn(ARIMA_DEPRECATION_WARN, FutureWarning)\n",
      "/opt/conda/lib/python3.7/site-packages/statsmodels/tsa/stattools.py:671: FutureWarning: fft=True will become the default after the release of the 0.12 release of statsmodels. To suppress this warning, explicitly set fft=False.\n",
      "  FutureWarning,\n",
      "/opt/conda/lib/python3.7/site-packages/statsmodels/tsa/arima_model.py:472: FutureWarning: \n",
      "statsmodels.tsa.arima_model.ARMA and statsmodels.tsa.arima_model.ARIMA have\n",
      "been deprecated in favor of statsmodels.tsa.arima.model.ARIMA (note the .\n",
      "between arima and model) and\n",
      "statsmodels.tsa.SARIMAX. These will be removed after the 0.12 release.\n",
      "\n",
      "statsmodels.tsa.arima.model.ARIMA makes use of the statespace framework and\n",
      "is both well tested and maintained.\n",
      "\n",
      "To silence this warning and continue using ARMA and ARIMA until they are\n",
      "removed, use:\n",
      "\n",
      "import warnings\n",
      "warnings.filterwarnings('ignore', 'statsmodels.tsa.arima_model.ARMA',\n",
      "                        FutureWarning)\n",
      "warnings.filterwarnings('ignore', 'statsmodels.tsa.arima_model.ARIMA',\n",
      "                        FutureWarning)\n",
      "\n",
      "  warnings.warn(ARIMA_DEPRECATION_WARN, FutureWarning)\n",
      "/opt/conda/lib/python3.7/site-packages/statsmodels/tsa/base/tsa_model.py:527: ValueWarning: No frequency information was provided, so inferred frequency M will be used.\n",
      "  % freq, ValueWarning)\n",
      "/opt/conda/lib/python3.7/site-packages/statsmodels/tsa/base/tsa_model.py:527: ValueWarning: No frequency information was provided, so inferred frequency M will be used.\n",
      "  % freq, ValueWarning)\n",
      "/opt/conda/lib/python3.7/site-packages/statsmodels/tsa/arima_model.py:472: FutureWarning: \n",
      "statsmodels.tsa.arima_model.ARMA and statsmodels.tsa.arima_model.ARIMA have\n",
      "been deprecated in favor of statsmodels.tsa.arima.model.ARIMA (note the .\n",
      "between arima and model) and\n",
      "statsmodels.tsa.SARIMAX. These will be removed after the 0.12 release.\n",
      "\n",
      "statsmodels.tsa.arima.model.ARIMA makes use of the statespace framework and\n",
      "is both well tested and maintained.\n",
      "\n",
      "To silence this warning and continue using ARMA and ARIMA until they are\n",
      "removed, use:\n",
      "\n",
      "import warnings\n",
      "warnings.filterwarnings('ignore', 'statsmodels.tsa.arima_model.ARMA',\n",
      "                        FutureWarning)\n",
      "warnings.filterwarnings('ignore', 'statsmodels.tsa.arima_model.ARIMA',\n",
      "                        FutureWarning)\n",
      "\n",
      "  warnings.warn(ARIMA_DEPRECATION_WARN, FutureWarning)\n",
      "/opt/conda/lib/python3.7/site-packages/statsmodels/tsa/stattools.py:671: FutureWarning: fft=True will become the default after the release of the 0.12 release of statsmodels. To suppress this warning, explicitly set fft=False.\n",
      "  FutureWarning,\n",
      "/opt/conda/lib/python3.7/site-packages/statsmodels/tsa/arima_model.py:472: FutureWarning: \n",
      "statsmodels.tsa.arima_model.ARMA and statsmodels.tsa.arima_model.ARIMA have\n",
      "been deprecated in favor of statsmodels.tsa.arima.model.ARIMA (note the .\n",
      "between arima and model) and\n",
      "statsmodels.tsa.SARIMAX. These will be removed after the 0.12 release.\n",
      "\n",
      "statsmodels.tsa.arima.model.ARIMA makes use of the statespace framework and\n",
      "is both well tested and maintained.\n",
      "\n",
      "To silence this warning and continue using ARMA and ARIMA until they are\n",
      "removed, use:\n",
      "\n",
      "import warnings\n",
      "warnings.filterwarnings('ignore', 'statsmodels.tsa.arima_model.ARMA',\n",
      "                        FutureWarning)\n",
      "warnings.filterwarnings('ignore', 'statsmodels.tsa.arima_model.ARIMA',\n",
      "                        FutureWarning)\n",
      "\n",
      "  warnings.warn(ARIMA_DEPRECATION_WARN, FutureWarning)\n",
      "/opt/conda/lib/python3.7/site-packages/statsmodels/tsa/base/tsa_model.py:527: ValueWarning: No frequency information was provided, so inferred frequency M will be used.\n",
      "  % freq, ValueWarning)\n",
      "/opt/conda/lib/python3.7/site-packages/statsmodels/tsa/base/tsa_model.py:527: ValueWarning: No frequency information was provided, so inferred frequency M will be used.\n",
      "  % freq, ValueWarning)\n"
     ]
    },
    {
     "name": "stdout",
     "output_type": "stream",
     "text": [
      "(72, 1)\n",
      "(72, 1)\n"
     ]
    },
    {
     "name": "stderr",
     "output_type": "stream",
     "text": [
      "/opt/conda/lib/python3.7/site-packages/statsmodels/base/model.py:548: HessianInversionWarning: Inverting hessian failed, no bse or cov_params available\n",
      "  'available', HessianInversionWarning)\n",
      "/opt/conda/lib/python3.7/site-packages/statsmodels/tsa/arima_model.py:472: FutureWarning: \n",
      "statsmodels.tsa.arima_model.ARMA and statsmodels.tsa.arima_model.ARIMA have\n",
      "been deprecated in favor of statsmodels.tsa.arima.model.ARIMA (note the .\n",
      "between arima and model) and\n",
      "statsmodels.tsa.SARIMAX. These will be removed after the 0.12 release.\n",
      "\n",
      "statsmodels.tsa.arima.model.ARIMA makes use of the statespace framework and\n",
      "is both well tested and maintained.\n",
      "\n",
      "To silence this warning and continue using ARMA and ARIMA until they are\n",
      "removed, use:\n",
      "\n",
      "import warnings\n",
      "warnings.filterwarnings('ignore', 'statsmodels.tsa.arima_model.ARMA',\n",
      "                        FutureWarning)\n",
      "warnings.filterwarnings('ignore', 'statsmodels.tsa.arima_model.ARIMA',\n",
      "                        FutureWarning)\n",
      "\n",
      "  warnings.warn(ARIMA_DEPRECATION_WARN, FutureWarning)\n",
      "/opt/conda/lib/python3.7/site-packages/statsmodels/tsa/stattools.py:671: FutureWarning: fft=True will become the default after the release of the 0.12 release of statsmodels. To suppress this warning, explicitly set fft=False.\n",
      "  FutureWarning,\n",
      "/opt/conda/lib/python3.7/site-packages/statsmodels/tsa/arima_model.py:472: FutureWarning: \n",
      "statsmodels.tsa.arima_model.ARMA and statsmodels.tsa.arima_model.ARIMA have\n",
      "been deprecated in favor of statsmodels.tsa.arima.model.ARIMA (note the .\n",
      "between arima and model) and\n",
      "statsmodels.tsa.SARIMAX. These will be removed after the 0.12 release.\n",
      "\n",
      "statsmodels.tsa.arima.model.ARIMA makes use of the statespace framework and\n",
      "is both well tested and maintained.\n",
      "\n",
      "To silence this warning and continue using ARMA and ARIMA until they are\n",
      "removed, use:\n",
      "\n",
      "import warnings\n",
      "warnings.filterwarnings('ignore', 'statsmodels.tsa.arima_model.ARMA',\n",
      "                        FutureWarning)\n",
      "warnings.filterwarnings('ignore', 'statsmodels.tsa.arima_model.ARIMA',\n",
      "                        FutureWarning)\n",
      "\n",
      "  warnings.warn(ARIMA_DEPRECATION_WARN, FutureWarning)\n",
      "/opt/conda/lib/python3.7/site-packages/statsmodels/tsa/base/tsa_model.py:527: ValueWarning: No frequency information was provided, so inferred frequency M will be used.\n",
      "  % freq, ValueWarning)\n",
      "/opt/conda/lib/python3.7/site-packages/statsmodels/tsa/base/tsa_model.py:527: ValueWarning: No frequency information was provided, so inferred frequency M will be used.\n",
      "  % freq, ValueWarning)\n"
     ]
    },
    {
     "name": "stdout",
     "output_type": "stream",
     "text": [
      "(72, 1)\n"
     ]
    },
    {
     "name": "stderr",
     "output_type": "stream",
     "text": [
      "/opt/conda/lib/python3.7/site-packages/statsmodels/tsa/arima_model.py:472: FutureWarning: \n",
      "statsmodels.tsa.arima_model.ARMA and statsmodels.tsa.arima_model.ARIMA have\n",
      "been deprecated in favor of statsmodels.tsa.arima.model.ARIMA (note the .\n",
      "between arima and model) and\n",
      "statsmodels.tsa.SARIMAX. These will be removed after the 0.12 release.\n",
      "\n",
      "statsmodels.tsa.arima.model.ARIMA makes use of the statespace framework and\n",
      "is both well tested and maintained.\n",
      "\n",
      "To silence this warning and continue using ARMA and ARIMA until they are\n",
      "removed, use:\n",
      "\n",
      "import warnings\n",
      "warnings.filterwarnings('ignore', 'statsmodels.tsa.arima_model.ARMA',\n",
      "                        FutureWarning)\n",
      "warnings.filterwarnings('ignore', 'statsmodels.tsa.arima_model.ARIMA',\n",
      "                        FutureWarning)\n",
      "\n",
      "  warnings.warn(ARIMA_DEPRECATION_WARN, FutureWarning)\n",
      "/opt/conda/lib/python3.7/site-packages/statsmodels/tsa/stattools.py:671: FutureWarning: fft=True will become the default after the release of the 0.12 release of statsmodels. To suppress this warning, explicitly set fft=False.\n",
      "  FutureWarning,\n",
      "/opt/conda/lib/python3.7/site-packages/statsmodels/tsa/arima_model.py:472: FutureWarning: \n",
      "statsmodels.tsa.arima_model.ARMA and statsmodels.tsa.arima_model.ARIMA have\n",
      "been deprecated in favor of statsmodels.tsa.arima.model.ARIMA (note the .\n",
      "between arima and model) and\n",
      "statsmodels.tsa.SARIMAX. These will be removed after the 0.12 release.\n",
      "\n",
      "statsmodels.tsa.arima.model.ARIMA makes use of the statespace framework and\n",
      "is both well tested and maintained.\n",
      "\n",
      "To silence this warning and continue using ARMA and ARIMA until they are\n",
      "removed, use:\n",
      "\n",
      "import warnings\n",
      "warnings.filterwarnings('ignore', 'statsmodels.tsa.arima_model.ARMA',\n",
      "                        FutureWarning)\n",
      "warnings.filterwarnings('ignore', 'statsmodels.tsa.arima_model.ARIMA',\n",
      "                        FutureWarning)\n",
      "\n",
      "  warnings.warn(ARIMA_DEPRECATION_WARN, FutureWarning)\n",
      "/opt/conda/lib/python3.7/site-packages/statsmodels/tsa/base/tsa_model.py:527: ValueWarning: No frequency information was provided, so inferred frequency M will be used.\n",
      "  % freq, ValueWarning)\n",
      "/opt/conda/lib/python3.7/site-packages/statsmodels/tsa/base/tsa_model.py:527: ValueWarning: No frequency information was provided, so inferred frequency M will be used.\n",
      "  % freq, ValueWarning)\n"
     ]
    },
    {
     "name": "stdout",
     "output_type": "stream",
     "text": [
      "(72, 1)\n"
     ]
    },
    {
     "name": "stderr",
     "output_type": "stream",
     "text": [
      "/opt/conda/lib/python3.7/site-packages/statsmodels/tsa/arima_model.py:472: FutureWarning: \n",
      "statsmodels.tsa.arima_model.ARMA and statsmodels.tsa.arima_model.ARIMA have\n",
      "been deprecated in favor of statsmodels.tsa.arima.model.ARIMA (note the .\n",
      "between arima and model) and\n",
      "statsmodels.tsa.SARIMAX. These will be removed after the 0.12 release.\n",
      "\n",
      "statsmodels.tsa.arima.model.ARIMA makes use of the statespace framework and\n",
      "is both well tested and maintained.\n",
      "\n",
      "To silence this warning and continue using ARMA and ARIMA until they are\n",
      "removed, use:\n",
      "\n",
      "import warnings\n",
      "warnings.filterwarnings('ignore', 'statsmodels.tsa.arima_model.ARMA',\n",
      "                        FutureWarning)\n",
      "warnings.filterwarnings('ignore', 'statsmodels.tsa.arima_model.ARIMA',\n",
      "                        FutureWarning)\n",
      "\n",
      "  warnings.warn(ARIMA_DEPRECATION_WARN, FutureWarning)\n",
      "/opt/conda/lib/python3.7/site-packages/statsmodels/tsa/stattools.py:671: FutureWarning: fft=True will become the default after the release of the 0.12 release of statsmodels. To suppress this warning, explicitly set fft=False.\n",
      "  FutureWarning,\n",
      "/opt/conda/lib/python3.7/site-packages/statsmodels/tsa/arima_model.py:472: FutureWarning: \n",
      "statsmodels.tsa.arima_model.ARMA and statsmodels.tsa.arima_model.ARIMA have\n",
      "been deprecated in favor of statsmodels.tsa.arima.model.ARIMA (note the .\n",
      "between arima and model) and\n",
      "statsmodels.tsa.SARIMAX. These will be removed after the 0.12 release.\n",
      "\n",
      "statsmodels.tsa.arima.model.ARIMA makes use of the statespace framework and\n",
      "is both well tested and maintained.\n",
      "\n",
      "To silence this warning and continue using ARMA and ARIMA until they are\n",
      "removed, use:\n",
      "\n",
      "import warnings\n",
      "warnings.filterwarnings('ignore', 'statsmodels.tsa.arima_model.ARMA',\n",
      "                        FutureWarning)\n",
      "warnings.filterwarnings('ignore', 'statsmodels.tsa.arima_model.ARIMA',\n",
      "                        FutureWarning)\n",
      "\n",
      "  warnings.warn(ARIMA_DEPRECATION_WARN, FutureWarning)\n",
      "/opt/conda/lib/python3.7/site-packages/statsmodels/tsa/base/tsa_model.py:527: ValueWarning: No frequency information was provided, so inferred frequency M will be used.\n",
      "  % freq, ValueWarning)\n",
      "/opt/conda/lib/python3.7/site-packages/statsmodels/tsa/base/tsa_model.py:527: ValueWarning: No frequency information was provided, so inferred frequency M will be used.\n",
      "  % freq, ValueWarning)\n"
     ]
    },
    {
     "name": "stdout",
     "output_type": "stream",
     "text": [
      "(72, 1)\n"
     ]
    },
    {
     "name": "stderr",
     "output_type": "stream",
     "text": [
      "/opt/conda/lib/python3.7/site-packages/statsmodels/tsa/arima_model.py:472: FutureWarning: \n",
      "statsmodels.tsa.arima_model.ARMA and statsmodels.tsa.arima_model.ARIMA have\n",
      "been deprecated in favor of statsmodels.tsa.arima.model.ARIMA (note the .\n",
      "between arima and model) and\n",
      "statsmodels.tsa.SARIMAX. These will be removed after the 0.12 release.\n",
      "\n",
      "statsmodels.tsa.arima.model.ARIMA makes use of the statespace framework and\n",
      "is both well tested and maintained.\n",
      "\n",
      "To silence this warning and continue using ARMA and ARIMA until they are\n",
      "removed, use:\n",
      "\n",
      "import warnings\n",
      "warnings.filterwarnings('ignore', 'statsmodels.tsa.arima_model.ARMA',\n",
      "                        FutureWarning)\n",
      "warnings.filterwarnings('ignore', 'statsmodels.tsa.arima_model.ARIMA',\n",
      "                        FutureWarning)\n",
      "\n",
      "  warnings.warn(ARIMA_DEPRECATION_WARN, FutureWarning)\n",
      "/opt/conda/lib/python3.7/site-packages/statsmodels/tsa/stattools.py:671: FutureWarning: fft=True will become the default after the release of the 0.12 release of statsmodels. To suppress this warning, explicitly set fft=False.\n",
      "  FutureWarning,\n",
      "/opt/conda/lib/python3.7/site-packages/statsmodels/tsa/arima_model.py:472: FutureWarning: \n",
      "statsmodels.tsa.arima_model.ARMA and statsmodels.tsa.arima_model.ARIMA have\n",
      "been deprecated in favor of statsmodels.tsa.arima.model.ARIMA (note the .\n",
      "between arima and model) and\n",
      "statsmodels.tsa.SARIMAX. These will be removed after the 0.12 release.\n",
      "\n",
      "statsmodels.tsa.arima.model.ARIMA makes use of the statespace framework and\n",
      "is both well tested and maintained.\n",
      "\n",
      "To silence this warning and continue using ARMA and ARIMA until they are\n",
      "removed, use:\n",
      "\n",
      "import warnings\n",
      "warnings.filterwarnings('ignore', 'statsmodels.tsa.arima_model.ARMA',\n",
      "                        FutureWarning)\n",
      "warnings.filterwarnings('ignore', 'statsmodels.tsa.arima_model.ARIMA',\n",
      "                        FutureWarning)\n",
      "\n",
      "  warnings.warn(ARIMA_DEPRECATION_WARN, FutureWarning)\n",
      "/opt/conda/lib/python3.7/site-packages/statsmodels/tsa/base/tsa_model.py:527: ValueWarning: No frequency information was provided, so inferred frequency M will be used.\n",
      "  % freq, ValueWarning)\n",
      "/opt/conda/lib/python3.7/site-packages/statsmodels/tsa/base/tsa_model.py:527: ValueWarning: No frequency information was provided, so inferred frequency M will be used.\n",
      "  % freq, ValueWarning)\n"
     ]
    },
    {
     "name": "stdout",
     "output_type": "stream",
     "text": [
      "(72, 1)\n"
     ]
    },
    {
     "name": "stderr",
     "output_type": "stream",
     "text": [
      "/opt/conda/lib/python3.7/site-packages/statsmodels/tsa/arima_model.py:472: FutureWarning: \n",
      "statsmodels.tsa.arima_model.ARMA and statsmodels.tsa.arima_model.ARIMA have\n",
      "been deprecated in favor of statsmodels.tsa.arima.model.ARIMA (note the .\n",
      "between arima and model) and\n",
      "statsmodels.tsa.SARIMAX. These will be removed after the 0.12 release.\n",
      "\n",
      "statsmodels.tsa.arima.model.ARIMA makes use of the statespace framework and\n",
      "is both well tested and maintained.\n",
      "\n",
      "To silence this warning and continue using ARMA and ARIMA until they are\n",
      "removed, use:\n",
      "\n",
      "import warnings\n",
      "warnings.filterwarnings('ignore', 'statsmodels.tsa.arima_model.ARMA',\n",
      "                        FutureWarning)\n",
      "warnings.filterwarnings('ignore', 'statsmodels.tsa.arima_model.ARIMA',\n",
      "                        FutureWarning)\n",
      "\n",
      "  warnings.warn(ARIMA_DEPRECATION_WARN, FutureWarning)\n",
      "/opt/conda/lib/python3.7/site-packages/statsmodels/tsa/stattools.py:671: FutureWarning: fft=True will become the default after the release of the 0.12 release of statsmodels. To suppress this warning, explicitly set fft=False.\n",
      "  FutureWarning,\n",
      "/opt/conda/lib/python3.7/site-packages/statsmodels/tsa/arima_model.py:472: FutureWarning: \n",
      "statsmodels.tsa.arima_model.ARMA and statsmodels.tsa.arima_model.ARIMA have\n",
      "been deprecated in favor of statsmodels.tsa.arima.model.ARIMA (note the .\n",
      "between arima and model) and\n",
      "statsmodels.tsa.SARIMAX. These will be removed after the 0.12 release.\n",
      "\n",
      "statsmodels.tsa.arima.model.ARIMA makes use of the statespace framework and\n",
      "is both well tested and maintained.\n",
      "\n",
      "To silence this warning and continue using ARMA and ARIMA until they are\n",
      "removed, use:\n",
      "\n",
      "import warnings\n",
      "warnings.filterwarnings('ignore', 'statsmodels.tsa.arima_model.ARMA',\n",
      "                        FutureWarning)\n",
      "warnings.filterwarnings('ignore', 'statsmodels.tsa.arima_model.ARIMA',\n",
      "                        FutureWarning)\n",
      "\n",
      "  warnings.warn(ARIMA_DEPRECATION_WARN, FutureWarning)\n",
      "/opt/conda/lib/python3.7/site-packages/statsmodels/tsa/base/tsa_model.py:527: ValueWarning: No frequency information was provided, so inferred frequency M will be used.\n",
      "  % freq, ValueWarning)\n",
      "/opt/conda/lib/python3.7/site-packages/statsmodels/tsa/base/tsa_model.py:527: ValueWarning: No frequency information was provided, so inferred frequency M will be used.\n",
      "  % freq, ValueWarning)\n"
     ]
    },
    {
     "name": "stdout",
     "output_type": "stream",
     "text": [
      "(72, 1)\n"
     ]
    },
    {
     "name": "stderr",
     "output_type": "stream",
     "text": [
      "/opt/conda/lib/python3.7/site-packages/statsmodels/base/model.py:548: HessianInversionWarning: Inverting hessian failed, no bse or cov_params available\n",
      "  'available', HessianInversionWarning)\n",
      "/opt/conda/lib/python3.7/site-packages/statsmodels/tsa/arima_model.py:472: FutureWarning: \n",
      "statsmodels.tsa.arima_model.ARMA and statsmodels.tsa.arima_model.ARIMA have\n",
      "been deprecated in favor of statsmodels.tsa.arima.model.ARIMA (note the .\n",
      "between arima and model) and\n",
      "statsmodels.tsa.SARIMAX. These will be removed after the 0.12 release.\n",
      "\n",
      "statsmodels.tsa.arima.model.ARIMA makes use of the statespace framework and\n",
      "is both well tested and maintained.\n",
      "\n",
      "To silence this warning and continue using ARMA and ARIMA until they are\n",
      "removed, use:\n",
      "\n",
      "import warnings\n",
      "warnings.filterwarnings('ignore', 'statsmodels.tsa.arima_model.ARMA',\n",
      "                        FutureWarning)\n",
      "warnings.filterwarnings('ignore', 'statsmodels.tsa.arima_model.ARIMA',\n",
      "                        FutureWarning)\n",
      "\n",
      "  warnings.warn(ARIMA_DEPRECATION_WARN, FutureWarning)\n",
      "/opt/conda/lib/python3.7/site-packages/statsmodels/tsa/stattools.py:671: FutureWarning: fft=True will become the default after the release of the 0.12 release of statsmodels. To suppress this warning, explicitly set fft=False.\n",
      "  FutureWarning,\n",
      "/opt/conda/lib/python3.7/site-packages/statsmodels/tsa/arima_model.py:472: FutureWarning: \n",
      "statsmodels.tsa.arima_model.ARMA and statsmodels.tsa.arima_model.ARIMA have\n",
      "been deprecated in favor of statsmodels.tsa.arima.model.ARIMA (note the .\n",
      "between arima and model) and\n",
      "statsmodels.tsa.SARIMAX. These will be removed after the 0.12 release.\n",
      "\n",
      "statsmodels.tsa.arima.model.ARIMA makes use of the statespace framework and\n",
      "is both well tested and maintained.\n",
      "\n",
      "To silence this warning and continue using ARMA and ARIMA until they are\n",
      "removed, use:\n",
      "\n",
      "import warnings\n",
      "warnings.filterwarnings('ignore', 'statsmodels.tsa.arima_model.ARMA',\n",
      "                        FutureWarning)\n",
      "warnings.filterwarnings('ignore', 'statsmodels.tsa.arima_model.ARIMA',\n",
      "                        FutureWarning)\n",
      "\n",
      "  warnings.warn(ARIMA_DEPRECATION_WARN, FutureWarning)\n",
      "/opt/conda/lib/python3.7/site-packages/statsmodels/tsa/base/tsa_model.py:527: ValueWarning: No frequency information was provided, so inferred frequency M will be used.\n",
      "  % freq, ValueWarning)\n",
      "/opt/conda/lib/python3.7/site-packages/statsmodels/tsa/base/tsa_model.py:527: ValueWarning: No frequency information was provided, so inferred frequency M will be used.\n",
      "  % freq, ValueWarning)\n"
     ]
    },
    {
     "name": "stdout",
     "output_type": "stream",
     "text": [
      "(72, 1)\n"
     ]
    },
    {
     "name": "stderr",
     "output_type": "stream",
     "text": [
      "/opt/conda/lib/python3.7/site-packages/statsmodels/tsa/arima_model.py:472: FutureWarning: \n",
      "statsmodels.tsa.arima_model.ARMA and statsmodels.tsa.arima_model.ARIMA have\n",
      "been deprecated in favor of statsmodels.tsa.arima.model.ARIMA (note the .\n",
      "between arima and model) and\n",
      "statsmodels.tsa.SARIMAX. These will be removed after the 0.12 release.\n",
      "\n",
      "statsmodels.tsa.arima.model.ARIMA makes use of the statespace framework and\n",
      "is both well tested and maintained.\n",
      "\n",
      "To silence this warning and continue using ARMA and ARIMA until they are\n",
      "removed, use:\n",
      "\n",
      "import warnings\n",
      "warnings.filterwarnings('ignore', 'statsmodels.tsa.arima_model.ARMA',\n",
      "                        FutureWarning)\n",
      "warnings.filterwarnings('ignore', 'statsmodels.tsa.arima_model.ARIMA',\n",
      "                        FutureWarning)\n",
      "\n",
      "  warnings.warn(ARIMA_DEPRECATION_WARN, FutureWarning)\n",
      "/opt/conda/lib/python3.7/site-packages/statsmodels/tsa/stattools.py:671: FutureWarning: fft=True will become the default after the release of the 0.12 release of statsmodels. To suppress this warning, explicitly set fft=False.\n",
      "  FutureWarning,\n",
      "/opt/conda/lib/python3.7/site-packages/statsmodels/tsa/arima_model.py:472: FutureWarning: \n",
      "statsmodels.tsa.arima_model.ARMA and statsmodels.tsa.arima_model.ARIMA have\n",
      "been deprecated in favor of statsmodels.tsa.arima.model.ARIMA (note the .\n",
      "between arima and model) and\n",
      "statsmodels.tsa.SARIMAX. These will be removed after the 0.12 release.\n",
      "\n",
      "statsmodels.tsa.arima.model.ARIMA makes use of the statespace framework and\n",
      "is both well tested and maintained.\n",
      "\n",
      "To silence this warning and continue using ARMA and ARIMA until they are\n",
      "removed, use:\n",
      "\n",
      "import warnings\n",
      "warnings.filterwarnings('ignore', 'statsmodels.tsa.arima_model.ARMA',\n",
      "                        FutureWarning)\n",
      "warnings.filterwarnings('ignore', 'statsmodels.tsa.arima_model.ARIMA',\n",
      "                        FutureWarning)\n",
      "\n",
      "  warnings.warn(ARIMA_DEPRECATION_WARN, FutureWarning)\n",
      "/opt/conda/lib/python3.7/site-packages/statsmodels/tsa/base/tsa_model.py:527: ValueWarning: No frequency information was provided, so inferred frequency M will be used.\n",
      "  % freq, ValueWarning)\n",
      "/opt/conda/lib/python3.7/site-packages/statsmodels/tsa/base/tsa_model.py:527: ValueWarning: No frequency information was provided, so inferred frequency M will be used.\n",
      "  % freq, ValueWarning)\n"
     ]
    },
    {
     "name": "stdout",
     "output_type": "stream",
     "text": [
      "(72, 1)\n"
     ]
    },
    {
     "name": "stderr",
     "output_type": "stream",
     "text": [
      "/opt/conda/lib/python3.7/site-packages/statsmodels/tsa/arima_model.py:472: FutureWarning: \n",
      "statsmodels.tsa.arima_model.ARMA and statsmodels.tsa.arima_model.ARIMA have\n",
      "been deprecated in favor of statsmodels.tsa.arima.model.ARIMA (note the .\n",
      "between arima and model) and\n",
      "statsmodels.tsa.SARIMAX. These will be removed after the 0.12 release.\n",
      "\n",
      "statsmodels.tsa.arima.model.ARIMA makes use of the statespace framework and\n",
      "is both well tested and maintained.\n",
      "\n",
      "To silence this warning and continue using ARMA and ARIMA until they are\n",
      "removed, use:\n",
      "\n",
      "import warnings\n",
      "warnings.filterwarnings('ignore', 'statsmodels.tsa.arima_model.ARMA',\n",
      "                        FutureWarning)\n",
      "warnings.filterwarnings('ignore', 'statsmodels.tsa.arima_model.ARIMA',\n",
      "                        FutureWarning)\n",
      "\n",
      "  warnings.warn(ARIMA_DEPRECATION_WARN, FutureWarning)\n",
      "/opt/conda/lib/python3.7/site-packages/statsmodels/tsa/stattools.py:671: FutureWarning: fft=True will become the default after the release of the 0.12 release of statsmodels. To suppress this warning, explicitly set fft=False.\n",
      "  FutureWarning,\n",
      "/opt/conda/lib/python3.7/site-packages/statsmodels/tsa/arima_model.py:472: FutureWarning: \n",
      "statsmodels.tsa.arima_model.ARMA and statsmodels.tsa.arima_model.ARIMA have\n",
      "been deprecated in favor of statsmodels.tsa.arima.model.ARIMA (note the .\n",
      "between arima and model) and\n",
      "statsmodels.tsa.SARIMAX. These will be removed after the 0.12 release.\n",
      "\n",
      "statsmodels.tsa.arima.model.ARIMA makes use of the statespace framework and\n",
      "is both well tested and maintained.\n",
      "\n",
      "To silence this warning and continue using ARMA and ARIMA until they are\n",
      "removed, use:\n",
      "\n",
      "import warnings\n",
      "warnings.filterwarnings('ignore', 'statsmodels.tsa.arima_model.ARMA',\n",
      "                        FutureWarning)\n",
      "warnings.filterwarnings('ignore', 'statsmodels.tsa.arima_model.ARIMA',\n",
      "                        FutureWarning)\n",
      "\n",
      "  warnings.warn(ARIMA_DEPRECATION_WARN, FutureWarning)\n",
      "/opt/conda/lib/python3.7/site-packages/statsmodels/tsa/base/tsa_model.py:527: ValueWarning: No frequency information was provided, so inferred frequency M will be used.\n",
      "  % freq, ValueWarning)\n",
      "/opt/conda/lib/python3.7/site-packages/statsmodels/tsa/base/tsa_model.py:527: ValueWarning: No frequency information was provided, so inferred frequency M will be used.\n",
      "  % freq, ValueWarning)\n"
     ]
    },
    {
     "name": "stdout",
     "output_type": "stream",
     "text": [
      "(72, 1)\n"
     ]
    },
    {
     "name": "stderr",
     "output_type": "stream",
     "text": [
      "/opt/conda/lib/python3.7/site-packages/statsmodels/tsa/arima_model.py:472: FutureWarning: \n",
      "statsmodels.tsa.arima_model.ARMA and statsmodels.tsa.arima_model.ARIMA have\n",
      "been deprecated in favor of statsmodels.tsa.arima.model.ARIMA (note the .\n",
      "between arima and model) and\n",
      "statsmodels.tsa.SARIMAX. These will be removed after the 0.12 release.\n",
      "\n",
      "statsmodels.tsa.arima.model.ARIMA makes use of the statespace framework and\n",
      "is both well tested and maintained.\n",
      "\n",
      "To silence this warning and continue using ARMA and ARIMA until they are\n",
      "removed, use:\n",
      "\n",
      "import warnings\n",
      "warnings.filterwarnings('ignore', 'statsmodels.tsa.arima_model.ARMA',\n",
      "                        FutureWarning)\n",
      "warnings.filterwarnings('ignore', 'statsmodels.tsa.arima_model.ARIMA',\n",
      "                        FutureWarning)\n",
      "\n",
      "  warnings.warn(ARIMA_DEPRECATION_WARN, FutureWarning)\n",
      "/opt/conda/lib/python3.7/site-packages/statsmodels/tsa/stattools.py:671: FutureWarning: fft=True will become the default after the release of the 0.12 release of statsmodels. To suppress this warning, explicitly set fft=False.\n",
      "  FutureWarning,\n",
      "/opt/conda/lib/python3.7/site-packages/statsmodels/tsa/arima_model.py:472: FutureWarning: \n",
      "statsmodels.tsa.arima_model.ARMA and statsmodels.tsa.arima_model.ARIMA have\n",
      "been deprecated in favor of statsmodels.tsa.arima.model.ARIMA (note the .\n",
      "between arima and model) and\n",
      "statsmodels.tsa.SARIMAX. These will be removed after the 0.12 release.\n",
      "\n",
      "statsmodels.tsa.arima.model.ARIMA makes use of the statespace framework and\n",
      "is both well tested and maintained.\n",
      "\n",
      "To silence this warning and continue using ARMA and ARIMA until they are\n",
      "removed, use:\n",
      "\n",
      "import warnings\n",
      "warnings.filterwarnings('ignore', 'statsmodels.tsa.arima_model.ARMA',\n",
      "                        FutureWarning)\n",
      "warnings.filterwarnings('ignore', 'statsmodels.tsa.arima_model.ARIMA',\n",
      "                        FutureWarning)\n",
      "\n",
      "  warnings.warn(ARIMA_DEPRECATION_WARN, FutureWarning)\n",
      "/opt/conda/lib/python3.7/site-packages/statsmodels/tsa/base/tsa_model.py:527: ValueWarning: No frequency information was provided, so inferred frequency M will be used.\n",
      "  % freq, ValueWarning)\n",
      "/opt/conda/lib/python3.7/site-packages/statsmodels/tsa/base/tsa_model.py:527: ValueWarning: No frequency information was provided, so inferred frequency M will be used.\n",
      "  % freq, ValueWarning)\n"
     ]
    },
    {
     "name": "stdout",
     "output_type": "stream",
     "text": [
      "(72, 1)\n"
     ]
    },
    {
     "name": "stderr",
     "output_type": "stream",
     "text": [
      "/opt/conda/lib/python3.7/site-packages/statsmodels/tsa/arima_model.py:472: FutureWarning: \n",
      "statsmodels.tsa.arima_model.ARMA and statsmodels.tsa.arima_model.ARIMA have\n",
      "been deprecated in favor of statsmodels.tsa.arima.model.ARIMA (note the .\n",
      "between arima and model) and\n",
      "statsmodels.tsa.SARIMAX. These will be removed after the 0.12 release.\n",
      "\n",
      "statsmodels.tsa.arima.model.ARIMA makes use of the statespace framework and\n",
      "is both well tested and maintained.\n",
      "\n",
      "To silence this warning and continue using ARMA and ARIMA until they are\n",
      "removed, use:\n",
      "\n",
      "import warnings\n",
      "warnings.filterwarnings('ignore', 'statsmodels.tsa.arima_model.ARMA',\n",
      "                        FutureWarning)\n",
      "warnings.filterwarnings('ignore', 'statsmodels.tsa.arima_model.ARIMA',\n",
      "                        FutureWarning)\n",
      "\n",
      "  warnings.warn(ARIMA_DEPRECATION_WARN, FutureWarning)\n"
     ]
    }
   ],
   "source": [
    "aggregated_tsa_forecast = np.exp(tsa_method(df_AG)) + np.exp(tsa_method(df_AP)) + np.exp(tsa_method(df_AC)) + np.exp(tsa_method(df_IG)) + np.exp(tsa_method(df_IP)) + np.exp(tsa_method(df_IC)) + np.exp(tsa_method(df_PG)) + np.exp(tsa_method(df_PP)) +np.exp(tsa_method(df_PC)) + np.exp(tsa_method(df_TG)) +np.exp(tsa_method(df_TP)) + np.exp(tsa_method(df_TC)) + np.exp(tsa_method(df_LG)) +np.exp(tsa_method(df_LP)) + np.exp(tsa_method(df_LC))\n",
    "#aggregated_tsa_forecast = tsa_method(df_AG) + tsa_method(df_AP) + tsa_method(df_AC) + tsa_method(df_IG) + tsa_method(df_IP) + tsa_method(df_IC) + tsa_method(df_PG) + tsa_method(df_PP) + tsa_method(df_PC) + tsa_method(df_TG) + tsa_method(df_TP) + tsa_method(df_TC) + tsa_method(df_LG) + tsa_method(df_LP) + tsa_method(df_LC)\n"
   ]
  },
  {
   "cell_type": "code",
   "execution_count": 22,
   "id": "f82c9d27",
   "metadata": {
    "execution": {
     "iopub.execute_input": "2021-08-20T15:24:05.205298Z",
     "iopub.status.busy": "2021-08-20T15:24:05.204614Z",
     "iopub.status.idle": "2021-08-20T15:24:05.207671Z",
     "shell.execute_reply": "2021-08-20T15:24:05.207146Z",
     "shell.execute_reply.started": "2021-08-20T13:59:47.444702Z"
    },
    "papermill": {
     "duration": 0.05217,
     "end_time": "2021-08-20T15:24:05.207808",
     "exception": false,
     "start_time": "2021-08-20T15:24:05.155638",
     "status": "completed"
    },
    "tags": []
   },
   "outputs": [],
   "source": [
    "qty_test = pd.DataFrame(gazoza_test.groupby(['date'], axis =0, as_index=True).sum()['quantity'])"
   ]
  },
  {
   "cell_type": "code",
   "execution_count": 23,
   "id": "d8c43131",
   "metadata": {
    "execution": {
     "iopub.execute_input": "2021-08-20T15:24:05.322418Z",
     "iopub.status.busy": "2021-08-20T15:24:05.311071Z",
     "iopub.status.idle": "2021-08-20T15:24:05.506401Z",
     "shell.execute_reply": "2021-08-20T15:24:05.505620Z",
     "shell.execute_reply.started": "2021-08-20T14:03:44.609939Z"
    },
    "papermill": {
     "duration": 0.259223,
     "end_time": "2021-08-20T15:24:05.506578",
     "exception": false,
     "start_time": "2021-08-20T15:24:05.247355",
     "status": "completed"
    },
    "tags": []
   },
   "outputs": [
    {
     "data": {
      "text/plain": [
       "[<matplotlib.lines.Line2D at 0x7f7e016015d0>]"
      ]
     },
     "execution_count": 23,
     "metadata": {},
     "output_type": "execute_result"
    },
    {
     "data": {
      "image/png": "[encoded data removed]",
      "text/plain": [
       "<Figure size 720x432 with 1 Axes>"
      ]
     },
     "metadata": {
      "needs_background": "light"
     },
     "output_type": "display_data"
    }
   ],
   "source": [
    "plt.plot(qty_test, label = \"2018 Test Data\")\n",
    "plt.plot(aggregated_tsa_forecast, label = \"2018 Forecast\")"
   ]
  },
  {
   "cell_type": "code",
   "execution_count": null,
   "id": "3ef4504d",
   "metadata": {
    "papermill": {
     "duration": 0.041063,
     "end_time": "2021-08-20T15:24:05.589176",
     "exception": false,
     "start_time": "2021-08-20T15:24:05.548113",
     "status": "completed"
    },
    "tags": []
   },
   "outputs": [],
   "source": []
  }
 ],
 "metadata": {
  "kernelspec": {
   "display_name": "Python 3",
   "language": "python",
   "name": "python3"
  },
  "language_info": {
   "codemirror_mode": {
    "name": "ipython",
    "version": 3
   },
   "file_extension": ".py",
   "mimetype": "text/x-python",
   "name": "python",
   "nbconvert_exporter": "python",
   "pygments_lexer": "ipython3",
   "version": "3.7.10"
  },
  "papermill": {
   "default_parameters": {},
   "duration": 23.78292,
   "end_time": "2021-08-20T15:24:06.744012",
   "environment_variables": {},
   "exception": null,
   "input_path": "__notebook__.ipynb",
   "output_path": "__notebook__.ipynb",
   "parameters": {},
   "start_time": "2021-08-20T15:23:42.961092",
   "version": "2.3.3"
  }
 },
 "nbformat": 4,
 "nbformat_minor": 5
}
