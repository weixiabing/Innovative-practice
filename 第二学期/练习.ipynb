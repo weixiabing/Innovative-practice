{
 "cells": [
  {
   "cell_type": "code",
   "execution_count": 2,
   "metadata": {},
   "outputs": [
    {
     "name": "stdout",
     "output_type": "stream",
     "text": [
      "       carat        cut color clarity  depth  table  price     x     y     z\n",
      "0       0.23      Ideal     E     SI2   61.5   55.0    326  3.95  3.98  2.43\n",
      "1       0.21    Premium     E     SI1   59.8   61.0    326  3.89  3.84  2.31\n",
      "2       0.23       Good     E     VS1   56.9   65.0    327  4.05  4.07  2.31\n",
      "3       0.29    Premium     I     VS2   62.4   58.0    334  4.20  4.23  2.63\n",
      "4       0.31       Good     J     SI2   63.3   58.0    335  4.34  4.35  2.75\n",
      "...      ...        ...   ...     ...    ...    ...    ...   ...   ...   ...\n",
      "53935   0.72      Ideal     D     SI1   60.8   57.0   2757  5.75  5.76  3.50\n",
      "53936   0.72       Good     D     SI1   63.1   55.0   2757  5.69  5.75  3.61\n",
      "53937   0.70  Very Good     D     SI1   62.8   60.0   2757  5.66  5.68  3.56\n",
      "53938   0.86    Premium     H     SI2   61.0   58.0   2757  6.15  6.12  3.74\n",
      "53939   0.75      Ideal     D     SI2   62.2   55.0   2757  5.83  5.87  3.64\n",
      "\n",
      "[53940 rows x 10 columns]\n"
     ]
    }
   ],
   "source": [
    "#created by niko\n",
    "import pandas as pd\n",
    "diamonds = pd.read_csv('diamonds.csv')\n",
    "print(diamonds)\n"
   ]
  },
  {
   "cell_type": "code",
   "execution_count": 2,
   "metadata": {},
   "outputs": [
    {
     "name": "stdout",
     "output_type": "stream",
     "text": [
      "First 5 rows:\n",
      "   carat      cut color clarity  depth  table  price     x     y     z\n",
      "0   0.23    Ideal     E     SI2   61.5   55.0    326  3.95  3.98  2.43\n",
      "1   0.21  Premium     E     SI1   59.8   61.0    326  3.89  3.84  2.31\n",
      "2   0.23     Good     E     VS1   56.9   65.0    327  4.05  4.07  2.31\n",
      "3   0.29  Premium     I     VS2   62.4   58.0    334  4.20  4.23  2.63\n",
      "4   0.31     Good     J     SI2   63.3   58.0    335  4.34  4.35  2.75\n"
     ]
    }
   ],
   "source": [
    "import pandas as pd\n",
    "pd.set_option('display.max_rows', 50)\n",
    "pd.set_option('display.max_columns', 50)\n",
    "diamonds = pd.read_csv('diamonds.csv')\n",
    "print(\"First 5 rows:\")\n",
    "print(diamonds.head())\n"
   ]
  },
  {
   "cell_type": "code",
   "execution_count": 4,
   "metadata": {},
   "outputs": [
    {
     "name": "stdout",
     "output_type": "stream",
     "text": [
      "First 6 rows:\n",
      "   carat        cut color clarity  depth  table  price     x     y     z\n",
      "0   0.23      Ideal     E     SI2   61.5   55.0    326  3.95  3.98  2.43\n",
      "1   0.21    Premium     E     SI1   59.8   61.0    326  3.89  3.84  2.31\n",
      "2   0.23       Good     E     VS1   56.9   65.0    327  4.05  4.07  2.31\n",
      "3   0.29    Premium     I     VS2   62.4   58.0    334  4.20  4.23  2.63\n",
      "4   0.31       Good     J     SI2   63.3   58.0    335  4.34  4.35  2.75\n",
      "5   0.24  Very Good     J    VVS2   62.8   57.0    336  3.94  3.96  2.48\n"
     ]
    }
   ],
   "source": [
    "import pandas as pd\n",
    "pd.set_option('display.max_rows', 50)\n",
    "pd.set_option('display.max_columns', 50)\n",
    "diamonds = pd.read_csv('diamonds.csv')\n",
    "print(\"First 6 rows:\")\n",
    "print(diamonds.head(6))\n"
   ]
  },
  {
   "cell_type": "code",
   "execution_count": 5,
   "metadata": {},
   "outputs": [
    {
     "name": "stdout",
     "output_type": "stream",
     "text": [
      "第二列\n",
      "0        E\n",
      "1        E\n",
      "2        E\n",
      "3        I\n",
      "4        J\n",
      "        ..\n",
      "53935    D\n",
      "53936    D\n",
      "53937    D\n",
      "53938    H\n",
      "53939    D\n",
      "Name: color, Length: 53940, dtype: object\n"
     ]
    }
   ],
   "source": [
    "import pandas as pd\n",
    "pd.set_option('display.max_rows', 50)\n",
    "pd.set_option('display.max_columns', 50)\n",
    "diamonds = pd.read_csv('diamonds.csv')\n",
    "print(\"第二列:\")\n",
    "print(diamonds[\"color\"])"
   ]
  },
  {
   "cell_type": "code",
   "execution_count": 7,
   "metadata": {},
   "outputs": [
    {
     "name": "stdout",
     "output_type": "stream",
     "text": [
      "cut列和color列:\n",
      "             cut color\n",
      "0          Ideal     E\n",
      "1        Premium     E\n",
      "2           Good     E\n",
      "3        Premium     I\n",
      "4           Good     J\n",
      "...          ...   ...\n",
      "53935      Ideal     D\n",
      "53936       Good     D\n",
      "53937  Very Good     D\n",
      "53938    Premium     H\n",
      "53939      Ideal     D\n",
      "\n",
      "[53940 rows x 2 columns]\n"
     ]
    }
   ],
   "source": [
    "import pandas as pd\n",
    "pd.set_option('display.max_rows', 50)\n",
    "pd.set_option('display.max_columns', 50)\n",
    "diamonds = pd.read_csv('diamonds.csv')\n",
    "#取diamonds中的cut列和color列\n",
    "print(\"cut列和color列:\")\n",
    "print(diamonds[[\"cut\", \"color\"]])\n"
   ]
  },
  {
   "cell_type": "code",
   "execution_count": 1,
   "metadata": {},
   "outputs": [
    {
     "name": "stdout",
     "output_type": "stream",
     "text": [
      "diamonds中每列的行数和列数以及数据类型:\n",
      "(53940, 10)\n",
      "carat      float64\n",
      "cut         object\n",
      "color       object\n",
      "clarity     object\n",
      "depth      float64\n",
      "table      float64\n",
      "price        int64\n",
      "x          float64\n",
      "y          float64\n",
      "z          float64\n",
      "dtype: object\n"
     ]
    }
   ],
   "source": [
    "import pandas as pd\n",
    "diamonds = pd.read_csv('diamonds.csv')\n",
    "#diamonds中每列的行数和列数以及数据类型\n",
    "print(\"diamonds中每列的行数和列数以及数据类型:\")\n",
    "print(diamonds.shape)\n",
    "print(diamonds.dtypes)\n"
   ]
  },
  {
   "cell_type": "code",
   "execution_count": 4,
   "metadata": {},
   "outputs": [
    {
     "name": "stdout",
     "output_type": "stream",
     "text": [
      "汇总object类型的列:\n",
      "          cut  color clarity\n",
      "count   53940  53940   53940\n",
      "unique      5      7       8\n",
      "top     Ideal      G     SI1\n",
      "freq    21551  11292   13065\n"
     ]
    }
   ],
   "source": [
    "import pandas as pd\n",
    "diamonds = pd.read_csv('diamonds.csv')\n",
    "#汇总object类型的列\n",
    "print(\"汇总object类型的列:\")    \n",
    "print(diamonds.describe(include=['object']))\n",
    "\n"
   ]
  },
  {
   "cell_type": "code",
   "execution_count": 3,
   "metadata": {},
   "outputs": [
    {
     "name": "stdout",
     "output_type": "stream",
     "text": [
      "编写一个 Pandas 程序来重命名 Dataframe 的所有列:\n",
      "       carats        cut color clarity  depth  table  prices     x     y     z\n",
      "0        0.23      Ideal     E     SI2   61.5   55.0     326  3.95  3.98  2.43\n",
      "1        0.21    Premium     E     SI1   59.8   61.0     326  3.89  3.84  2.31\n",
      "2        0.23       Good     E     VS1   56.9   65.0     327  4.05  4.07  2.31\n",
      "3        0.29    Premium     I     VS2   62.4   58.0     334  4.20  4.23  2.63\n",
      "4        0.31       Good     J     SI2   63.3   58.0     335  4.34  4.35  2.75\n",
      "...       ...        ...   ...     ...    ...    ...     ...   ...   ...   ...\n",
      "53935    0.72      Ideal     D     SI1   60.8   57.0    2757  5.75  5.76  3.50\n",
      "53936    0.72       Good     D     SI1   63.1   55.0    2757  5.69  5.75  3.61\n",
      "53937    0.70  Very Good     D     SI1   62.8   60.0    2757  5.66  5.68  3.56\n",
      "53938    0.86    Premium     H     SI2   61.0   58.0    2757  6.15  6.12  3.74\n",
      "53939    0.75      Ideal     D     SI2   62.2   55.0    2757  5.83  5.87  3.64\n",
      "\n",
      "[53940 rows x 10 columns]\n"
     ]
    }
   ],
   "source": [
    "import pandas as pd\n",
    "diamonds = pd.read_csv('diamonds.csv')\n",
    "#编写一个 Pandas 程序来重命名菱形 Dataframe 的所有列\n",
    "print(\"编写一个 Pandas 程序来重命名 Dataframe 的所有列:\")\n",
    "print(diamonds.rename(columns={'carat':'carats', 'price':'prices'}))\n",
    "\n"
   ]
  },
  {
   "cell_type": "code",
   "execution_count": 2,
   "metadata": {},
   "outputs": [
    {
     "name": "stdout",
     "output_type": "stream",
     "text": [
      "编写一个 Pandas 程序来 删除diamonds 的第二列:\n",
      "       carat        cut clarity  depth  table  price     x     y     z\n",
      "0       0.23      Ideal     SI2   61.5   55.0    326  3.95  3.98  2.43\n",
      "1       0.21    Premium     SI1   59.8   61.0    326  3.89  3.84  2.31\n",
      "2       0.23       Good     VS1   56.9   65.0    327  4.05  4.07  2.31\n",
      "3       0.29    Premium     VS2   62.4   58.0    334  4.20  4.23  2.63\n",
      "4       0.31       Good     SI2   63.3   58.0    335  4.34  4.35  2.75\n",
      "...      ...        ...     ...    ...    ...    ...   ...   ...   ...\n",
      "53935   0.72      Ideal     SI1   60.8   57.0   2757  5.75  5.76  3.50\n",
      "53936   0.72       Good     SI1   63.1   55.0   2757  5.69  5.75  3.61\n",
      "53937   0.70  Very Good     SI1   62.8   60.0   2757  5.66  5.68  3.56\n",
      "53938   0.86    Premium     SI2   61.0   58.0   2757  6.15  6.12  3.74\n",
      "53939   0.75      Ideal     SI2   62.2   55.0   2757  5.83  5.87  3.64\n",
      "\n",
      "[53940 rows x 9 columns]\n"
     ]
    }
   ],
   "source": [
    "import pandas as pd\n",
    "diamonds = pd.read_csv('diamonds.csv')\n",
    "#编写一个 Pandas 程序来 删除diamonds 的第二列\n",
    "print(\"编写一个 Pandas 程序来 删除diamonds 的第二列:\")\n",
    "print(diamonds.drop(columns=['color']))\n"
   ]
  },
  {
   "cell_type": "code",
   "execution_count": 3,
   "metadata": {},
   "outputs": [
    {
     "name": "stdout",
     "output_type": "stream",
     "text": [
      "编写一个 Pandas 程序来 删除diamonds 的多列:\n",
      "       carat        cut  depth  table  price     x     y     z\n",
      "0       0.23      Ideal   61.5   55.0    326  3.95  3.98  2.43\n",
      "1       0.21    Premium   59.8   61.0    326  3.89  3.84  2.31\n",
      "2       0.23       Good   56.9   65.0    327  4.05  4.07  2.31\n",
      "3       0.29    Premium   62.4   58.0    334  4.20  4.23  2.63\n",
      "4       0.31       Good   63.3   58.0    335  4.34  4.35  2.75\n",
      "...      ...        ...    ...    ...    ...   ...   ...   ...\n",
      "53935   0.72      Ideal   60.8   57.0   2757  5.75  5.76  3.50\n",
      "53936   0.72       Good   63.1   55.0   2757  5.69  5.75  3.61\n",
      "53937   0.70  Very Good   62.8   60.0   2757  5.66  5.68  3.56\n",
      "53938   0.86    Premium   61.0   58.0   2757  6.15  6.12  3.74\n",
      "53939   0.75      Ideal   62.2   55.0   2757  5.83  5.87  3.64\n",
      "\n",
      "[53940 rows x 8 columns]\n"
     ]
    }
   ],
   "source": [
    "import pandas as pd\n",
    "diamonds = pd.read_csv('diamonds.csv')\n",
    "#编写一个 Pandas 程序来 删除diamonds 的多列\n",
    "print(\"编写一个 Pandas 程序来 删除diamonds 的多列:\")\n",
    "print(diamonds.drop(columns=['color', 'clarity']))\n"
   ]
  },
  {
   "cell_type": "code",
   "execution_count": 4,
   "metadata": {},
   "outputs": [
    {
     "name": "stdout",
     "output_type": "stream",
     "text": [
      "从 diamonds 删除第二行:\n",
      "       carat        cut color clarity  depth  table  price     x     y     z\n",
      "0       0.23      Ideal     E     SI2   61.5   55.0    326  3.95  3.98  2.43\n",
      "2       0.23       Good     E     VS1   56.9   65.0    327  4.05  4.07  2.31\n",
      "3       0.29    Premium     I     VS2   62.4   58.0    334  4.20  4.23  2.63\n",
      "4       0.31       Good     J     SI2   63.3   58.0    335  4.34  4.35  2.75\n",
      "5       0.24  Very Good     J    VVS2   62.8   57.0    336  3.94  3.96  2.48\n",
      "...      ...        ...   ...     ...    ...    ...    ...   ...   ...   ...\n",
      "53935   0.72      Ideal     D     SI1   60.8   57.0   2757  5.75  5.76  3.50\n",
      "53936   0.72       Good     D     SI1   63.1   55.0   2757  5.69  5.75  3.61\n",
      "53937   0.70  Very Good     D     SI1   62.8   60.0   2757  5.66  5.68  3.56\n",
      "53938   0.86    Premium     H     SI2   61.0   58.0   2757  6.15  6.12  3.74\n",
      "53939   0.75      Ideal     D     SI2   62.2   55.0   2757  5.83  5.87  3.64\n",
      "\n",
      "[53939 rows x 10 columns]\n"
     ]
    }
   ],
   "source": [
    "import pandas as pd\n",
    "diamonds = pd.read_csv('diamonds.csv')\n",
    "#从 diamonds 删除第二行\n",
    "print(\"从 diamonds 删除第二行:\")\n",
    "print(diamonds.drop(index=1))\n"
   ]
  },
  {
   "cell_type": "code",
   "execution_count": 10,
   "metadata": {},
   "outputs": [
    {
     "name": "stdout",
     "output_type": "stream",
     "text": [
      "对cut行升序排序，只输出cut列:\n",
      "3850          Fair\n",
      "51464         Fair\n",
      "51466         Fair\n",
      "10237         Fair\n",
      "10760         Fair\n",
      "           ...    \n",
      "7402     Very Good\n",
      "43101    Very Good\n",
      "16893    Very Good\n",
      "16898    Very Good\n",
      "21164    Very Good\n",
      "Name: cut, Length: 53940, dtype: object\n"
     ]
    }
   ],
   "source": [
    "import pandas as pd\n",
    "diamonds = pd.read_csv('diamonds.csv')\n",
    "#对cut行升序排序，只输出cut列\n",
    "print(\"对cut行升序排序，只输出cut列:\")\n",
    "diamonds1=diamonds.sort_values(by='cut')\n",
    "print(diamonds1['cut'])\n"
   ]
  },
  {
   "cell_type": "code",
   "execution_count": 11,
   "metadata": {},
   "outputs": [
    {
     "name": "stdout",
     "output_type": "stream",
     "text": [
      "将 diamonds 用price 列降序排序:\n",
      "27749    18823\n",
      "27748    18818\n",
      "27747    18806\n",
      "27746    18804\n",
      "27745    18803\n",
      "         ...  \n",
      "4          335\n",
      "3          334\n",
      "2          327\n",
      "1          326\n",
      "0          326\n",
      "Name: price, Length: 53940, dtype: int64\n"
     ]
    }
   ],
   "source": [
    "import pandas as pd\n",
    "diamonds = pd.read_csv('diamonds.csv')\n",
    "#将 diamonds 用price 列降序排序\n",
    "print(\"将 diamonds 用price 列降序排序:\")\n",
    "diamonds1=diamonds.sort_values(by='price', ascending=False)\n",
    "print(diamonds1['price'])\n",
    "    "
   ]
  },
  {
   "cell_type": "code",
   "execution_count": null,
   "metadata": {},
   "outputs": [],
   "source": [
    "import pandas as pd\n",
    "diamonds = pd.read_csv('diamonds.csv')\n",
    "#将 diamonds 用price 列降序排序\n",
    "print(\"将 diamonds 用price 列降序排序:\")\n",
    "diamonds1=diamonds.sort_values(by='price', ascending=False)\n",
    "print(diamonds1['price'])"
   ]
  },
  {
   "cell_type": "code",
   "execution_count": 15,
   "metadata": {},
   "outputs": [
    {
     "name": "stdout",
     "output_type": "stream",
     "text": [
      "将 diamonds按分别 carat 降序和升序排序:\n",
      "       carat      cut color clarity  depth  table  price      x      y     z\n",
      "31593   0.20  Premium     E     VS2   61.1   59.0    367   3.81   3.78  2.32\n",
      "31597   0.20    Ideal     D     VS2   61.5   57.0    367   3.81   3.77  2.33\n",
      "31596   0.20  Premium     F     VS2   62.6   59.0    367   3.73   3.71  2.33\n",
      "31595   0.20    Ideal     E     VS2   59.7   55.0    367   3.86   3.84  2.30\n",
      "31594   0.20  Premium     E     VS2   59.7   62.0    367   3.84   3.80  2.28\n",
      "...      ...      ...   ...     ...    ...    ...    ...    ...    ...   ...\n",
      "25999   4.01  Premium     J      I1   62.5   62.0  15223  10.02   9.94  6.24\n",
      "25998   4.01  Premium     I      I1   61.0   61.0  15223  10.14  10.10  6.17\n",
      "27130   4.13     Fair     H      I1   64.8   61.0  17329  10.00   9.85  6.43\n",
      "27630   4.50     Fair     J      I1   65.8   58.0  18531  10.23  10.16  6.72\n",
      "27415   5.01     Fair     J      I1   65.5   59.0  18018  10.74  10.54  6.98\n",
      "\n",
      "[53940 rows x 10 columns]\n",
      "       carat        cut color clarity  depth  table  price      x      y     z\n",
      "27415   5.01       Fair     J      I1   65.5   59.0  18018  10.74  10.54  6.98\n",
      "27630   4.50       Fair     J      I1   65.8   58.0  18531  10.23  10.16  6.72\n",
      "27130   4.13       Fair     H      I1   64.8   61.0  17329  10.00   9.85  6.43\n",
      "25998   4.01    Premium     I      I1   61.0   61.0  15223  10.14  10.10  6.17\n",
      "25999   4.01    Premium     J      I1   62.5   62.0  15223  10.02   9.94  6.24\n",
      "...      ...        ...   ...     ...    ...    ...    ...    ...    ...   ...\n",
      "31601   0.20    Premium     D     VS2   61.7   60.0    367   3.77   3.72  2.31\n",
      "31598   0.20  Very Good     E     VS2   63.4   59.0    367   3.74   3.71  2.36\n",
      "14      0.20    Premium     E     SI2   60.2   62.0    345   3.79   3.75  2.27\n",
      "31599   0.20      Ideal     E     VS2   62.2   57.0    367   3.76   3.73  2.33\n",
      "31593   0.20    Premium     E     VS2   61.1   59.0    367   3.81   3.78  2.32\n",
      "\n",
      "[53940 rows x 10 columns]\n"
     ]
    }
   ],
   "source": [
    "import pandas as pd\n",
    "diamonds = pd.read_csv('diamonds.csv')\n",
    "#将 diamonds按分别 carat 降序和升序排序\n",
    "print(\"将 diamonds按分别 carat 降序和升序排序:\")\n",
    "diamonds1=diamonds.sort_values(by=['carat'])\n",
    "print(diamonds1)\n",
    "print(diamonds1.sort_values(by=['carat'], ascending=False))"
   ]
  },
  {
   "cell_type": "code",
   "execution_count": 16,
   "metadata": {},
   "outputs": [
    {
     "name": "stdout",
     "output_type": "stream",
     "text": [
      "只输出diamonds的carat列大于0.3的行:\n",
      "       carat        cut color clarity  depth  table  price     x     y     z\n",
      "4       0.31       Good     J     SI2   63.3   58.0    335  4.34  4.35  2.75\n",
      "13      0.31      Ideal     J     SI2   62.2   54.0    344  4.35  4.37  2.71\n",
      "15      0.32    Premium     E      I1   60.9   58.0    345  4.38  4.42  2.68\n",
      "23      0.31  Very Good     J     SI1   59.4   62.0    353  4.39  4.43  2.62\n",
      "24      0.31  Very Good     J     SI1   58.1   62.0    353  4.44  4.47  2.59\n",
      "...      ...        ...   ...     ...    ...    ...    ...   ...   ...   ...\n",
      "53935   0.72      Ideal     D     SI1   60.8   57.0   2757  5.75  5.76  3.50\n",
      "53936   0.72       Good     D     SI1   63.1   55.0   2757  5.69  5.75  3.61\n",
      "53937   0.70  Very Good     D     SI1   62.8   60.0   2757  5.66  5.68  3.56\n",
      "53938   0.86    Premium     H     SI2   61.0   58.0   2757  6.15  6.12  3.74\n",
      "53939   0.75      Ideal     D     SI2   62.2   55.0   2757  5.83  5.87  3.64\n",
      "\n",
      "[49737 rows x 10 columns]\n"
     ]
    }
   ],
   "source": [
    "import pandas as pd\n",
    "diamonds = pd.read_csv('diamonds.csv')\n",
    "#只输出diamonds的carat列大于0.3的行 \n",
    "print(\"只输出diamonds的carat列大于0.3的行:\")\n",
    "print(diamonds[diamonds['carat']>0.3])\n",
    "\n"
   ]
  },
  {
   "cell_type": "code",
   "execution_count": 17,
   "metadata": {},
   "outputs": [
    {
     "name": "stdout",
     "output_type": "stream",
     "text": [
      "将python列表转换为pandas series:\n",
      "0    1\n",
      "1    2\n",
      "2    3\n",
      "3    4\n",
      "4    5\n",
      "dtype: int64\n"
     ]
    }
   ],
   "source": [
    "import pandas as pd\n",
    "#将python列表转换为pandas series\n",
    "print(\"将python列表转换为pandas series:\")\n",
    "data = [1, 2, 3, 4, 5]\n",
    "print(pd.Series(data))\n",
    "\n"
   ]
  }
 ],
 "metadata": {
  "interpreter": {
   "hash": "43b890b1fba5322f149fd33c953a1f4d91275c6a958e3f81d44989dc4842e8f0"
  },
  "kernelspec": {
   "display_name": "Python 3.8.6 ('Innovative-practice-HHChy52D')",
   "language": "python",
   "name": "python3"
  },
  "language_info": {
   "codemirror_mode": {
    "name": "ipython",
    "version": 3
   },
   "file_extension": ".py",
   "mimetype": "text/x-python",
   "name": "python",
   "nbconvert_exporter": "python",
   "pygments_lexer": "ipython3",
   "version": "3.8.6"
  },
  "orig_nbformat": 4
 },
 "nbformat": 4,
 "nbformat_minor": 2
}
