{
 "cells": [
  {
   "cell_type": "code",
   "execution_count": 2,
   "metadata": {},
   "outputs": [
    {
     "name": "stdout",
     "output_type": "stream",
     "text": [
      "       carat        cut color clarity  depth  table  price     x     y     z\n",
      "0       0.23      Ideal     E     SI2   61.5   55.0    326  3.95  3.98  2.43\n",
      "1       0.21    Premium     E     SI1   59.8   61.0    326  3.89  3.84  2.31\n",
      "2       0.23       Good     E     VS1   56.9   65.0    327  4.05  4.07  2.31\n",
      "3       0.29    Premium     I     VS2   62.4   58.0    334  4.20  4.23  2.63\n",
      "4       0.31       Good     J     SI2   63.3   58.0    335  4.34  4.35  2.75\n",
      "...      ...        ...   ...     ...    ...    ...    ...   ...   ...   ...\n",
      "53935   0.72      Ideal     D     SI1   60.8   57.0   2757  5.75  5.76  3.50\n",
      "53936   0.72       Good     D     SI1   63.1   55.0   2757  5.69  5.75  3.61\n",
      "53937   0.70  Very Good     D     SI1   62.8   60.0   2757  5.66  5.68  3.56\n",
      "53938   0.86    Premium     H     SI2   61.0   58.0   2757  6.15  6.12  3.74\n",
      "53939   0.75      Ideal     D     SI2   62.2   55.0   2757  5.83  5.87  3.64\n",
      "\n",
      "[53940 rows x 10 columns]\n"
     ]
    }
   ],
   "source": [
    "#created by niko\n",
    "import pandas as pd\n",
    "diamonds = pd.read_csv('diamonds.csv')\n",
    "print(diamonds)\n"
   ]
  },
  {
   "cell_type": "code",
   "execution_count": 2,
   "metadata": {},
   "outputs": [
    {
     "name": "stdout",
     "output_type": "stream",
     "text": [
      "First 5 rows:\n",
      "   carat      cut color clarity  depth  table  price     x     y     z\n",
      "0   0.23    Ideal     E     SI2   61.5   55.0    326  3.95  3.98  2.43\n",
      "1   0.21  Premium     E     SI1   59.8   61.0    326  3.89  3.84  2.31\n",
      "2   0.23     Good     E     VS1   56.9   65.0    327  4.05  4.07  2.31\n",
      "3   0.29  Premium     I     VS2   62.4   58.0    334  4.20  4.23  2.63\n",
      "4   0.31     Good     J     SI2   63.3   58.0    335  4.34  4.35  2.75\n"
     ]
    }
   ],
   "source": [
    "import pandas as pd\n",
    "pd.set_option('display.max_rows', 50)\n",
    "pd.set_option('display.max_columns', 50)\n",
    "diamonds = pd.read_csv('diamonds.csv')\n",
    "print(\"First 5 rows:\")\n",
    "print(diamonds.head())\n"
   ]
  },
  {
   "cell_type": "code",
   "execution_count": 4,
   "metadata": {},
   "outputs": [
    {
     "name": "stdout",
     "output_type": "stream",
     "text": [
      "First 6 rows:\n",
      "   carat        cut color clarity  depth  table  price     x     y     z\n",
      "0   0.23      Ideal     E     SI2   61.5   55.0    326  3.95  3.98  2.43\n",
      "1   0.21    Premium     E     SI1   59.8   61.0    326  3.89  3.84  2.31\n",
      "2   0.23       Good     E     VS1   56.9   65.0    327  4.05  4.07  2.31\n",
      "3   0.29    Premium     I     VS2   62.4   58.0    334  4.20  4.23  2.63\n",
      "4   0.31       Good     J     SI2   63.3   58.0    335  4.34  4.35  2.75\n",
      "5   0.24  Very Good     J    VVS2   62.8   57.0    336  3.94  3.96  2.48\n"
     ]
    }
   ],
   "source": [
    "import pandas as pd\n",
    "pd.set_option('display.max_rows', 50)\n",
    "pd.set_option('display.max_columns', 50)\n",
    "diamonds = pd.read_csv('diamonds.csv')\n",
    "print(\"First 6 rows:\")\n",
    "print(diamonds.head(6))\n"
   ]
  },
  {
   "cell_type": "code",
   "execution_count": 5,
   "metadata": {},
   "outputs": [
    {
     "name": "stdout",
     "output_type": "stream",
     "text": [
      "第二列\n",
      "0        E\n",
      "1        E\n",
      "2        E\n",
      "3        I\n",
      "4        J\n",
      "        ..\n",
      "53935    D\n",
      "53936    D\n",
      "53937    D\n",
      "53938    H\n",
      "53939    D\n",
      "Name: color, Length: 53940, dtype: object\n"
     ]
    }
   ],
   "source": [
    "import pandas as pd\n",
    "pd.set_option('display.max_rows', 50)\n",
    "pd.set_option('display.max_columns', 50)\n",
    "diamonds = pd.read_csv('diamonds.csv')\n",
    "print(\"第二列:\")\n",
    "print(diamonds[\"color\"])"
   ]
  },
  {
   "cell_type": "code",
   "execution_count": 7,
   "metadata": {},
   "outputs": [
    {
     "name": "stdout",
     "output_type": "stream",
     "text": [
      "cut列和color列:\n",
      "             cut color\n",
      "0          Ideal     E\n",
      "1        Premium     E\n",
      "2           Good     E\n",
      "3        Premium     I\n",
      "4           Good     J\n",
      "...          ...   ...\n",
      "53935      Ideal     D\n",
      "53936       Good     D\n",
      "53937  Very Good     D\n",
      "53938    Premium     H\n",
      "53939      Ideal     D\n",
      "\n",
      "[53940 rows x 2 columns]\n"
     ]
    }
   ],
   "source": [
    "import pandas as pd\n",
    "pd.set_option('display.max_rows', 50)\n",
    "pd.set_option('display.max_columns', 50)\n",
    "diamonds = pd.read_csv('diamonds.csv')\n",
    "#取diamonds中的cut列和color列\n",
    "print(\"cut列和color列:\")\n",
    "print(diamonds[[\"cut\", \"color\"]])\n"
   ]
  },
  {
   "cell_type": "code",
   "execution_count": 1,
   "metadata": {},
   "outputs": [
    {
     "name": "stdout",
     "output_type": "stream",
     "text": [
      "diamonds中每列的行数和列数以及数据类型:\n",
      "(53940, 10)\n",
      "carat      float64\n",
      "cut         object\n",
      "color       object\n",
      "clarity     object\n",
      "depth      float64\n",
      "table      float64\n",
      "price        int64\n",
      "x          float64\n",
      "y          float64\n",
      "z          float64\n",
      "dtype: object\n"
     ]
    }
   ],
   "source": [
    "import pandas as pd\n",
    "diamonds = pd.read_csv('diamonds.csv')\n",
    "#diamonds中每列的行数和列数以及数据类型\n",
    "print(\"diamonds中每列的行数和列数以及数据类型:\")\n",
    "print(diamonds.shape)\n",
    "print(diamonds.dtypes)\n"
   ]
  },
  {
   "cell_type": "code",
   "execution_count": 2,
   "metadata": {},
   "outputs": [
    {
     "name": "stdout",
     "output_type": "stream",
     "text": [
      "汇总object类型的列:\n",
      "          cut  color clarity\n",
      "count   53940  53940   53940\n",
      "unique      5      7       8\n",
      "top     Ideal      G     SI1\n",
      "freq    21551  11292   13065\n"
     ]
    }
   ],
   "source": [
    "import pandas as pd\n",
    "diamonds = pd.read_csv('diamonds.csv')\n",
    "#汇总object类型的列\n",
    "print(\"汇总object类型的列:\")\n",
    "print(diamonds.describe(include=['object']))\n"
   ]
  },
  {
   "cell_type": "code",
   "execution_count": 3,
   "metadata": {},
   "outputs": [
    {
     "name": "stdout",
     "output_type": "stream",
     "text": [
      "编写一个 Pandas 程序来重命名 Dataframe 的所有列:\n",
      "       carats        cut color clarity  depth  table  prices     x     y     z\n",
      "0        0.23      Ideal     E     SI2   61.5   55.0     326  3.95  3.98  2.43\n",
      "1        0.21    Premium     E     SI1   59.8   61.0     326  3.89  3.84  2.31\n",
      "2        0.23       Good     E     VS1   56.9   65.0     327  4.05  4.07  2.31\n",
      "3        0.29    Premium     I     VS2   62.4   58.0     334  4.20  4.23  2.63\n",
      "4        0.31       Good     J     SI2   63.3   58.0     335  4.34  4.35  2.75\n",
      "...       ...        ...   ...     ...    ...    ...     ...   ...   ...   ...\n",
      "53935    0.72      Ideal     D     SI1   60.8   57.0    2757  5.75  5.76  3.50\n",
      "53936    0.72       Good     D     SI1   63.1   55.0    2757  5.69  5.75  3.61\n",
      "53937    0.70  Very Good     D     SI1   62.8   60.0    2757  5.66  5.68  3.56\n",
      "53938    0.86    Premium     H     SI2   61.0   58.0    2757  6.15  6.12  3.74\n",
      "53939    0.75      Ideal     D     SI2   62.2   55.0    2757  5.83  5.87  3.64\n",
      "\n",
      "[53940 rows x 10 columns]\n"
     ]
    }
   ],
   "source": [
    "import pandas as pd\n",
    "diamonds = pd.read_csv('diamonds.csv')\n",
    "#编写一个 Pandas 程序来重命名菱形 Dataframe 的所有列\n",
    "print(\"编写一个 Pandas 程序来重命名 Dataframe 的所有列:\")\n",
    "print(diamonds.rename(columns={'carat':'carats', 'price':'prices'}))\n",
    "\n"
   ]
  },
  {
   "cell_type": "code",
   "execution_count": null,
   "metadata": {},
   "outputs": [],
   "source": []
  }
 ],
 "metadata": {
  "interpreter": {
   "hash": "43b890b1fba5322f149fd33c953a1f4d91275c6a958e3f81d44989dc4842e8f0"
  },
  "kernelspec": {
   "display_name": "Python 3.8.6 ('Innovative-practice-HHChy52D')",
   "language": "python",
   "name": "python3"
  },
  "language_info": {
   "codemirror_mode": {
    "name": "ipython",
    "version": 3
   },
   "file_extension": ".py",
   "mimetype": "text/x-python",
   "name": "python",
   "nbconvert_exporter": "python",
   "pygments_lexer": "ipython3",
   "version": "3.8.6"
  },
  "orig_nbformat": 4
 },
 "nbformat": 4,
 "nbformat_minor": 2
}
