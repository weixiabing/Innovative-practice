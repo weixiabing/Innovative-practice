{
 "cells": [
  {
   "cell_type": "markdown",
   "id": "42c08ac3",
   "metadata": {
    "papermill": {
     "duration": 0.047927,
     "end_time": "2021-08-20T15:23:36.618079",
     "exception": false,
     "start_time": "2021-08-20T15:23:36.570152",
     "status": "completed"
    },
    "tags": []
   },
   "source": [
    "### Knowing the probability distiburion of the demand of products can help determine the optimal order quantity.\n",
    "\n",
    "The Newsvendor problem is a situation where there is uncertain demand for a perishable product.\n",
    "\n",
    "Newspaper is an example. A newsvendor does not know how many newspapers they will sell that day, and they have to estimate the order quanity. If the amount the newsvendor ordered is too little and the demand is too large, then they lose potential income. If the demand is too little and they ordered too much newspaper, then they will not get a profit on the money they spent to buy the papers.\n",
    "\n",
    "This problem can be optimized if we know the distribution of the demand *D*, *Co* or the costs of ordering one more newspaper over the demand (*d+1*), and *Cu* the cost of ordering one less newspaper under the demand (*d-1*).\n",
    "\n",
    "Suppose the CDF of the demand distribution is *F(.)* and *y* is the order quantity. \n",
    "\n",
    "The optinal *y = F^-1 (Cu / (Cu + Co))*\n",
    "\n",
    "We do not always know how the demand is distributed.\n",
    "\n",
    "**But how can be estimate the distribution?**"
   ]
  },
  {
   "cell_type": "code",
   "execution_count": 3,
   "id": "d502b7c2",
   "metadata": {
    "_cell_guid": "b1076dfc-b9ad-4769-8c92-a6c4dae69d19",
    "_uuid": "8f2839f25d086af736a60e9eeb907d3b93b6e0e5",
    "execution": {
     "iopub.execute_input": "2021-08-20T15:23:36.720763Z",
     "iopub.status.busy": "2021-08-20T15:23:36.718926Z",
     "iopub.status.idle": "2021-08-20T15:23:37.947985Z",
     "shell.execute_reply": "2021-08-20T15:23:37.947247Z",
     "shell.execute_reply.started": "2021-08-09T06:10:21.349114Z"
    },
    "papermill": {
     "duration": 1.283051,
     "end_time": "2021-08-20T15:23:37.948181",
     "exception": false,
     "start_time": "2021-08-20T15:23:36.665130",
     "status": "completed"
    },
    "tags": []
   },
   "outputs": [
    {
     "name": "stdout",
     "output_type": "stream",
     "text": [
      "D:\\library\\Github\\Innovative-practice\\library\\csv\\第二学期\\test.csv\n",
      "D:\\library\\Github\\Innovative-practice\\library\\csv\\第二学期\\train.csv\n"
     ]
    }
   ],
   "source": [
    "import numpy as np # linear algebra\n",
    "import pandas as pd # data processing, CSV file I/O (e.g. pd.read_csv)\n",
    "import seaborn as sns\n",
    "import matplotlib.pyplot as plt\n",
    "from scipy.stats import norm\n",
    "\n",
    "import os\n",
    "for dirname, _, filenames in os.walk('D:\\library\\Github\\Innovative-practice\\library\\csv\\第二学期'):\n",
    "    for filename in filenames:\n",
    "        print(os.path.join(dirname, filename))"
   ]
  },
  {
   "cell_type": "markdown",
   "id": "761a7003",
   "metadata": {
    "papermill": {
     "duration": 0.049672,
     "end_time": "2021-08-20T15:23:38.050110",
     "exception": false,
     "start_time": "2021-08-20T15:23:38.000438",
     "status": "completed"
    },
    "tags": []
   },
   "source": [
    "## Import Sales/Damand Data and Clean\n",
    "\n",
    "The factor quantity represents demand of the products."
   ]
  },
  {
   "cell_type": "code",
   "execution_count": 6,
   "id": "18798e02",
   "metadata": {
    "execution": {
     "iopub.execute_input": "2021-08-20T15:23:38.154282Z",
     "iopub.status.busy": "2021-08-20T15:23:38.153615Z",
     "iopub.status.idle": "2021-08-20T15:23:38.198350Z",
     "shell.execute_reply": "2021-08-20T15:23:38.197750Z",
     "shell.execute_reply.started": "2021-08-09T06:10:22.371721Z"
    },
    "papermill": {
     "duration": 0.10014,
     "end_time": "2021-08-20T15:23:38.198499",
     "exception": false,
     "start_time": "2021-08-20T15:23:38.098359",
     "status": "completed"
    },
    "tags": []
   },
   "outputs": [],
   "source": [
    "train_df = pd.read_csv(\"D:/library/Github/Innovative-practice/library/csv/第二学期/train.csv\")\n",
    "# train[6479:6490]\n",
    "train  = train_df.drop(train_df.index[6480:]) # after row 6479, all the values are Nan."
   ]
  },
  {
   "cell_type": "code",
   "execution_count": 7,
   "id": "6e88bee8",
   "metadata": {
    "execution": {
     "iopub.execute_input": "2021-08-20T15:23:38.309397Z",
     "iopub.status.busy": "2021-08-20T15:23:38.308563Z",
     "iopub.status.idle": "2021-08-20T15:23:38.336343Z",
     "shell.execute_reply": "2021-08-20T15:23:38.335615Z",
     "shell.execute_reply.started": "2021-08-09T06:10:22.418431Z"
    },
    "papermill": {
     "duration": 0.090005,
     "end_time": "2021-08-20T15:23:38.336546",
     "exception": false,
     "start_time": "2021-08-20T15:23:38.246541",
     "status": "completed"
    },
    "tags": []
   },
   "outputs": [
    {
     "data": {
      "text/html": [
       "<div>\n",
       "<style scoped>\n",
       "    .dataframe tbody tr th:only-of-type {\n",
       "        vertical-align: middle;\n",
       "    }\n",
       "\n",
       "    .dataframe tbody tr th {\n",
       "        vertical-align: top;\n",
       "    }\n",
       "\n",
       "    .dataframe thead th {\n",
       "        text-align: right;\n",
       "    }\n",
       "</style>\n",
       "<table border=\"1\" class=\"dataframe\">\n",
       "  <thead>\n",
       "    <tr style=\"text-align: right;\">\n",
       "      <th></th>\n",
       "      <th>id</th>\n",
       "      <th>date</th>\n",
       "      <th>city</th>\n",
       "      <th>lat</th>\n",
       "      <th>long</th>\n",
       "      <th>pop</th>\n",
       "      <th>shop</th>\n",
       "      <th>brand</th>\n",
       "      <th>container</th>\n",
       "      <th>capacity</th>\n",
       "      <th>price</th>\n",
       "      <th>quantity</th>\n",
       "    </tr>\n",
       "  </thead>\n",
       "  <tbody>\n",
       "    <tr>\n",
       "      <th>6475</th>\n",
       "      <td>6475.0</td>\n",
       "      <td>31/12/17</td>\n",
       "      <td>Athens</td>\n",
       "      <td>37.96245</td>\n",
       "      <td>23.68708</td>\n",
       "      <td>665871.0</td>\n",
       "      <td>shop_3</td>\n",
       "      <td>orange-power</td>\n",
       "      <td>plastic</td>\n",
       "      <td>1.5lt</td>\n",
       "      <td>1.02</td>\n",
       "      <td>33201.0</td>\n",
       "    </tr>\n",
       "    <tr>\n",
       "      <th>6476</th>\n",
       "      <td>6476.0</td>\n",
       "      <td>31/12/17</td>\n",
       "      <td>Larisa</td>\n",
       "      <td>39.63689</td>\n",
       "      <td>22.41761</td>\n",
       "      <td>144302.0</td>\n",
       "      <td>shop_5</td>\n",
       "      <td>orange-power</td>\n",
       "      <td>can</td>\n",
       "      <td>330ml</td>\n",
       "      <td>0.47</td>\n",
       "      <td>46971.0</td>\n",
       "    </tr>\n",
       "    <tr>\n",
       "      <th>6477</th>\n",
       "      <td>6477.0</td>\n",
       "      <td>31/12/17</td>\n",
       "      <td>Patra</td>\n",
       "      <td>38.24444</td>\n",
       "      <td>21.73444</td>\n",
       "      <td>168501.0</td>\n",
       "      <td>shop_6</td>\n",
       "      <td>adult-cola</td>\n",
       "      <td>glass</td>\n",
       "      <td>500ml</td>\n",
       "      <td>1.02</td>\n",
       "      <td>47708.0</td>\n",
       "    </tr>\n",
       "    <tr>\n",
       "      <th>6478</th>\n",
       "      <td>6478.0</td>\n",
       "      <td>31/12/17</td>\n",
       "      <td>Thessaloniki</td>\n",
       "      <td>40.64361</td>\n",
       "      <td>22.93086</td>\n",
       "      <td>353001.0</td>\n",
       "      <td>shop_4</td>\n",
       "      <td>gazoza</td>\n",
       "      <td>plastic</td>\n",
       "      <td>1.5lt</td>\n",
       "      <td>1.34</td>\n",
       "      <td>27115.0</td>\n",
       "    </tr>\n",
       "    <tr>\n",
       "      <th>6479</th>\n",
       "      <td>6479.0</td>\n",
       "      <td>31/12/17</td>\n",
       "      <td>Thessaloniki</td>\n",
       "      <td>40.64361</td>\n",
       "      <td>22.93086</td>\n",
       "      <td>353001.0</td>\n",
       "      <td>shop_4</td>\n",
       "      <td>adult-cola</td>\n",
       "      <td>glass</td>\n",
       "      <td>500ml</td>\n",
       "      <td>1.16</td>\n",
       "      <td>30413.0</td>\n",
       "    </tr>\n",
       "  </tbody>\n",
       "</table>\n",
       "</div>"
      ],
      "text/plain": [
       "          id      date          city       lat      long       pop    shop  \\\n",
       "6475  6475.0  31/12/17        Athens  37.96245  23.68708  665871.0  shop_3   \n",
       "6476  6476.0  31/12/17        Larisa  39.63689  22.41761  144302.0  shop_5   \n",
       "6477  6477.0  31/12/17         Patra  38.24444  21.73444  168501.0  shop_6   \n",
       "6478  6478.0  31/12/17  Thessaloniki  40.64361  22.93086  353001.0  shop_4   \n",
       "6479  6479.0  31/12/17  Thessaloniki  40.64361  22.93086  353001.0  shop_4   \n",
       "\n",
       "             brand container capacity  price  quantity  \n",
       "6475  orange-power   plastic    1.5lt   1.02   33201.0  \n",
       "6476  orange-power       can    330ml   0.47   46971.0  \n",
       "6477    adult-cola     glass    500ml   1.02   47708.0  \n",
       "6478        gazoza   plastic    1.5lt   1.34   27115.0  \n",
       "6479    adult-cola     glass    500ml   1.16   30413.0  "
      ]
     },
     "execution_count": 7,
     "metadata": {},
     "output_type": "execute_result"
    }
   ],
   "source": [
    "train.tail()"
   ]
  },
  {
   "cell_type": "code",
   "execution_count": 10,
   "id": "1f8ff307",
   "metadata": {
    "execution": {
     "iopub.execute_input": "2021-08-20T15:23:38.443920Z",
     "iopub.status.busy": "2021-08-20T15:23:38.443051Z",
     "iopub.status.idle": "2021-08-20T15:23:38.473805Z",
     "shell.execute_reply": "2021-08-20T15:23:38.474311Z",
     "shell.execute_reply.started": "2021-08-09T06:10:22.452729Z"
    },
    "papermill": {
     "duration": 0.085773,
     "end_time": "2021-08-20T15:23:38.474514",
     "exception": false,
     "start_time": "2021-08-20T15:23:38.388741",
     "status": "completed"
    },
    "tags": []
   },
   "outputs": [
    {
     "data": {
      "text/html": [
       "<div>\n",
       "<style scoped>\n",
       "    .dataframe tbody tr th:only-of-type {\n",
       "        vertical-align: middle;\n",
       "    }\n",
       "\n",
       "    .dataframe tbody tr th {\n",
       "        vertical-align: top;\n",
       "    }\n",
       "\n",
       "    .dataframe thead th {\n",
       "        text-align: right;\n",
       "    }\n",
       "</style>\n",
       "<table border=\"1\" class=\"dataframe\">\n",
       "  <thead>\n",
       "    <tr style=\"text-align: right;\">\n",
       "      <th></th>\n",
       "      <th>id</th>\n",
       "      <th>date</th>\n",
       "      <th>city</th>\n",
       "      <th>lat</th>\n",
       "      <th>long</th>\n",
       "      <th>pop</th>\n",
       "      <th>shop</th>\n",
       "      <th>brand</th>\n",
       "      <th>container</th>\n",
       "      <th>capacity</th>\n",
       "      <th>price</th>\n",
       "      <th>quantity</th>\n",
       "    </tr>\n",
       "  </thead>\n",
       "  <tbody>\n",
       "    <tr>\n",
       "      <th>1075</th>\n",
       "      <td>7555</td>\n",
       "      <td>31/12/18</td>\n",
       "      <td>Athens</td>\n",
       "      <td>37.97945</td>\n",
       "      <td>23.71622</td>\n",
       "      <td>664046</td>\n",
       "      <td>shop_1</td>\n",
       "      <td>kinder-cola</td>\n",
       "      <td>plastic</td>\n",
       "      <td>1.5lt</td>\n",
       "      <td>2.52</td>\n",
       "      <td>13760</td>\n",
       "    </tr>\n",
       "    <tr>\n",
       "      <th>1076</th>\n",
       "      <td>7556</td>\n",
       "      <td>31/12/18</td>\n",
       "      <td>Athens</td>\n",
       "      <td>37.97945</td>\n",
       "      <td>23.71622</td>\n",
       "      <td>664046</td>\n",
       "      <td>shop_1</td>\n",
       "      <td>orange-power</td>\n",
       "      <td>plastic</td>\n",
       "      <td>1.5lt</td>\n",
       "      <td>2.18</td>\n",
       "      <td>16309</td>\n",
       "    </tr>\n",
       "    <tr>\n",
       "      <th>1077</th>\n",
       "      <td>7557</td>\n",
       "      <td>31/12/18</td>\n",
       "      <td>Patra</td>\n",
       "      <td>38.24444</td>\n",
       "      <td>21.73444</td>\n",
       "      <td>168034</td>\n",
       "      <td>shop_6</td>\n",
       "      <td>kinder-cola</td>\n",
       "      <td>can</td>\n",
       "      <td>330ml</td>\n",
       "      <td>0.85</td>\n",
       "      <td>24378</td>\n",
       "    </tr>\n",
       "    <tr>\n",
       "      <th>1078</th>\n",
       "      <td>7558</td>\n",
       "      <td>31/12/18</td>\n",
       "      <td>Thessaloniki</td>\n",
       "      <td>40.64361</td>\n",
       "      <td>22.93086</td>\n",
       "      <td>354290</td>\n",
       "      <td>shop_4</td>\n",
       "      <td>adult-cola</td>\n",
       "      <td>plastic</td>\n",
       "      <td>1.5lt</td>\n",
       "      <td>2.17</td>\n",
       "      <td>20691</td>\n",
       "    </tr>\n",
       "    <tr>\n",
       "      <th>1079</th>\n",
       "      <td>7559</td>\n",
       "      <td>31/12/18</td>\n",
       "      <td>Irakleion</td>\n",
       "      <td>35.32787</td>\n",
       "      <td>25.14341</td>\n",
       "      <td>137154</td>\n",
       "      <td>shop_2</td>\n",
       "      <td>adult-cola</td>\n",
       "      <td>glass</td>\n",
       "      <td>500ml</td>\n",
       "      <td>1.26</td>\n",
       "      <td>24615</td>\n",
       "    </tr>\n",
       "  </tbody>\n",
       "</table>\n",
       "</div>"
      ],
      "text/plain": [
       "        id      date          city       lat      long     pop    shop  \\\n",
       "1075  7555  31/12/18        Athens  37.97945  23.71622  664046  shop_1   \n",
       "1076  7556  31/12/18        Athens  37.97945  23.71622  664046  shop_1   \n",
       "1077  7557  31/12/18         Patra  38.24444  21.73444  168034  shop_6   \n",
       "1078  7558  31/12/18  Thessaloniki  40.64361  22.93086  354290  shop_4   \n",
       "1079  7559  31/12/18     Irakleion  35.32787  25.14341  137154  shop_2   \n",
       "\n",
       "             brand container capacity  price  quantity  \n",
       "1075   kinder-cola   plastic    1.5lt   2.52     13760  \n",
       "1076  orange-power   plastic    1.5lt   2.18     16309  \n",
       "1077   kinder-cola       can    330ml   0.85     24378  \n",
       "1078    adult-cola   plastic    1.5lt   2.17     20691  \n",
       "1079    adult-cola     glass    500ml   1.26     24615  "
      ]
     },
     "execution_count": 10,
     "metadata": {},
     "output_type": "execute_result"
    }
   ],
   "source": [
    "test = pd.read_csv(\"D:/library/Github/Innovative-practice/library/csv/第二学期/test.csv\")\n",
    "test.tail()"
   ]
  },
  {
   "cell_type": "code",
   "execution_count": 11,
   "id": "8d94faad",
   "metadata": {
    "execution": {
     "iopub.execute_input": "2021-08-20T15:23:38.578312Z",
     "iopub.status.busy": "2021-08-20T15:23:38.577621Z",
     "iopub.status.idle": "2021-08-20T15:23:38.622014Z",
     "shell.execute_reply": "2021-08-20T15:23:38.621327Z",
     "shell.execute_reply.started": "2021-08-09T06:10:22.486918Z"
    },
    "papermill": {
     "duration": 0.096747,
     "end_time": "2021-08-20T15:23:38.622168",
     "exception": false,
     "start_time": "2021-08-20T15:23:38.525421",
     "status": "completed"
    },
    "tags": []
   },
   "outputs": [
    {
     "name": "stdout",
     "output_type": "stream",
     "text": [
      "<class 'pandas.core.frame.DataFrame'>\n",
      "RangeIndex: 6480 entries, 0 to 6479\n",
      "Data columns (total 12 columns):\n",
      " #   Column     Non-Null Count  Dtype         \n",
      "---  ------     --------------  -----         \n",
      " 0   id         6480 non-null   float64       \n",
      " 1   date       6480 non-null   datetime64[ns]\n",
      " 2   city       6480 non-null   object        \n",
      " 3   lat        6429 non-null   float64       \n",
      " 4   long       6434 non-null   float64       \n",
      " 5   pop        6480 non-null   float64       \n",
      " 6   shop       6480 non-null   object        \n",
      " 7   brand      6480 non-null   object        \n",
      " 8   container  6464 non-null   object        \n",
      " 9   capacity   6465 non-null   object        \n",
      " 10  price      6480 non-null   float64       \n",
      " 11  quantity   6480 non-null   float64       \n",
      "dtypes: datetime64[ns](1), float64(6), object(5)\n",
      "memory usage: 607.6+ KB\n"
     ]
    }
   ],
   "source": [
    "train['date'] = pd.to_datetime(train['date']) # change date to datetime data type\n",
    "train.info()"
   ]
  },
  {
   "cell_type": "code",
   "execution_count": 12,
   "id": "70aa26db",
   "metadata": {
    "execution": {
     "iopub.execute_input": "2021-08-20T15:23:38.745888Z",
     "iopub.status.busy": "2021-08-20T15:23:38.744793Z",
     "iopub.status.idle": "2021-08-20T15:23:38.749705Z",
     "shell.execute_reply": "2021-08-20T15:23:38.750169Z",
     "shell.execute_reply.started": "2021-08-09T06:10:22.524946Z"
    },
    "papermill": {
     "duration": 0.076142,
     "end_time": "2021-08-20T15:23:38.750377",
     "exception": false,
     "start_time": "2021-08-20T15:23:38.674235",
     "status": "completed"
    },
    "tags": []
   },
   "outputs": [
    {
     "data": {
      "text/html": [
       "<div>\n",
       "<style scoped>\n",
       "    .dataframe tbody tr th:only-of-type {\n",
       "        vertical-align: middle;\n",
       "    }\n",
       "\n",
       "    .dataframe tbody tr th {\n",
       "        vertical-align: top;\n",
       "    }\n",
       "\n",
       "    .dataframe thead th {\n",
       "        text-align: right;\n",
       "    }\n",
       "</style>\n",
       "<table border=\"1\" class=\"dataframe\">\n",
       "  <thead>\n",
       "    <tr style=\"text-align: right;\">\n",
       "      <th></th>\n",
       "      <th>id</th>\n",
       "      <th>date</th>\n",
       "      <th>city</th>\n",
       "      <th>lat</th>\n",
       "      <th>long</th>\n",
       "      <th>pop</th>\n",
       "      <th>shop</th>\n",
       "      <th>brand</th>\n",
       "      <th>container</th>\n",
       "      <th>capacity</th>\n",
       "      <th>price</th>\n",
       "      <th>quantity</th>\n",
       "    </tr>\n",
       "  </thead>\n",
       "  <tbody>\n",
       "    <tr>\n",
       "      <th>0</th>\n",
       "      <td>0.0</td>\n",
       "      <td>2012-01-31</td>\n",
       "      <td>Athens</td>\n",
       "      <td>37.97945</td>\n",
       "      <td>23.71622</td>\n",
       "      <td>672130.0</td>\n",
       "      <td>shop_1</td>\n",
       "      <td>kinder-cola</td>\n",
       "      <td>glass</td>\n",
       "      <td>500ml</td>\n",
       "      <td>0.96</td>\n",
       "      <td>13280.0</td>\n",
       "    </tr>\n",
       "    <tr>\n",
       "      <th>1</th>\n",
       "      <td>1.0</td>\n",
       "      <td>2012-01-31</td>\n",
       "      <td>Athens</td>\n",
       "      <td>37.97945</td>\n",
       "      <td>23.71622</td>\n",
       "      <td>672130.0</td>\n",
       "      <td>shop_1</td>\n",
       "      <td>kinder-cola</td>\n",
       "      <td>plastic</td>\n",
       "      <td>1.5lt</td>\n",
       "      <td>2.86</td>\n",
       "      <td>6727.0</td>\n",
       "    </tr>\n",
       "    <tr>\n",
       "      <th>2</th>\n",
       "      <td>2.0</td>\n",
       "      <td>2012-01-31</td>\n",
       "      <td>Athens</td>\n",
       "      <td>37.97945</td>\n",
       "      <td>23.71622</td>\n",
       "      <td>672130.0</td>\n",
       "      <td>shop_1</td>\n",
       "      <td>kinder-cola</td>\n",
       "      <td>can</td>\n",
       "      <td>330ml</td>\n",
       "      <td>0.87</td>\n",
       "      <td>9848.0</td>\n",
       "    </tr>\n",
       "    <tr>\n",
       "      <th>3</th>\n",
       "      <td>3.0</td>\n",
       "      <td>2012-01-31</td>\n",
       "      <td>Athens</td>\n",
       "      <td>37.97945</td>\n",
       "      <td>23.71622</td>\n",
       "      <td>672130.0</td>\n",
       "      <td>shop_1</td>\n",
       "      <td>adult-cola</td>\n",
       "      <td>glass</td>\n",
       "      <td>500ml</td>\n",
       "      <td>1.00</td>\n",
       "      <td>20050.0</td>\n",
       "    </tr>\n",
       "    <tr>\n",
       "      <th>4</th>\n",
       "      <td>4.0</td>\n",
       "      <td>2012-01-31</td>\n",
       "      <td>Athens</td>\n",
       "      <td>37.97945</td>\n",
       "      <td>23.71622</td>\n",
       "      <td>672130.0</td>\n",
       "      <td>shop_1</td>\n",
       "      <td>adult-cola</td>\n",
       "      <td>can</td>\n",
       "      <td>330ml</td>\n",
       "      <td>0.39</td>\n",
       "      <td>25696.0</td>\n",
       "    </tr>\n",
       "  </tbody>\n",
       "</table>\n",
       "</div>"
      ],
      "text/plain": [
       "    id       date    city       lat      long       pop    shop        brand  \\\n",
       "0  0.0 2012-01-31  Athens  37.97945  23.71622  672130.0  shop_1  kinder-cola   \n",
       "1  1.0 2012-01-31  Athens  37.97945  23.71622  672130.0  shop_1  kinder-cola   \n",
       "2  2.0 2012-01-31  Athens  37.97945  23.71622  672130.0  shop_1  kinder-cola   \n",
       "3  3.0 2012-01-31  Athens  37.97945  23.71622  672130.0  shop_1   adult-cola   \n",
       "4  4.0 2012-01-31  Athens  37.97945  23.71622  672130.0  shop_1   adult-cola   \n",
       "\n",
       "  container capacity  price  quantity  \n",
       "0     glass    500ml   0.96   13280.0  \n",
       "1   plastic    1.5lt   2.86    6727.0  \n",
       "2       can    330ml   0.87    9848.0  \n",
       "3     glass    500ml   1.00   20050.0  \n",
       "4       can    330ml   0.39   25696.0  "
      ]
     },
     "execution_count": 12,
     "metadata": {},
     "output_type": "execute_result"
    }
   ],
   "source": [
    "train.head()"
   ]
  },
  {
   "cell_type": "code",
   "execution_count": 13,
   "id": "043c4a33",
   "metadata": {
    "execution": {
     "iopub.execute_input": "2021-08-20T15:23:38.857566Z",
     "iopub.status.busy": "2021-08-20T15:23:38.856577Z",
     "iopub.status.idle": "2021-08-20T15:23:38.872523Z",
     "shell.execute_reply": "2021-08-20T15:23:38.872991Z",
     "shell.execute_reply.started": "2021-08-09T06:10:22.544215Z"
    },
    "papermill": {
     "duration": 0.068537,
     "end_time": "2021-08-20T15:23:38.873165",
     "exception": false,
     "start_time": "2021-08-20T15:23:38.804628",
     "status": "completed"
    },
    "tags": []
   },
   "outputs": [
    {
     "data": {
      "text/html": [
       "<div>\n",
       "<style scoped>\n",
       "    .dataframe tbody tr th:only-of-type {\n",
       "        vertical-align: middle;\n",
       "    }\n",
       "\n",
       "    .dataframe tbody tr th {\n",
       "        vertical-align: top;\n",
       "    }\n",
       "\n",
       "    .dataframe thead th {\n",
       "        text-align: right;\n",
       "    }\n",
       "</style>\n",
       "<table border=\"1\" class=\"dataframe\">\n",
       "  <thead>\n",
       "    <tr style=\"text-align: right;\">\n",
       "      <th></th>\n",
       "      <th>id</th>\n",
       "    </tr>\n",
       "    <tr>\n",
       "      <th>city</th>\n",
       "      <th></th>\n",
       "    </tr>\n",
       "  </thead>\n",
       "  <tbody>\n",
       "    <tr>\n",
       "      <th>Athens</th>\n",
       "      <td>2160</td>\n",
       "    </tr>\n",
       "    <tr>\n",
       "      <th>Irakleion</th>\n",
       "      <td>1080</td>\n",
       "    </tr>\n",
       "    <tr>\n",
       "      <th>Larisa</th>\n",
       "      <td>1080</td>\n",
       "    </tr>\n",
       "    <tr>\n",
       "      <th>Patra</th>\n",
       "      <td>1080</td>\n",
       "    </tr>\n",
       "    <tr>\n",
       "      <th>Thessaloniki</th>\n",
       "      <td>1080</td>\n",
       "    </tr>\n",
       "  </tbody>\n",
       "</table>\n",
       "</div>"
      ],
      "text/plain": [
       "                id\n",
       "city              \n",
       "Athens        2160\n",
       "Irakleion     1080\n",
       "Larisa        1080\n",
       "Patra         1080\n",
       "Thessaloniki  1080"
      ]
     },
     "execution_count": 13,
     "metadata": {},
     "output_type": "execute_result"
    }
   ],
   "source": [
    "pd.DataFrame(train.groupby('city').count()['id'])\n",
    "# Here we see that these are cities in Greece."
   ]
  },
  {
   "cell_type": "code",
   "execution_count": 14,
   "id": "da1cb3e4",
   "metadata": {
    "execution": {
     "iopub.execute_input": "2021-08-20T15:23:38.982257Z",
     "iopub.status.busy": "2021-08-20T15:23:38.981134Z",
     "iopub.status.idle": "2021-08-20T15:23:38.996965Z",
     "shell.execute_reply": "2021-08-20T15:23:38.997542Z",
     "shell.execute_reply.started": "2021-08-09T06:10:22.570191Z"
    },
    "papermill": {
     "duration": 0.073176,
     "end_time": "2021-08-20T15:23:38.997759",
     "exception": false,
     "start_time": "2021-08-20T15:23:38.924583",
     "status": "completed"
    },
    "tags": []
   },
   "outputs": [
    {
     "data": {
      "text/html": [
       "<div>\n",
       "<style scoped>\n",
       "    .dataframe tbody tr th:only-of-type {\n",
       "        vertical-align: middle;\n",
       "    }\n",
       "\n",
       "    .dataframe tbody tr th {\n",
       "        vertical-align: top;\n",
       "    }\n",
       "\n",
       "    .dataframe thead th {\n",
       "        text-align: right;\n",
       "    }\n",
       "</style>\n",
       "<table border=\"1\" class=\"dataframe\">\n",
       "  <thead>\n",
       "    <tr style=\"text-align: right;\">\n",
       "      <th></th>\n",
       "      <th>id</th>\n",
       "    </tr>\n",
       "    <tr>\n",
       "      <th>brand</th>\n",
       "      <th></th>\n",
       "    </tr>\n",
       "  </thead>\n",
       "  <tbody>\n",
       "    <tr>\n",
       "      <th>adult-cola</th>\n",
       "      <td>1296</td>\n",
       "    </tr>\n",
       "    <tr>\n",
       "      <th>gazoza</th>\n",
       "      <td>1296</td>\n",
       "    </tr>\n",
       "    <tr>\n",
       "      <th>kinder-cola</th>\n",
       "      <td>1296</td>\n",
       "    </tr>\n",
       "    <tr>\n",
       "      <th>lemon-boost</th>\n",
       "      <td>1296</td>\n",
       "    </tr>\n",
       "    <tr>\n",
       "      <th>orange-power</th>\n",
       "      <td>1296</td>\n",
       "    </tr>\n",
       "  </tbody>\n",
       "</table>\n",
       "</div>"
      ],
      "text/plain": [
       "                id\n",
       "brand             \n",
       "adult-cola    1296\n",
       "gazoza        1296\n",
       "kinder-cola   1296\n",
       "lemon-boost   1296\n",
       "orange-power  1296"
      ]
     },
     "execution_count": 14,
     "metadata": {},
     "output_type": "execute_result"
    }
   ],
   "source": [
    "pd.DataFrame(train.groupby('brand').count()['id'])\n",
    "# Since there are multiple brands, we will just focus on the demand "
   ]
  },
  {
   "cell_type": "markdown",
   "id": "2b8df4e0",
   "metadata": {
    "papermill": {
     "duration": 0.05139,
     "end_time": "2021-08-20T15:23:39.101254",
     "exception": false,
     "start_time": "2021-08-20T15:23:39.049864",
     "status": "completed"
    },
    "tags": []
   },
   "source": [
    "#### Let us consider the demand of only one product, Gazoza. Why did I choose that? Because Gazoza is a fun name."
   ]
  },
  {
   "cell_type": "code",
   "execution_count": 15,
   "id": "9c7c8153",
   "metadata": {
    "execution": {
     "iopub.execute_input": "2021-08-20T15:23:39.206218Z",
     "iopub.status.busy": "2021-08-20T15:23:39.205201Z",
     "iopub.status.idle": "2021-08-20T15:23:39.212664Z",
     "shell.execute_reply": "2021-08-20T15:23:39.213178Z",
     "shell.execute_reply.started": "2021-08-09T06:10:22.587818Z"
    },
    "papermill": {
     "duration": 0.060982,
     "end_time": "2021-08-20T15:23:39.213360",
     "exception": false,
     "start_time": "2021-08-20T15:23:39.152378",
     "status": "completed"
    },
    "tags": []
   },
   "outputs": [],
   "source": [
    "gazoza = train[train['brand'] == 'gazoza'].reset_index(drop=True)"
   ]
  },
  {
   "cell_type": "code",
   "execution_count": 16,
   "id": "68866a76",
   "metadata": {
    "execution": {
     "iopub.execute_input": "2021-08-20T15:23:39.316990Z",
     "iopub.status.busy": "2021-08-20T15:23:39.315983Z",
     "iopub.status.idle": "2021-08-20T15:23:39.337000Z",
     "shell.execute_reply": "2021-08-20T15:23:39.336459Z",
     "shell.execute_reply.started": "2021-08-09T06:10:22.594706Z"
    },
    "papermill": {
     "duration": 0.073969,
     "end_time": "2021-08-20T15:23:39.337147",
     "exception": false,
     "start_time": "2021-08-20T15:23:39.263178",
     "status": "completed"
    },
    "tags": []
   },
   "outputs": [
    {
     "data": {
      "text/html": [
       "<div>\n",
       "<style scoped>\n",
       "    .dataframe tbody tr th:only-of-type {\n",
       "        vertical-align: middle;\n",
       "    }\n",
       "\n",
       "    .dataframe tbody tr th {\n",
       "        vertical-align: top;\n",
       "    }\n",
       "\n",
       "    .dataframe thead th {\n",
       "        text-align: right;\n",
       "    }\n",
       "</style>\n",
       "<table border=\"1\" class=\"dataframe\">\n",
       "  <thead>\n",
       "    <tr style=\"text-align: right;\">\n",
       "      <th></th>\n",
       "      <th>id</th>\n",
       "      <th>date</th>\n",
       "      <th>city</th>\n",
       "      <th>lat</th>\n",
       "      <th>long</th>\n",
       "      <th>pop</th>\n",
       "      <th>shop</th>\n",
       "      <th>brand</th>\n",
       "      <th>container</th>\n",
       "      <th>capacity</th>\n",
       "      <th>price</th>\n",
       "      <th>quantity</th>\n",
       "    </tr>\n",
       "  </thead>\n",
       "  <tbody>\n",
       "    <tr>\n",
       "      <th>0</th>\n",
       "      <td>7.0</td>\n",
       "      <td>2012-01-31</td>\n",
       "      <td>Athens</td>\n",
       "      <td>37.97945</td>\n",
       "      <td>23.71622</td>\n",
       "      <td>672130.0</td>\n",
       "      <td>shop_1</td>\n",
       "      <td>gazoza</td>\n",
       "      <td>glass</td>\n",
       "      <td>500ml</td>\n",
       "      <td>0.49</td>\n",
       "      <td>44734.0</td>\n",
       "    </tr>\n",
       "    <tr>\n",
       "      <th>1</th>\n",
       "      <td>17.0</td>\n",
       "      <td>2012-01-31</td>\n",
       "      <td>Irakleion</td>\n",
       "      <td>35.32787</td>\n",
       "      <td>25.14341</td>\n",
       "      <td>134219.0</td>\n",
       "      <td>shop_2</td>\n",
       "      <td>gazoza</td>\n",
       "      <td>glass</td>\n",
       "      <td>500ml</td>\n",
       "      <td>0.58</td>\n",
       "      <td>41378.0</td>\n",
       "    </tr>\n",
       "    <tr>\n",
       "      <th>2</th>\n",
       "      <td>18.0</td>\n",
       "      <td>2012-01-31</td>\n",
       "      <td>Irakleion</td>\n",
       "      <td>35.32787</td>\n",
       "      <td>25.14341</td>\n",
       "      <td>134219.0</td>\n",
       "      <td>shop_2</td>\n",
       "      <td>gazoza</td>\n",
       "      <td>plastic</td>\n",
       "      <td>1.5lt</td>\n",
       "      <td>1.00</td>\n",
       "      <td>30757.0</td>\n",
       "    </tr>\n",
       "    <tr>\n",
       "      <th>3</th>\n",
       "      <td>19.0</td>\n",
       "      <td>2012-01-31</td>\n",
       "      <td>Irakleion</td>\n",
       "      <td>35.32787</td>\n",
       "      <td>25.14341</td>\n",
       "      <td>134219.0</td>\n",
       "      <td>shop_2</td>\n",
       "      <td>gazoza</td>\n",
       "      <td>can</td>\n",
       "      <td>330ml</td>\n",
       "      <td>0.26</td>\n",
       "      <td>49688.0</td>\n",
       "    </tr>\n",
       "    <tr>\n",
       "      <th>4</th>\n",
       "      <td>31.0</td>\n",
       "      <td>2012-01-31</td>\n",
       "      <td>Patra</td>\n",
       "      <td>38.24444</td>\n",
       "      <td>21.73444</td>\n",
       "      <td>164250.0</td>\n",
       "      <td>shop_6</td>\n",
       "      <td>gazoza</td>\n",
       "      <td>glass</td>\n",
       "      <td>500ml</td>\n",
       "      <td>0.57</td>\n",
       "      <td>56428.0</td>\n",
       "    </tr>\n",
       "  </tbody>\n",
       "</table>\n",
       "</div>"
      ],
      "text/plain": [
       "     id       date       city       lat      long       pop    shop   brand  \\\n",
       "0   7.0 2012-01-31     Athens  37.97945  23.71622  672130.0  shop_1  gazoza   \n",
       "1  17.0 2012-01-31  Irakleion  35.32787  25.14341  134219.0  shop_2  gazoza   \n",
       "2  18.0 2012-01-31  Irakleion  35.32787  25.14341  134219.0  shop_2  gazoza   \n",
       "3  19.0 2012-01-31  Irakleion  35.32787  25.14341  134219.0  shop_2  gazoza   \n",
       "4  31.0 2012-01-31      Patra  38.24444  21.73444  164250.0  shop_6  gazoza   \n",
       "\n",
       "  container capacity  price  quantity  \n",
       "0     glass    500ml   0.49   44734.0  \n",
       "1     glass    500ml   0.58   41378.0  \n",
       "2   plastic    1.5lt   1.00   30757.0  \n",
       "3       can    330ml   0.26   49688.0  \n",
       "4     glass    500ml   0.57   56428.0  "
      ]
     },
     "execution_count": 16,
     "metadata": {},
     "output_type": "execute_result"
    }
   ],
   "source": [
    "gazoza.head()"
   ]
  },
  {
   "cell_type": "code",
   "execution_count": 17,
   "id": "ca5a7978",
   "metadata": {
    "execution": {
     "iopub.execute_input": "2021-08-20T15:23:39.442245Z",
     "iopub.status.busy": "2021-08-20T15:23:39.441530Z",
     "iopub.status.idle": "2021-08-20T15:23:39.444696Z",
     "shell.execute_reply": "2021-08-20T15:23:39.444102Z",
     "shell.execute_reply.started": "2021-08-09T06:10:22.619604Z"
    },
    "papermill": {
     "duration": 0.057289,
     "end_time": "2021-08-20T15:23:39.444854",
     "exception": false,
     "start_time": "2021-08-20T15:23:39.387565",
     "status": "completed"
    },
    "tags": []
   },
   "outputs": [],
   "source": [
    "# q = gazoza.groupby(['date'], as_index=False).sum()\n",
    "# sns.lineplot(x =q['date'], y=q['quantity'])"
   ]
  },
  {
   "cell_type": "code",
   "execution_count": 18,
   "id": "328c8b8c",
   "metadata": {
    "execution": {
     "iopub.execute_input": "2021-08-20T15:23:39.559363Z",
     "iopub.status.busy": "2021-08-20T15:23:39.555842Z",
     "iopub.status.idle": "2021-08-20T15:23:39.588968Z",
     "shell.execute_reply": "2021-08-20T15:23:39.589705Z",
     "shell.execute_reply.started": "2021-08-09T06:10:22.623719Z"
    },
    "papermill": {
     "duration": 0.090333,
     "end_time": "2021-08-20T15:23:39.589898",
     "exception": false,
     "start_time": "2021-08-20T15:23:39.499565",
     "status": "completed"
    },
    "tags": []
   },
   "outputs": [
    {
     "data": {
      "text/html": [
       "<div>\n",
       "<style scoped>\n",
       "    .dataframe tbody tr th:only-of-type {\n",
       "        vertical-align: middle;\n",
       "    }\n",
       "\n",
       "    .dataframe tbody tr th {\n",
       "        vertical-align: top;\n",
       "    }\n",
       "\n",
       "    .dataframe thead th {\n",
       "        text-align: right;\n",
       "    }\n",
       "</style>\n",
       "<table border=\"1\" class=\"dataframe\">\n",
       "  <thead>\n",
       "    <tr style=\"text-align: right;\">\n",
       "      <th></th>\n",
       "      <th>id</th>\n",
       "      <th>lat</th>\n",
       "      <th>long</th>\n",
       "      <th>pop</th>\n",
       "      <th>price</th>\n",
       "      <th>quantity</th>\n",
       "    </tr>\n",
       "  </thead>\n",
       "  <tbody>\n",
       "    <tr>\n",
       "      <th>count</th>\n",
       "      <td>1296.000000</td>\n",
       "      <td>1285.000000</td>\n",
       "      <td>1292.000000</td>\n",
       "      <td>1296.000000</td>\n",
       "      <td>1296.000000</td>\n",
       "      <td>1296.000000</td>\n",
       "    </tr>\n",
       "    <tr>\n",
       "      <th>mean</th>\n",
       "      <td>3241.861883</td>\n",
       "      <td>38.302604</td>\n",
       "      <td>23.272999</td>\n",
       "      <td>355141.416667</td>\n",
       "      <td>0.668272</td>\n",
       "      <td>44251.839506</td>\n",
       "    </tr>\n",
       "    <tr>\n",
       "      <th>std</th>\n",
       "      <td>1871.579618</td>\n",
       "      <td>1.652516</td>\n",
       "      <td>1.087566</td>\n",
       "      <td>232900.701416</td>\n",
       "      <td>0.334543</td>\n",
       "      <td>21232.120037</td>\n",
       "    </tr>\n",
       "    <tr>\n",
       "      <th>min</th>\n",
       "      <td>7.000000</td>\n",
       "      <td>35.327870</td>\n",
       "      <td>21.734440</td>\n",
       "      <td>134219.000000</td>\n",
       "      <td>0.110000</td>\n",
       "      <td>7113.000000</td>\n",
       "    </tr>\n",
       "    <tr>\n",
       "      <th>25%</th>\n",
       "      <td>1624.000000</td>\n",
       "      <td>37.962450</td>\n",
       "      <td>22.417610</td>\n",
       "      <td>141439.750000</td>\n",
       "      <td>0.370000</td>\n",
       "      <td>28923.000000</td>\n",
       "    </tr>\n",
       "    <tr>\n",
       "      <th>50%</th>\n",
       "      <td>3242.500000</td>\n",
       "      <td>37.979450</td>\n",
       "      <td>23.687080</td>\n",
       "      <td>257501.500000</td>\n",
       "      <td>0.620000</td>\n",
       "      <td>40851.500000</td>\n",
       "    </tr>\n",
       "    <tr>\n",
       "      <th>75%</th>\n",
       "      <td>4857.000000</td>\n",
       "      <td>39.636890</td>\n",
       "      <td>23.716220</td>\n",
       "      <td>665871.000000</td>\n",
       "      <td>0.880000</td>\n",
       "      <td>54523.750000</td>\n",
       "    </tr>\n",
       "    <tr>\n",
       "      <th>max</th>\n",
       "      <td>6478.000000</td>\n",
       "      <td>40.643610</td>\n",
       "      <td>25.143410</td>\n",
       "      <td>672130.000000</td>\n",
       "      <td>1.620000</td>\n",
       "      <td>145287.000000</td>\n",
       "    </tr>\n",
       "  </tbody>\n",
       "</table>\n",
       "</div>"
      ],
      "text/plain": [
       "                id          lat         long            pop        price  \\\n",
       "count  1296.000000  1285.000000  1292.000000    1296.000000  1296.000000   \n",
       "mean   3241.861883    38.302604    23.272999  355141.416667     0.668272   \n",
       "std    1871.579618     1.652516     1.087566  232900.701416     0.334543   \n",
       "min       7.000000    35.327870    21.734440  134219.000000     0.110000   \n",
       "25%    1624.000000    37.962450    22.417610  141439.750000     0.370000   \n",
       "50%    3242.500000    37.979450    23.687080  257501.500000     0.620000   \n",
       "75%    4857.000000    39.636890    23.716220  665871.000000     0.880000   \n",
       "max    6478.000000    40.643610    25.143410  672130.000000     1.620000   \n",
       "\n",
       "            quantity  \n",
       "count    1296.000000  \n",
       "mean    44251.839506  \n",
       "std     21232.120037  \n",
       "min      7113.000000  \n",
       "25%     28923.000000  \n",
       "50%     40851.500000  \n",
       "75%     54523.750000  \n",
       "max    145287.000000  "
      ]
     },
     "execution_count": 18,
     "metadata": {},
     "output_type": "execute_result"
    }
   ],
   "source": [
    "gazoza.describe()"
   ]
  },
  {
   "cell_type": "code",
   "execution_count": 19,
   "id": "daaf51b6",
   "metadata": {
    "execution": {
     "iopub.execute_input": "2021-08-20T15:23:39.705152Z",
     "iopub.status.busy": "2021-08-20T15:23:39.703767Z",
     "iopub.status.idle": "2021-08-20T15:23:40.342712Z",
     "shell.execute_reply": "2021-08-20T15:23:40.342020Z",
     "shell.execute_reply.started": "2021-08-09T06:10:22.663965Z"
    },
    "papermill": {
     "duration": 0.69562,
     "end_time": "2021-08-20T15:23:40.342858",
     "exception": false,
     "start_time": "2021-08-20T15:23:39.647238",
     "status": "completed"
    },
    "tags": []
   },
   "outputs": [
    {
     "data": {
      "text/plain": [
       "<seaborn.axisgrid.FacetGrid at 0x29a57cdfb50>"
      ]
     },
     "execution_count": 19,
     "metadata": {},
     "output_type": "execute_result"
    },
    {
     "data": {
      "image/png": "[encoded data removed]",
      "text/plain": [
       "<Figure size 360x360 with 1 Axes>"
      ]
     },
     "metadata": {
      "needs_background": "light"
     },
     "output_type": "display_data"
    }
   ],
   "source": [
    "# let's see how the demand of this product is distributed\n",
    "sns.displot(gazoza['quantity'], kde = True, color = 'g')"
   ]
  },
  {
   "cell_type": "code",
   "execution_count": 20,
   "id": "30dd8cd4",
   "metadata": {
    "_kg_hide-input": false,
    "execution": {
     "iopub.execute_input": "2021-08-20T15:23:40.470919Z",
     "iopub.status.busy": "2021-08-20T15:23:40.470199Z",
     "iopub.status.idle": "2021-08-20T15:23:41.395096Z",
     "shell.execute_reply": "2021-08-20T15:23:41.394529Z",
     "shell.execute_reply.started": "2021-08-09T06:10:23.182274Z"
    },
    "papermill": {
     "duration": 0.995496,
     "end_time": "2021-08-20T15:23:41.395249",
     "exception": false,
     "start_time": "2021-08-20T15:23:40.399753",
     "status": "completed"
    },
    "tags": []
   },
   "outputs": [
    {
     "data": {
      "text/plain": [
       "<seaborn.axisgrid.FacetGrid at 0x29a5c1fe6a0>"
      ]
     },
     "execution_count": 20,
     "metadata": {},
     "output_type": "execute_result"
    },
    {
     "data": {
      "image/png": "[encoded data removed]",
      "text/plain": [
       "<Figure size 1080x360 with 3 Axes>"
      ]
     },
     "metadata": {
      "needs_background": "light"
     },
     "output_type": "display_data"
    }
   ],
   "source": [
    "sns.displot(data = gazoza, x = 'quantity', kde = True, col = 'container', color = 'g')"
   ]
  },
  {
   "cell_type": "markdown",
   "id": "17324c4c",
   "metadata": {
    "papermill": {
     "duration": 0.054028,
     "end_time": "2021-08-20T15:23:41.503429",
     "exception": false,
     "start_time": "2021-08-20T15:23:41.449401",
     "status": "completed"
    },
    "tags": []
   },
   "source": [
    "### Now let us try to fit a normal distribution to the demand of Gazoza in Greece\n",
    "To do this, we find the sample average of the demand to approximate the mean.\n",
    "We also find the sample standard deviation to approximate the true standard deviation."
   ]
  },
  {
   "cell_type": "code",
   "execution_count": 21,
   "id": "dbf7ad03",
   "metadata": {
    "execution": {
     "iopub.execute_input": "2021-08-20T15:23:41.618537Z",
     "iopub.status.busy": "2021-08-20T15:23:41.617882Z",
     "iopub.status.idle": "2021-08-20T15:23:41.621182Z",
     "shell.execute_reply": "2021-08-20T15:23:41.620477Z",
     "shell.execute_reply.started": "2021-08-09T06:10:23.977260Z"
    },
    "papermill": {
     "duration": 0.064066,
     "end_time": "2021-08-20T15:23:41.621332",
     "exception": false,
     "start_time": "2021-08-20T15:23:41.557266",
     "status": "completed"
    },
    "tags": []
   },
   "outputs": [],
   "source": [
    "# find the sample mean and sample standard deviation\n",
    "mean = np.mean(gazoza['quantity'])\n",
    "std = np.std(gazoza['quantity'])\n"
   ]
  },
  {
   "cell_type": "code",
   "execution_count": 22,
   "id": "64abcb22",
   "metadata": {
    "execution": {
     "iopub.execute_input": "2021-08-20T15:23:41.738928Z",
     "iopub.status.busy": "2021-08-20T15:23:41.737969Z",
     "iopub.status.idle": "2021-08-20T15:23:41.955124Z",
     "shell.execute_reply": "2021-08-20T15:23:41.954327Z",
     "shell.execute_reply.started": "2021-08-09T06:10:23.984924Z"
    },
    "papermill": {
     "duration": 0.277215,
     "end_time": "2021-08-20T15:23:41.955294",
     "exception": false,
     "start_time": "2021-08-20T15:23:41.678079",
     "status": "completed"
    },
    "tags": []
   },
   "outputs": [
    {
     "data": {
      "image/png": "[encoded data removed]",
      "text/plain": [
       "<Figure size 640x480 with 1 Axes>"
      ]
     },
     "metadata": {
      "needs_background": "light"
     },
     "output_type": "display_data"
    }
   ],
   "source": [
    "# Plot the histogram.\n",
    "plt.figure(figsize=(8, 6), dpi=80)\n",
    "plt.hist(x = gazoza['quantity'], \n",
    "         density=True, alpha = 0.6, \n",
    "         color='g', bins = 25, linewidth=1, edgecolor='black')\n",
    "\n",
    "\n",
    "# Plot the PDF.\n",
    "xmin, xmax = plt.xlim()\n",
    "x = np.linspace(xmin, xmax, 100)\n",
    "p = norm.pdf(x, mean, std)\n",
    "plt.plot(x, p, 'k', linewidth=2)\n",
    "title = \"Fit results: mu = %.2f,  std = %.2f\" % (mean, std)\n",
    "plt.title(title)\n",
    "\n",
    "plt.show()"
   ]
  },
  {
   "cell_type": "markdown",
   "id": "f15dc701",
   "metadata": {
    "papermill": {
     "duration": 0.058557,
     "end_time": "2021-08-20T15:23:42.074763",
     "exception": false,
     "start_time": "2021-08-20T15:23:42.016206",
     "status": "completed"
    },
    "tags": []
   },
   "source": [
    "(The distribution is not really normal. We'll deal with that in a bit.)\n",
    "\n",
    "Now that we have fit a normal disribution to the demand data, we can calculate the optimal order quanity."
   ]
  },
  {
   "cell_type": "code",
   "execution_count": 23,
   "id": "62ee1c9f",
   "metadata": {
    "execution": {
     "iopub.execute_input": "2021-08-20T15:23:42.201662Z",
     "iopub.status.busy": "2021-08-20T15:23:42.200945Z",
     "iopub.status.idle": "2021-08-20T15:23:42.205922Z",
     "shell.execute_reply": "2021-08-20T15:23:42.205080Z",
     "shell.execute_reply.started": "2021-08-09T06:10:24.180524Z"
    },
    "papermill": {
     "duration": 0.070437,
     "end_time": "2021-08-20T15:23:42.206072",
     "exception": false,
     "start_time": "2021-08-20T15:23:42.135635",
     "status": "completed"
    },
    "tags": []
   },
   "outputs": [],
   "source": [
    "def orderQuan(mean, std, Cu, Co):\n",
    "    # let y be the optimal order quanity\n",
    "    criticalVal = Cu/(Cu+Co) # Critical Value for the optimal order quantity\n",
    "    y = norm.ppf(criticalVal, mean, std) # Calculation for optimal order quanity\n",
    "    return y"
   ]
  },
  {
   "cell_type": "markdown",
   "id": "7877c5d9",
   "metadata": {
    "papermill": {
     "duration": 0.058561,
     "end_time": "2021-08-20T15:23:42.320327",
     "exception": false,
     "start_time": "2021-08-20T15:23:42.261766",
     "status": "completed"
    },
    "tags": []
   },
   "source": [
    "Now let's assume that the cost of underage Cu (!not under-age!) is 0.30 euros and the cost of underage Cu (not under-age) is 0.4 euros.\n",
    "\n",
    "The optimal order quantity can be calculated as follows."
   ]
  },
  {
   "cell_type": "code",
   "execution_count": 24,
   "id": "99026d14",
   "metadata": {
    "execution": {
     "iopub.execute_input": "2021-08-20T15:23:42.446605Z",
     "iopub.status.busy": "2021-08-20T15:23:42.445562Z",
     "iopub.status.idle": "2021-08-20T15:23:42.450566Z",
     "shell.execute_reply": "2021-08-20T15:23:42.449930Z",
     "shell.execute_reply.started": "2021-08-09T06:10:24.188096Z"
    },
    "papermill": {
     "duration": 0.070642,
     "end_time": "2021-08-20T15:23:42.450731",
     "exception": false,
     "start_time": "2021-08-20T15:23:42.380089",
     "status": "completed"
    },
    "tags": []
   },
   "outputs": [
    {
     "data": {
      "text/plain": [
       "40431.27010133479"
      ]
     },
     "execution_count": 24,
     "metadata": {},
     "output_type": "execute_result"
    }
   ],
   "source": [
    "orderQuan(mean, std, 0.3, 0.4)"
   ]
  },
  {
   "cell_type": "markdown",
   "id": "dff18819",
   "metadata": {
    "papermill": {
     "duration": 0.060243,
     "end_time": "2021-08-20T15:23:42.568293",
     "exception": false,
     "start_time": "2021-08-20T15:23:42.508050",
     "status": "completed"
    },
    "tags": []
   },
   "source": [
    "However, the histogram is skewed. This suggests that the true distribution of the demand is not a normal distribution. Hence we have to find other ways to estimate the distribution of the demand. Afterall, we need the distribution to solve for the optimal order quantity."
   ]
  },
  {
   "cell_type": "markdown",
   "id": "f8499c57",
   "metadata": {
    "papermill": {
     "duration": 0.061785,
     "end_time": "2021-08-20T15:23:42.690344",
     "exception": false,
     "start_time": "2021-08-20T15:23:42.628559",
     "status": "completed"
    },
    "tags": []
   },
   "source": [
    "## Parametric Probability Density Distribution Estimation\n",
    "\n",
    "Here, we can find the average and standard deviation of the sample data and use them to estimate the true distribution.\n",
    "\n",
    "Let's assume that we know the true distribution of the demand to be a normal with mean of 1000 and standard deviation of 200.\n",
    "\n",
    "How can we use different techniques to approximate the distribution of the demand?\n",
    "\n",
    "Let us generate a sample data of size 1000 from a distribution of our choice."
   ]
  },
  {
   "cell_type": "code",
   "execution_count": 25,
   "id": "bda68da8",
   "metadata": {
    "execution": {
     "iopub.execute_input": "2021-08-20T15:23:42.949380Z",
     "iopub.status.busy": "2021-08-20T15:23:42.947191Z",
     "iopub.status.idle": "2021-08-20T15:23:43.151769Z",
     "shell.execute_reply": "2021-08-20T15:23:43.151222Z",
     "shell.execute_reply.started": "2021-08-09T06:10:24.207764Z"
    },
    "papermill": {
     "duration": 0.402626,
     "end_time": "2021-08-20T15:23:43.151918",
     "exception": false,
     "start_time": "2021-08-20T15:23:42.749292",
     "status": "completed"
    },
    "tags": []
   },
   "outputs": [
    {
     "data": {
      "text/plain": [
       "(array([  1.,   0.,   1.,   1.,   3.,   4.,   6.,  26.,  38.,  58.,  79.,\n",
       "        107., 127., 124., 111., 109.,  87.,  45.,  36.,  19.,  10.,   4.,\n",
       "          3.,   0.,   1.]),\n",
       " array([ 142.18796721,  206.44418847,  270.70040973,  334.95663098,\n",
       "         399.21285224,  463.4690735 ,  527.72529476,  591.98151602,\n",
       "         656.23773727,  720.49395853,  784.75017979,  849.00640105,\n",
       "         913.2626223 ,  977.51884356, 1041.77506482, 1106.03128608,\n",
       "        1170.28750734, 1234.54372859, 1298.79994985, 1363.05617111,\n",
       "        1427.31239237, 1491.56861362, 1555.82483488, 1620.08105614,\n",
       "        1684.3372774 , 1748.59349866]),\n",
       " <BarContainer object of 25 artists>)"
      ]
     },
     "execution_count": 25,
     "metadata": {},
     "output_type": "execute_result"
    },
    {
     "data": {
      "image/png": "[encoded data removed]",
      "text/plain": [
       "<Figure size 640x480 with 1 Axes>"
      ]
     },
     "metadata": {
      "needs_background": "light"
     },
     "output_type": "display_data"
    }
   ],
   "source": [
    "mu, sigma = 1000, 200\n",
    "sample = np.random.normal(mu, sigma, size=1000)\n",
    "plt.figure(figsize=(8, 6), dpi=80)\n",
    "plt.hist(sample, bins = 25, edgecolor='black')"
   ]
  },
  {
   "cell_type": "code",
   "execution_count": 26,
   "id": "f7ccb48b",
   "metadata": {
    "execution": {
     "iopub.execute_input": "2021-08-20T15:23:43.278859Z",
     "iopub.status.busy": "2021-08-20T15:23:43.277805Z",
     "iopub.status.idle": "2021-08-20T15:23:43.283267Z",
     "shell.execute_reply": "2021-08-20T15:23:43.284229Z",
     "shell.execute_reply.started": "2021-08-09T06:10:24.507103Z"
    },
    "papermill": {
     "duration": 0.06961,
     "end_time": "2021-08-20T15:23:43.284562",
     "exception": false,
     "start_time": "2021-08-20T15:23:43.214952",
     "status": "completed"
    },
    "tags": []
   },
   "outputs": [
    {
     "name": "stdout",
     "output_type": "stream",
     "text": [
      "Mean = 1004.130,  Standard Deviation = 201.815\n"
     ]
    }
   ],
   "source": [
    "sample_mean = np.mean(sample)\n",
    "sample_std = np.std(sample)\n",
    "print('Mean = %.3f,  Standard Deviation = %.3f' % (sample_mean, sample_std))"
   ]
  },
  {
   "cell_type": "code",
   "execution_count": 27,
   "id": "84d3ad38",
   "metadata": {
    "execution": {
     "iopub.execute_input": "2021-08-20T15:23:43.435158Z",
     "iopub.status.busy": "2021-08-20T15:23:43.434429Z",
     "iopub.status.idle": "2021-08-20T15:23:43.645724Z",
     "shell.execute_reply": "2021-08-20T15:23:43.646199Z",
     "shell.execute_reply.started": "2021-08-09T06:10:24.512966Z"
    },
    "papermill": {
     "duration": 0.298941,
     "end_time": "2021-08-20T15:23:43.646390",
     "exception": false,
     "start_time": "2021-08-20T15:23:43.347449",
     "status": "completed"
    },
    "tags": []
   },
   "outputs": [
    {
     "data": {
      "image/png": "[encoded data removed]",
      "text/plain": [
       "<Figure size 640x480 with 1 Axes>"
      ]
     },
     "metadata": {
      "needs_background": "light"
     },
     "output_type": "display_data"
    }
   ],
   "source": [
    "# Plot the Histogram\n",
    "plt.figure(figsize=(8, 6), dpi=80)\n",
    "plt.hist(sample, bins = 25, edgecolor='black', alpha = 0.6, density = True) \n",
    "\n",
    "# Plot the PDF.\n",
    "xmin2, xmax2 = plt.xlim()\n",
    "x2 = np.linspace(xmin2, xmax2, 100)\n",
    "p2 = norm.pdf(x2, sample_mean, sample_std)\n",
    "plt.plot(x2, p2, 'k', linewidth=2)\n",
    "title2 = \"Fit results: mu = %.2f,  std = %.2f\" % (sample_mean, sample_std)\n",
    "plt.title(title2)\n",
    "\n",
    "plt.show()"
   ]
  },
  {
   "cell_type": "markdown",
   "id": "ddf3dd2d",
   "metadata": {
    "papermill": {
     "duration": 0.060997,
     "end_time": "2021-08-20T15:23:43.771847",
     "exception": false,
     "start_time": "2021-08-20T15:23:43.710850",
     "status": "completed"
    },
    "tags": []
   },
   "source": [
    "We could have also gotten the same result by utilizing the ``stats.norm.fit()`` function. More on that later."
   ]
  },
  {
   "cell_type": "code",
   "execution_count": 29,
   "id": "a2c3c26e",
   "metadata": {
    "execution": {
     "iopub.execute_input": "2021-08-20T15:23:43.894807Z",
     "iopub.status.busy": "2021-08-20T15:23:43.894127Z",
     "iopub.status.idle": "2021-08-20T15:23:43.899519Z",
     "shell.execute_reply": "2021-08-20T15:23:43.900090Z",
     "shell.execute_reply.started": "2021-08-09T06:10:24.723101Z"
    },
    "papermill": {
     "duration": 0.066948,
     "end_time": "2021-08-20T15:23:43.900277",
     "exception": false,
     "start_time": "2021-08-20T15:23:43.833329",
     "status": "completed"
    },
    "tags": []
   },
   "outputs": [
    {
     "data": {
      "text/plain": [
       "957.9393057753906"
      ]
     },
     "execution_count": 29,
     "metadata": {},
     "output_type": "execute_result"
    }
   ],
   "source": [
    "# for Cu = 190 and Co = 274\n",
    "orderQuan(sample_mean, sample_std, Cu=190, Co=274)"
   ]
  },
  {
   "cell_type": "markdown",
   "id": "617f1541",
   "metadata": {
    "papermill": {
     "duration": 0.064477,
     "end_time": "2021-08-20T15:23:44.024249",
     "exception": false,
     "start_time": "2021-08-20T15:23:43.959772",
     "status": "completed"
    },
    "tags": []
   },
   "source": [
    "This is a straightforward process when the distribution is normal. \n",
    "\n",
    "When the distribution is not normal, it may not be as easy to compute the parameters of the distribution. But we can have the computer do the computation.\n",
    "\n",
    "### In the following code, we will try to fit multiple distribution to find the distribution with the smallest sse.\n",
    "\n",
    "The ``stats.<distribution>.fit()`` function reutrns the MLEs for shape, location, and scale parameters from data. MLE stands for Maximum Likelihood Estimate.  Starting estimates for the fit are given by input arguments.\n",
    "\n",
    "For the normal distribution, the same results could have been achieved by using ``stats.norm.fit()``. We can do this for multiple distibution and see which one fits the best.\n",
    "\n",
    "\n",
    "[I also wanna point out there a risk of data snooping with this method here.]"
   ]
  },
  {
   "cell_type": "code",
   "execution_count": 30,
   "id": "c0570a23",
   "metadata": {
    "execution": {
     "iopub.execute_input": "2021-08-20T15:23:44.147189Z",
     "iopub.status.busy": "2021-08-20T15:23:44.146551Z",
     "iopub.status.idle": "2021-08-20T15:23:44.151968Z",
     "shell.execute_reply": "2021-08-20T15:23:44.152446Z",
     "shell.execute_reply.started": "2021-08-09T06:10:24.731331Z"
    },
    "papermill": {
     "duration": 0.068658,
     "end_time": "2021-08-20T15:23:44.152622",
     "exception": false,
     "start_time": "2021-08-20T15:23:44.083964",
     "status": "completed"
    },
    "tags": []
   },
   "outputs": [],
   "source": [
    "%matplotlib inline\n",
    "import warnings\n",
    "import matplotlib\n",
    "import scipy.stats as st\n",
    "import statsmodels as sm"
   ]
  },
  {
   "cell_type": "code",
   "execution_count": 31,
   "id": "d1b6cbee",
   "metadata": {
    "execution": {
     "iopub.execute_input": "2021-08-20T15:23:44.275031Z",
     "iopub.status.busy": "2021-08-20T15:23:44.274283Z",
     "iopub.status.idle": "2021-08-20T15:23:44.290369Z",
     "shell.execute_reply": "2021-08-20T15:23:44.290872Z",
     "shell.execute_reply.started": "2021-08-09T06:10:24.746317Z"
    },
    "papermill": {
     "duration": 0.079217,
     "end_time": "2021-08-20T15:23:44.291055",
     "exception": false,
     "start_time": "2021-08-20T15:23:44.211838",
     "status": "completed"
    },
    "tags": []
   },
   "outputs": [],
   "source": [
    "matplotlib.rcParams['figure.figsize'] = (16.0, 12.0)\n",
    "matplotlib.style.use('ggplot')\n",
    "\n",
    "# Create models from data\n",
    "def best_fit_distribution(data, bins=200, ax=None):\n",
    "    \"\"\"Model data by finding best fit distribution to data\"\"\"\n",
    "    # Get histogram of original data\n",
    "    y, x = np.histogram(data, bins=bins, density=True)\n",
    "    x = (x + np.roll(x, -1))[:-1] / 2.0\n",
    "\n",
    "    # Distributions to check\n",
    "    DISTRIBUTIONS = [        \n",
    "        st.alpha,st.beta,st.betaprime,st.chi,st.chi2,st.cosine,st.dgamma,st.dweibull,st.erlang,\n",
    "        st.expon,st.exponnorm,st.exponweib,st.exponpow,st.f,st.genlogistic,st.genpareto,st.gennorm,\n",
    "        st.genexpon,st.genextreme,st.gausshyper,st.gamma,st.gengamma,st.invgamma,st.invgauss,\n",
    "        st.invweibull,st.johnsonsb,st.johnsonsu,st.laplace,st.logistic,st.loggamma,st.loglaplace,\n",
    "        st.lognorm,st.lomax,st.maxwell,st.nakagami,st.norm,st.pareto,st.pearson3,st.powerlaw,\n",
    "        st.powerlognorm,st.reciprocal,st.triang,st.tukeylambda,st.uniform,st.weibull_min,st.weibull_max\n",
    "    ]\n",
    "\n",
    "    # Best holders\n",
    "    best_distribution = st.norm\n",
    "    best_params = (0.0, 1.0)\n",
    "    best_sse = np.inf\n",
    "\n",
    "    # Estimate distribution parameters from data\n",
    "    for distribution in DISTRIBUTIONS:\n",
    "\n",
    "        # Try to fit the distribution\n",
    "        try:\n",
    "            # Ignore warnings from data that can't be fit\n",
    "            with warnings.catch_warnings():\n",
    "                warnings.filterwarnings('ignore')\n",
    "\n",
    "                # fit dist to data\n",
    "                params = distribution.fit(data)\n",
    "\n",
    "                # Separate parts of parameters\n",
    "                arg = params[:-2]\n",
    "                loc = params[-2]\n",
    "                scale = params[-1]\n",
    "\n",
    "                # Calculate fitted PDF and error with fit in distribution\n",
    "                pdf = distribution.pdf(x, loc=loc, scale=scale, *arg)\n",
    "                sse = np.sum(np.power(y - pdf, 2.0))\n",
    "\n",
    "                # if axis pass in add to plot\n",
    "                try:\n",
    "                    if ax:\n",
    "                        pd.Series(pdf, x).plot(ax=ax)\n",
    "                    end\n",
    "                except Exception:\n",
    "                    pass\n",
    "\n",
    "                # identify if this distribution is better\n",
    "                if best_sse > sse > 0:\n",
    "                    best_distribution = distribution\n",
    "                    best_params = params\n",
    "                    best_sse = sse\n",
    "\n",
    "        except Exception:\n",
    "            pass\n",
    "\n",
    "    return (best_distribution.name, best_params)\n"
   ]
  },
  {
   "cell_type": "code",
   "execution_count": 32,
   "id": "60cad4d0",
   "metadata": {
    "execution": {
     "iopub.execute_input": "2021-08-20T15:23:44.413221Z",
     "iopub.status.busy": "2021-08-20T15:23:44.412567Z",
     "iopub.status.idle": "2021-08-20T15:23:57.687756Z",
     "shell.execute_reply": "2021-08-20T15:23:57.688236Z",
     "shell.execute_reply.started": "2021-08-09T06:10:24.763187Z"
    },
    "papermill": {
     "duration": 13.337313,
     "end_time": "2021-08-20T15:23:57.688450",
     "exception": false,
     "start_time": "2021-08-20T15:23:44.351137",
     "status": "completed"
    },
    "tags": []
   },
   "outputs": [
    {
     "name": "stdout",
     "output_type": "stream",
     "text": [
      "The best Distibution is: johnsonsu\n",
      "The parameters are: \n",
      "(-8.186206927332776, 2.5423824268487243, -8010.390617202695, 3873.8009064737016)\n"
     ]
    }
   ],
   "source": [
    "# Load data from statsmodels datasets\n",
    "data = pd.Series(gazoza['quantity'])\n",
    "\n",
    "# Find best fit distribution\n",
    "best_fit_name, best_fit_params = best_fit_distribution(data, 200)\n",
    "print(\"The best Distibution is: \" + best_fit_name)\n",
    "print(\"The parameters are: \")\n",
    "print(best_fit_params)\n",
    "best_dist = getattr(st, best_fit_name)"
   ]
  },
  {
   "cell_type": "code",
   "execution_count": 33,
   "id": "bf8d3e4b",
   "metadata": {
    "execution": {
     "iopub.execute_input": "2021-08-20T15:23:57.841896Z",
     "iopub.status.busy": "2021-08-20T15:23:57.821925Z",
     "iopub.status.idle": "2021-08-20T15:23:58.666159Z",
     "shell.execute_reply": "2021-08-20T15:23:58.665572Z",
     "shell.execute_reply.started": "2021-08-09T06:10:36.144360Z"
    },
    "papermill": {
     "duration": 0.91432,
     "end_time": "2021-08-20T15:23:58.666301",
     "exception": false,
     "start_time": "2021-08-20T15:23:57.751981",
     "status": "completed"
    },
    "tags": []
   },
   "outputs": [
    {
     "data": {
      "image/png": "[encoded data removed]",
      "text/plain": [
       "<Figure size 640x480 with 1 Axes>"
      ]
     },
     "metadata": {},
     "output_type": "display_data"
    }
   ],
   "source": [
    "# Plot the Histogram\n",
    "plt.figure(figsize=(8, 6), dpi=80)\n",
    "plt.hist(data, bins = 25, edgecolor='black', alpha = 0.6, density = True) \n",
    "\n",
    "# Plot the PDF.\n",
    "xmin5, xmax5 = plt.xlim()\n",
    "x5 = np.linspace(xmin5, xmax5, 100)\n",
    "paramSample = st.johnsonsu.fit(data)\n",
    "p5 = st.johnsonsu.pdf(x5, paramSample[0], paramSample[1], paramSample[2], paramSample[3])\n",
    "plt.plot(x5, p5, 'k', linewidth=2)\n",
    "title5 = \"\"\n",
    "plt.title(title5)\n",
    "\n",
    "plt.show()"
   ]
  },
  {
   "cell_type": "markdown",
   "id": "1b06e86b",
   "metadata": {
    "papermill": {
     "duration": 0.06503,
     "end_time": "2021-08-20T15:23:58.795921",
     "exception": false,
     "start_time": "2021-08-20T15:23:58.730891",
     "status": "completed"
    },
    "tags": []
   },
   "source": [
    "**Now that we know the parameters of the distrubution, we can easily compute the order quanity using the Newsvendor model formula**"
   ]
  },
  {
   "cell_type": "code",
   "execution_count": 27,
   "id": "80be200e",
   "metadata": {
    "execution": {
     "iopub.execute_input": "2021-08-20T15:23:58.933133Z",
     "iopub.status.busy": "2021-08-20T15:23:58.932385Z",
     "iopub.status.idle": "2021-08-20T15:23:58.937101Z",
     "shell.execute_reply": "2021-08-20T15:23:58.936538Z",
     "shell.execute_reply.started": "2021-08-09T06:10:36.793306Z"
    },
    "papermill": {
     "duration": 0.079285,
     "end_time": "2021-08-20T15:23:58.937253",
     "exception": false,
     "start_time": "2021-08-20T15:23:58.857968",
     "status": "completed"
    },
    "tags": []
   },
   "outputs": [
    {
     "data": {
      "text/plain": [
       "37065.11656389761"
      ]
     },
     "execution_count": 27,
     "metadata": {},
     "output_type": "execute_result"
    }
   ],
   "source": [
    "Cu=0.3\n",
    "Co=0.4\n",
    "criticalVal = Cu/(Cu+Co) # Critical Value for the optimal order quantity\n",
    "st.johnsonsu.ppf(criticalVal, paramSample[0], paramSample[1], paramSample[2], paramSample[3]) \n",
    "# Calculation for optimal order quanity"
   ]
  },
  {
   "cell_type": "markdown",
   "id": "493ab90d",
   "metadata": {
    "papermill": {
     "duration": 0.065303,
     "end_time": "2021-08-20T15:23:59.068318",
     "exception": false,
     "start_time": "2021-08-20T15:23:59.003015",
     "status": "completed"
    },
    "tags": []
   },
   "source": [
    "For the same values of Cu and Co, using the normal distribution, we got an order quantity of 40431.270, which is 3366.1535 more than what we got using the JohnsonSu distribution."
   ]
  },
  {
   "cell_type": "markdown",
   "id": "0b551cdd",
   "metadata": {
    "papermill": {
     "duration": 0.064357,
     "end_time": "2021-08-20T15:23:59.195916",
     "exception": false,
     "start_time": "2021-08-20T15:23:59.131559",
     "status": "completed"
    },
    "tags": []
   },
   "source": [
    "#### Let's see how the distribution fits for the demand from the test set (Demand for 2018)."
   ]
  },
  {
   "cell_type": "code",
   "execution_count": 28,
   "id": "6bb04a15",
   "metadata": {
    "execution": {
     "iopub.execute_input": "2021-08-20T15:23:59.328912Z",
     "iopub.status.busy": "2021-08-20T15:23:59.327411Z",
     "iopub.status.idle": "2021-08-20T15:23:59.332085Z",
     "shell.execute_reply": "2021-08-20T15:23:59.330957Z",
     "shell.execute_reply.started": "2021-08-09T06:10:36.801318Z"
    },
    "papermill": {
     "duration": 0.073414,
     "end_time": "2021-08-20T15:23:59.332521",
     "exception": false,
     "start_time": "2021-08-20T15:23:59.259107",
     "status": "completed"
    },
    "tags": []
   },
   "outputs": [],
   "source": [
    "gazozaTest = test[test['brand'] == 'gazoza'].reset_index(drop=True)"
   ]
  },
  {
   "cell_type": "code",
   "execution_count": 29,
   "id": "c4ab9ab0",
   "metadata": {
    "execution": {
     "iopub.execute_input": "2021-08-20T15:23:59.495152Z",
     "iopub.status.busy": "2021-08-20T15:23:59.488895Z",
     "iopub.status.idle": "2021-08-20T15:24:00.409003Z",
     "shell.execute_reply": "2021-08-20T15:24:00.409461Z",
     "shell.execute_reply.started": "2021-08-09T06:10:36.815179Z"
    },
    "papermill": {
     "duration": 1.013268,
     "end_time": "2021-08-20T15:24:00.409668",
     "exception": false,
     "start_time": "2021-08-20T15:23:59.396400",
     "status": "completed"
    },
    "tags": []
   },
   "outputs": [
    {
     "data": {
      "image/png": "[encoded data removed]",
      "text/plain": [
       "<Figure size 640x480 with 1 Axes>"
      ]
     },
     "metadata": {},
     "output_type": "display_data"
    }
   ],
   "source": [
    "# Plot the Histogram\n",
    "plt.figure(figsize=(8, 6), dpi=80)\n",
    "plt.hist(gazozaTest['quantity'], bins = 25, edgecolor='black', alpha = 0.6, density = True) \n",
    "plt.hist(data, bins = 25, edgecolor='black', alpha = 0.2, density = True) \n",
    "\n",
    "# Plot the PDF.\n",
    "xmin6, xmax6 = plt.xlim()\n",
    "x6 = np.linspace(xmin6, xmax6, 100)\n",
    "paramSample = st.johnsonsu.fit(data)\n",
    "p6 = st.johnsonsu.pdf(x6, paramSample[0], paramSample[1], paramSample[2], paramSample[3])\n",
    "plt.plot(x6, p6, 'k', linewidth=2)\n",
    "title6 = \"\"\n",
    "plt.title(title6)\n",
    "\n",
    "plt.show()"
   ]
  },
  {
   "cell_type": "markdown",
   "id": "669a062c",
   "metadata": {
    "papermill": {
     "duration": 0.060972,
     "end_time": "2021-08-20T15:24:00.534224",
     "exception": false,
     "start_time": "2021-08-20T15:24:00.473252",
     "status": "completed"
    },
    "tags": []
   },
   "source": [
    "#### And let's see how it fits for other years."
   ]
  },
  {
   "cell_type": "code",
   "execution_count": 30,
   "id": "ec4111ff",
   "metadata": {
    "execution": {
     "iopub.execute_input": "2021-08-20T15:24:00.694873Z",
     "iopub.status.busy": "2021-08-20T15:24:00.693054Z",
     "iopub.status.idle": "2021-08-20T15:24:01.558976Z",
     "shell.execute_reply": "2021-08-20T15:24:01.558305Z",
     "shell.execute_reply.started": "2021-08-09T06:10:37.514497Z"
    },
    "papermill": {
     "duration": 0.964011,
     "end_time": "2021-08-20T15:24:01.559119",
     "exception": false,
     "start_time": "2021-08-20T15:24:00.595108",
     "status": "completed"
    },
    "tags": []
   },
   "outputs": [
    {
     "data": {
      "image/png": "[encoded data removed]",
      "text/plain": [
       "<Figure size 640x480 with 1 Axes>"
      ]
     },
     "metadata": {},
     "output_type": "display_data"
    }
   ],
   "source": [
    "# Plot the Histogram\n",
    "plt.figure(figsize=(8, 6), dpi=80)\n",
    "plt.hist(gazoza[pd.DatetimeIndex(gazoza['date']).year ==2014]['quantity'], \n",
    "         bins = 25, edgecolor='black', alpha = 0.6, density = True) \n",
    "plt.hist(data, bins = 25, edgecolor='black', alpha = 0.2, density = True) \n",
    "\n",
    "# Plot the PDF.\n",
    "xmin6, xmax6 = plt.xlim()\n",
    "x6 = np.linspace(xmin6, xmax6, 100)\n",
    "paramSample = st.johnsonsu.fit(data)\n",
    "p6 = st.johnsonsu.pdf(x6, paramSample[0], paramSample[1], paramSample[2], paramSample[3])\n",
    "plt.plot(x6, p6, 'k', linewidth=2)\n",
    "title6 = \"\"\n",
    "plt.title(title6)\n",
    "\n",
    "plt.show()"
   ]
  },
  {
   "cell_type": "code",
   "execution_count": 31,
   "id": "8eb52cec",
   "metadata": {
    "execution": {
     "iopub.execute_input": "2021-08-20T15:24:01.705825Z",
     "iopub.status.busy": "2021-08-20T15:24:01.701884Z",
     "iopub.status.idle": "2021-08-20T15:24:05.505327Z",
     "shell.execute_reply": "2021-08-20T15:24:05.504074Z",
     "shell.execute_reply.started": "2021-08-09T06:10:38.261075Z"
    },
    "papermill": {
     "duration": 3.880247,
     "end_time": "2021-08-20T15:24:05.505606",
     "exception": false,
     "start_time": "2021-08-20T15:24:01.625359",
     "status": "completed"
    },
    "tags": []
   },
   "outputs": [
    {
     "name": "stdout",
     "output_type": "stream",
     "text": [
      "SSE for train data is: 0.000000001\n",
      "SSE for test data is: 0.000000016\n",
      "SSE for 2014 data is: 0.000000012\n",
      "SSE for 2015 data is: 0.000000020\n",
      "SSE for 2016 data is: 0.000000012\n",
      "SSE for 2017 data is: 0.000000020\n"
     ]
    }
   ],
   "source": [
    "def sse_johnsonsu(sse_data,train_data, bins =200):\n",
    "    y, x = np.histogram(sse_data, bins=bins, density=True)\n",
    "    x = (x + np.roll(x, -1))[:-1] / 2.0\n",
    "    # Ignore warnings from data that can't be fit\n",
    "    with warnings.catch_warnings():\n",
    "        warnings.filterwarnings('ignore')\n",
    "        # fit dist to data\n",
    "        params = st.johnsonsu.fit(train_data)\n",
    "        # Separate parts of parameters\n",
    "        arg = params[:-2]\n",
    "        loc = params[-2]\n",
    "        scale = params[-1]\n",
    "        # Calculate fitted PDF and error with fit in distribution\n",
    "        pdf = st.johnsonsu.pdf(x, loc=loc, scale=scale, *arg)\n",
    "        sse = np.sum(np.power(y - pdf, 2.0))\n",
    "    return sse\n",
    "\n",
    "print(\"SSE for train data is: %.9f\" % (sse_johnsonsu(data, data)))\n",
    "print(\"SSE for test data is: %.9f\" % (sse_johnsonsu(gazozaTest['quantity'], data)))\n",
    "print(\"SSE for 2014 data is: %.9f\" % (sse_johnsonsu(gazoza[pd.DatetimeIndex(gazoza['date']).year ==2014]['quantity'], data)))\n",
    "print(\"SSE for 2015 data is: %.9f\" % (sse_johnsonsu(gazoza[pd.DatetimeIndex(gazoza['date']).year ==2015]['quantity'], data)))\n",
    "print(\"SSE for 2016 data is: %.9f\" % (sse_johnsonsu(gazoza[pd.DatetimeIndex(gazoza['date']).year ==2014]['quantity'], data)))\n",
    "print(\"SSE for 2017 data is: %.9f\" % (sse_johnsonsu(gazoza[pd.DatetimeIndex(gazoza['date']).year ==2015]['quantity'], data)))"
   ]
  },
  {
   "cell_type": "markdown",
   "id": "12dcf983",
   "metadata": {
    "papermill": {
     "duration": 0.063868,
     "end_time": "2021-08-20T15:24:05.635287",
     "exception": false,
     "start_time": "2021-08-20T15:24:05.571419",
     "status": "completed"
    },
    "tags": []
   },
   "source": [
    "## Non-Parametric Density Estimation\n",
    "1. Using Kernel Density Estimation\n",
    "\n",
    "read more: https://machinelearningmastery.com/probability-density-estimation/"
   ]
  },
  {
   "cell_type": "code",
   "execution_count": 32,
   "id": "c82fcdc3",
   "metadata": {
    "execution": {
     "iopub.execute_input": "2021-08-20T15:24:05.769361Z",
     "iopub.status.busy": "2021-08-20T15:24:05.768701Z",
     "iopub.status.idle": "2021-08-20T15:24:06.152337Z",
     "shell.execute_reply": "2021-08-20T15:24:06.151733Z",
     "shell.execute_reply.started": "2021-08-09T06:10:41.083056Z"
    },
    "papermill": {
     "duration": 0.452068,
     "end_time": "2021-08-20T15:24:06.152588",
     "exception": false,
     "start_time": "2021-08-20T15:24:05.700520",
     "status": "completed"
    },
    "tags": []
   },
   "outputs": [],
   "source": [
    "from sklearn.neighbors import KernelDensity"
   ]
  },
  {
   "cell_type": "code",
   "execution_count": 33,
   "id": "f227e094",
   "metadata": {
    "execution": {
     "iopub.execute_input": "2021-08-20T15:24:06.290856Z",
     "iopub.status.busy": "2021-08-20T15:24:06.290126Z",
     "iopub.status.idle": "2021-08-20T15:24:06.293175Z",
     "shell.execute_reply": "2021-08-20T15:24:06.293637Z",
     "shell.execute_reply.started": "2021-08-09T06:10:41.426442Z"
    },
    "papermill": {
     "duration": 0.074882,
     "end_time": "2021-08-20T15:24:06.293987",
     "exception": false,
     "start_time": "2021-08-20T15:24:06.219105",
     "status": "completed"
    },
    "tags": []
   },
   "outputs": [],
   "source": [
    "# the library espects the data to be 2D, so let's reshape it\n",
    "sampleArray = sample.reshape((len(sample), 1))"
   ]
  },
  {
   "cell_type": "code",
   "execution_count": 34,
   "id": "46b39468",
   "metadata": {
    "execution": {
     "iopub.execute_input": "2021-08-20T15:24:06.438935Z",
     "iopub.status.busy": "2021-08-20T15:24:06.438225Z",
     "iopub.status.idle": "2021-08-20T15:24:06.445145Z",
     "shell.execute_reply": "2021-08-20T15:24:06.444480Z",
     "shell.execute_reply.started": "2021-08-09T06:10:41.433443Z"
    },
    "papermill": {
     "duration": 0.086556,
     "end_time": "2021-08-20T15:24:06.445288",
     "exception": false,
     "start_time": "2021-08-20T15:24:06.358732",
     "status": "completed"
    },
    "tags": []
   },
   "outputs": [
    {
     "data": {
      "text/plain": [
       "KernelDensity(bandwidth=50)"
      ]
     },
     "execution_count": 34,
     "metadata": {},
     "output_type": "execute_result"
    }
   ],
   "source": [
    "# we can try multiple bandwidth values and kernels. Let's start with bandwidth=2, kernel='gaussian'\n",
    "model = KernelDensity(bandwidth=50, kernel='gaussian')\n",
    "# I kept inccreasing the bandwidth, \n",
    "# but it is important to note that using a low bandwidth can result in overfitting.\n",
    "\n",
    "model.fit(sampleArray)"
   ]
  },
  {
   "cell_type": "code",
   "execution_count": 35,
   "id": "4544272c",
   "metadata": {
    "execution": {
     "iopub.execute_input": "2021-08-20T15:24:06.608767Z",
     "iopub.status.busy": "2021-08-20T15:24:06.607772Z",
     "iopub.status.idle": "2021-08-20T15:24:06.836817Z",
     "shell.execute_reply": "2021-08-20T15:24:06.836118Z",
     "shell.execute_reply.started": "2021-08-09T06:10:41.452355Z"
    },
    "papermill": {
     "duration": 0.325991,
     "end_time": "2021-08-20T15:24:06.837018",
     "exception": false,
     "start_time": "2021-08-20T15:24:06.511027",
     "status": "completed"
    },
    "tags": []
   },
   "outputs": [
    {
     "data": {
      "image/png": "[encoded data removed]",
      "text/plain": [
       "<Figure size 640x480 with 1 Axes>"
      ]
     },
     "metadata": {},
     "output_type": "display_data"
    }
   ],
   "source": [
    "# Plot the Histogram\n",
    "plt.figure(figsize=(8, 6), dpi=80)\n",
    "plt.hist(sampleArray, bins = 25, edgecolor='black', alpha = 0.6, density = True) \n",
    "\n",
    "# Plot the PDF.\n",
    "# values = np.asarray([value for value in range(200, 1600)])\n",
    "# values = values.reshape((len(values), 1))\n",
    "xmin3, xmax3 = plt.xlim()\n",
    "x3 = np.linspace(xmin3, xmax3, 100)\n",
    "x3 = x3.reshape((len(x3), 1))\n",
    "pKernel = model.score_samples(x3)\n",
    "pKernel = np.exp(pKernel)\n",
    "title3 = \"Fit results using Kernel Density Estimators\"\n",
    "plt.plot(x3[:], pKernel)\n",
    "plt.title(title3)\n",
    "\n",
    "plt.show()"
   ]
  },
  {
   "cell_type": "code",
   "execution_count": 36,
   "id": "cc97b4ab",
   "metadata": {
    "execution": {
     "iopub.execute_input": "2021-08-20T15:24:06.975690Z",
     "iopub.status.busy": "2021-08-20T15:24:06.974802Z",
     "iopub.status.idle": "2021-08-20T15:24:06.979692Z",
     "shell.execute_reply": "2021-08-20T15:24:06.979065Z",
     "shell.execute_reply.started": "2021-08-09T06:10:41.653290Z"
    },
    "papermill": {
     "duration": 0.077386,
     "end_time": "2021-08-20T15:24:06.979841",
     "exception": false,
     "start_time": "2021-08-20T15:24:06.902455",
     "status": "completed"
    },
    "tags": []
   },
   "outputs": [
    {
     "data": {
      "text/plain": [
       "{'algorithm': 'auto',\n",
       " 'atol': 0,\n",
       " 'bandwidth': 50,\n",
       " 'breadth_first': True,\n",
       " 'kernel': 'gaussian',\n",
       " 'leaf_size': 40,\n",
       " 'metric': 'euclidean',\n",
       " 'metric_params': None,\n",
       " 'rtol': 0}"
      ]
     },
     "execution_count": 36,
     "metadata": {},
     "output_type": "execute_result"
    }
   ],
   "source": [
    "model.get_params(deep=True)"
   ]
  },
  {
   "cell_type": "markdown",
   "id": "73862c8d",
   "metadata": {
    "papermill": {
     "duration": 0.067385,
     "end_time": "2021-08-20T15:24:07.114734",
     "exception": false,
     "start_time": "2021-08-20T15:24:07.047349",
     "status": "completed"
    },
    "tags": []
   },
   "source": [
    "Now we can generate a sample from the Kenerl density model that we have gotten."
   ]
  },
  {
   "cell_type": "code",
   "execution_count": 37,
   "id": "62934dd2",
   "metadata": {
    "execution": {
     "iopub.execute_input": "2021-08-20T15:24:07.253973Z",
     "iopub.status.busy": "2021-08-20T15:24:07.253296Z",
     "iopub.status.idle": "2021-08-20T15:24:07.256484Z",
     "shell.execute_reply": "2021-08-20T15:24:07.255919Z",
     "shell.execute_reply.started": "2021-08-09T06:10:41.662026Z"
    },
    "papermill": {
     "duration": 0.074798,
     "end_time": "2021-08-20T15:24:07.256633",
     "exception": false,
     "start_time": "2021-08-20T15:24:07.181835",
     "status": "completed"
    },
    "tags": []
   },
   "outputs": [],
   "source": [
    "kernel_sample = model.sample(n_samples=1000, random_state=None)"
   ]
  },
  {
   "cell_type": "code",
   "execution_count": 38,
   "id": "488aaf0c",
   "metadata": {
    "execution": {
     "iopub.execute_input": "2021-08-20T15:24:07.394845Z",
     "iopub.status.busy": "2021-08-20T15:24:07.394180Z",
     "iopub.status.idle": "2021-08-20T15:24:07.693284Z",
     "shell.execute_reply": "2021-08-20T15:24:07.692398Z",
     "shell.execute_reply.started": "2021-08-09T06:10:41.673978Z"
    },
    "papermill": {
     "duration": 0.368442,
     "end_time": "2021-08-20T15:24:07.693449",
     "exception": false,
     "start_time": "2021-08-20T15:24:07.325007",
     "status": "completed"
    },
    "tags": []
   },
   "outputs": [
    {
     "data": {
      "text/plain": [
       "(array([  2.,   2.,   1.,   3.,   1.,   5.,   6.,  20.,  40.,  45.,  52.,\n",
       "         86., 107., 115.,  94., 114.,  91.,  81.,  53.,  29.,  25.,  12.,\n",
       "          9.,   5.,   2.]),\n",
       " array([ 187.07534328,  244.94805504,  302.82076681,  360.69347858,\n",
       "         418.56619035,  476.43890211,  534.31161388,  592.18432565,\n",
       "         650.05703742,  707.92974918,  765.80246095,  823.67517272,\n",
       "         881.54788449,  939.42059625,  997.29330802, 1055.16601979,\n",
       "        1113.03873156, 1170.91144332, 1228.78415509, 1286.65686686,\n",
       "        1344.52957863, 1402.40229039, 1460.27500216, 1518.14771393,\n",
       "        1576.0204257 , 1633.89313746]),\n",
       " <BarContainer object of 25 artists>)"
      ]
     },
     "execution_count": 38,
     "metadata": {},
     "output_type": "execute_result"
    },
    {
     "data": {
      "image/png": "[encoded data removed]",
      "text/plain": [
       "<Figure size 1152x864 with 1 Axes>"
      ]
     },
     "metadata": {},
     "output_type": "display_data"
    }
   ],
   "source": [
    "plt.hist(kernel_sample, bins = 25, edgecolor='black', alpha = 0.6, density = False, color = 'c') "
   ]
  },
  {
   "cell_type": "code",
   "execution_count": 39,
   "id": "bdcef6ab",
   "metadata": {
    "execution": {
     "iopub.execute_input": "2021-08-20T15:24:07.851289Z",
     "iopub.status.busy": "2021-08-20T15:24:07.850116Z",
     "iopub.status.idle": "2021-08-20T15:24:07.854769Z",
     "shell.execute_reply": "2021-08-20T15:24:07.855529Z",
     "shell.execute_reply.started": "2021-08-09T06:10:41.908367Z"
    },
    "papermill": {
     "duration": 0.083169,
     "end_time": "2021-08-20T15:24:07.855796",
     "exception": false,
     "start_time": "2021-08-20T15:24:07.772627",
     "status": "completed"
    },
    "tags": []
   },
   "outputs": [
    {
     "name": "stdout",
     "output_type": "stream",
     "text": [
      "Kernel Sample Means = 1006.43, and Standard Deviation = 209.04\n"
     ]
    }
   ],
   "source": [
    "print('Kernel Sample Means = %.2f, and Standard Deviation = %.2f'% (np.mean(kernel_sample), np.std(kernel_sample)))"
   ]
  },
  {
   "cell_type": "markdown",
   "id": "ca16a30a",
   "metadata": {
    "papermill": {
     "duration": 0.071707,
     "end_time": "2021-08-20T15:24:08.001184",
     "exception": false,
     "start_time": "2021-08-20T15:24:07.929477",
     "status": "completed"
    },
    "tags": []
   },
   "source": [
    "We can see that the non-parametric method also yielded a good estimate of the true mean and true standard deviation.\n",
    "\n",
    "Let's apply this non-parametric approach to the gazoza demand data."
   ]
  },
  {
   "cell_type": "code",
   "execution_count": 40,
   "id": "abf8b1bd",
   "metadata": {
    "execution": {
     "iopub.execute_input": "2021-08-20T15:24:08.161589Z",
     "iopub.status.busy": "2021-08-20T15:24:08.160590Z",
     "iopub.status.idle": "2021-08-20T15:24:08.165951Z",
     "shell.execute_reply": "2021-08-20T15:24:08.166576Z",
     "shell.execute_reply.started": "2021-08-09T06:10:41.914660Z"
    },
    "papermill": {
     "duration": 0.091068,
     "end_time": "2021-08-20T15:24:08.166776",
     "exception": false,
     "start_time": "2021-08-20T15:24:08.075708",
     "status": "completed"
    },
    "tags": []
   },
   "outputs": [
    {
     "data": {
      "text/plain": [
       "KernelDensity(bandwidth=1000)"
      ]
     },
     "execution_count": 40,
     "metadata": {},
     "output_type": "execute_result"
    }
   ],
   "source": [
    "model2 = KernelDensity(bandwidth=1000, kernel='gaussian')\n",
    "\n",
    "gazozaArray = gazoza.loc[:,'quantity'].values\n",
    "gazozaArray = gazozaArray.reshape((len(gazozaArray),1))\n",
    "\n",
    "model2.fit(gazozaArray)"
   ]
  },
  {
   "cell_type": "code",
   "execution_count": 41,
   "id": "4a8ec5e5",
   "metadata": {
    "execution": {
     "iopub.execute_input": "2021-08-20T15:24:08.344780Z",
     "iopub.status.busy": "2021-08-20T15:24:08.341382Z",
     "iopub.status.idle": "2021-08-20T15:24:08.560808Z",
     "shell.execute_reply": "2021-08-20T15:24:08.560198Z",
     "shell.execute_reply.started": "2021-08-09T06:10:41.932604Z"
    },
    "papermill": {
     "duration": 0.323729,
     "end_time": "2021-08-20T15:24:08.560965",
     "exception": false,
     "start_time": "2021-08-20T15:24:08.237236",
     "status": "completed"
    },
    "tags": []
   },
   "outputs": [
    {
     "data": {
      "image/png": "[encoded data removed]",
      "text/plain": [
       "<Figure size 640x480 with 1 Axes>"
      ]
     },
     "metadata": {},
     "output_type": "display_data"
    }
   ],
   "source": [
    "# Plot the Histogram\n",
    "plt.figure(figsize=(8, 6), dpi=80)\n",
    "plt.hist(gazozaArray, bins = 25, edgecolor='black', alpha = 0.6, density = True, color = 'g') \n",
    "\n",
    "# Plot the PDF.\n",
    "# values = np.asarray([value for value in range(200, 1600)])\n",
    "# values = values.reshape((len(values), 1))\n",
    "xmin4, xmax4 = plt.xlim()\n",
    "x4 = np.linspace(xmin4, xmax4, 100)\n",
    "x4 = x4.reshape((len(x4), 1))\n",
    "pGazoza = model2.score_samples(x4)\n",
    "pGazoza = np.exp(pGazoza)\n",
    "title4 = \"Fit results using Kernel Density Estimators for Gazoza Data\"\n",
    "plt.plot(x4[:], pGazoza)\n",
    "plt.title(title4)\n",
    "\n",
    "plt.show()"
   ]
  },
  {
   "cell_type": "code",
   "execution_count": 42,
   "id": "3ef79684",
   "metadata": {
    "execution": {
     "iopub.execute_input": "2021-08-20T15:24:08.742913Z",
     "iopub.status.busy": "2021-08-20T15:24:08.739264Z",
     "iopub.status.idle": "2021-08-20T15:24:09.018063Z",
     "shell.execute_reply": "2021-08-20T15:24:09.017396Z",
     "shell.execute_reply.started": "2021-08-09T06:10:42.139483Z"
    },
    "papermill": {
     "duration": 0.382096,
     "end_time": "2021-08-20T15:24:09.018209",
     "exception": false,
     "start_time": "2021-08-20T15:24:08.636113",
     "status": "completed"
    },
    "tags": []
   },
   "outputs": [
    {
     "data": {
      "image/png": "[encoded data removed]",
      "text/plain": [
       "<Figure size 640x480 with 1 Axes>"
      ]
     },
     "metadata": {},
     "output_type": "display_data"
    }
   ],
   "source": [
    "# Plot the Histogram\n",
    "plt.figure(figsize=(8, 6), dpi=80)\n",
    "plt.hist(gazozaTest['quantity'], bins = 25, edgecolor='black', alpha = 0.5, density = True, color = 'm') \n",
    "plt.hist(gazozaArray, bins = 25, edgecolor='black', alpha = 0.2, density = True, color = 'g') \n",
    "\n",
    "# Plot the PDF.\n",
    "# values = np.asarray([value for value in range(200, 1600)])\n",
    "# values = values.reshape((len(values), 1))\n",
    "xmin4, xmax4 = plt.xlim()\n",
    "x4 = np.linspace(xmin4, xmax4, 100)\n",
    "x4 = x4.reshape((len(x4), 1))\n",
    "pGazoza = model2.score_samples(x4)\n",
    "pGazoza = np.exp(pGazoza)\n",
    "title4 = \"Fit results using Kernel Density Estimators for Gazoza Data\"\n",
    "plt.plot(x4[:], pGazoza)\n",
    "plt.title(title4)\n",
    "\n",
    "plt.show()"
   ]
  },
  {
   "cell_type": "markdown",
   "id": "7fdd1c56",
   "metadata": {
    "papermill": {
     "duration": 0.077955,
     "end_time": "2021-08-20T15:24:09.173293",
     "exception": false,
     "start_time": "2021-08-20T15:24:09.095338",
     "status": "completed"
    },
    "tags": []
   },
   "source": [
    "#### But, how can be use this non-parametric approach in the Newsvendor model?\n",
    "\n",
    "- The critical value Cu/Cu+Co is equvalent to the area under the curve (AUC) of a probability desnity function to the left of the optimal order quanity. Thus, once we know the critical calue, we can find which order quantity gives an AUC of that value."
   ]
  },
  {
   "cell_type": "code",
   "execution_count": 43,
   "id": "c86f8432",
   "metadata": {
    "execution": {
     "iopub.execute_input": "2021-08-20T15:24:09.333368Z",
     "iopub.status.busy": "2021-08-20T15:24:09.332708Z",
     "iopub.status.idle": "2021-08-20T15:24:09.335621Z",
     "shell.execute_reply": "2021-08-20T15:24:09.335062Z",
     "shell.execute_reply.started": "2021-08-09T06:34:21.102070Z"
    },
    "papermill": {
     "duration": 0.089466,
     "end_time": "2021-08-20T15:24:09.335794",
     "exception": false,
     "start_time": "2021-08-20T15:24:09.246328",
     "status": "completed"
    },
    "tags": []
   },
   "outputs": [],
   "source": [
    "qty = pd.DataFrame(gazoza.groupby(['date'], axis =0, as_index=True).sum()['quantity'])"
   ]
  },
  {
   "cell_type": "code",
   "execution_count": 44,
   "id": "b67ae2ce",
   "metadata": {
    "execution": {
     "iopub.execute_input": "2021-08-20T15:24:09.487142Z",
     "iopub.status.busy": "2021-08-20T15:24:09.486136Z",
     "iopub.status.idle": "2021-08-20T15:24:09.948923Z",
     "shell.execute_reply": "2021-08-20T15:24:09.948100Z",
     "shell.execute_reply.started": "2021-08-09T06:35:32.216769Z"
    },
    "papermill": {
     "duration": 0.538999,
     "end_time": "2021-08-20T15:24:09.949081",
     "exception": false,
     "start_time": "2021-08-20T15:24:09.410082",
     "status": "completed"
    },
    "tags": []
   },
   "outputs": [
    {
     "data": {
      "text/plain": [
       "<seaborn.axisgrid.FacetGrid at 0x7fe7de893f50>"
      ]
     },
     "execution_count": 44,
     "metadata": {},
     "output_type": "execute_result"
    },
    {
     "data": {
      "image/png": "[encoded data removed]",
      "text/plain": [
       "<Figure size 437.75x360 with 1 Axes>"
      ]
     },
     "metadata": {},
     "output_type": "display_data"
    }
   ],
   "source": [
    "sns.displot(qty, bins=8)"
   ]
  },
  {
   "cell_type": "code",
   "execution_count": 45,
   "id": "9b6b72da",
   "metadata": {
    "execution": {
     "iopub.execute_input": "2021-08-20T15:24:10.099462Z",
     "iopub.status.busy": "2021-08-20T15:24:10.098794Z",
     "iopub.status.idle": "2021-08-20T15:24:10.257435Z",
     "shell.execute_reply": "2021-08-20T15:24:10.257965Z",
     "shell.execute_reply.started": "2021-08-09T06:37:47.213735Z"
    },
    "papermill": {
     "duration": 0.234351,
     "end_time": "2021-08-20T15:24:10.258149",
     "exception": false,
     "start_time": "2021-08-20T15:24:10.023798",
     "status": "completed"
    },
    "tags": []
   },
   "outputs": [
    {
     "name": "stdout",
     "output_type": "stream",
     "text": [
      "The best Distibution is: norm\n",
      "The parameters are: \n",
      "(796533.1111111111, 208580.42266324168)\n"
     ]
    }
   ],
   "source": [
    "# Find best fit distribution\n",
    "qty_fit_name, qty_fit_params = best_fit_distribution(qty, 200)\n",
    "print(\"The best Distibution is: \" + qty_fit_name)\n",
    "print(\"The parameters are: \")\n",
    "print(qty_fit_params)\n",
    "qty_dist = getattr(st, qty_fit_name)"
   ]
  },
  {
   "cell_type": "code",
   "execution_count": 46,
   "id": "6de525e7",
   "metadata": {
    "execution": {
     "iopub.execute_input": "2021-08-20T15:24:10.600480Z",
     "iopub.status.busy": "2021-08-20T15:24:10.593378Z",
     "iopub.status.idle": "2021-08-20T15:24:10.803887Z",
     "shell.execute_reply": "2021-08-20T15:24:10.803272Z",
     "shell.execute_reply.started": "2021-08-09T06:44:18.737842Z"
    },
    "papermill": {
     "duration": 0.474323,
     "end_time": "2021-08-20T15:24:10.804037",
     "exception": false,
     "start_time": "2021-08-20T15:24:10.329714",
     "status": "completed"
    },
    "tags": []
   },
   "outputs": [
    {
     "data": {
      "image/png": "[encoded data removed]",
      "text/plain": [
       "<Figure size 800x480 with 1 Axes>"
      ]
     },
     "metadata": {},
     "output_type": "display_data"
    }
   ],
   "source": [
    "# Plot the Histogram\n",
    "plt.figure(figsize=(10, 6), dpi=80)\n",
    "plt.hist(qty, bins = 8, edgecolor='black', alpha = 0.6, density = True, label = \"Quantity Sold Data\") \n",
    "\n",
    "# Plot the PDF.\n",
    "xmin_qty, xmax_qty = plt.xlim()\n",
    "x_qty = np.linspace(xmin_qty, xmax_qty, 100)\n",
    "p_qty = norm.pdf(x_qty, np.mean(qty), np.std(qty))\n",
    "plt.plot(x_qty, p_qty, 'k', linewidth=2, label = \"Normal Dist\")\n",
    "title_qty = \"Best Fit for Gazoza Sale Aggregated by Month\"\n",
    "plt.legend(loc='best')\n",
    "plt.title(title_qty)\n",
    "\n",
    "plt.show()"
   ]
  },
  {
   "cell_type": "code",
   "execution_count": 47,
   "id": "472a6873",
   "metadata": {
    "execution": {
     "iopub.execute_input": "2021-08-20T15:24:10.969086Z",
     "iopub.status.busy": "2021-08-20T15:24:10.968114Z",
     "iopub.status.idle": "2021-08-20T15:24:10.973069Z",
     "shell.execute_reply": "2021-08-20T15:24:10.972411Z",
     "shell.execute_reply.started": "2021-08-09T06:57:30.528080Z"
    },
    "papermill": {
     "duration": 0.092595,
     "end_time": "2021-08-20T15:24:10.973224",
     "exception": false,
     "start_time": "2021-08-20T15:24:10.880629",
     "status": "completed"
    },
    "tags": []
   },
   "outputs": [
    {
     "data": {
      "text/plain": [
       "array([758986.05493514])"
      ]
     },
     "execution_count": 47,
     "metadata": {},
     "output_type": "execute_result"
    }
   ],
   "source": [
    "orderQuan(np.mean(qty), np.std(qty), 0.3, 0.4)"
   ]
  },
  {
   "cell_type": "code",
   "execution_count": null,
   "id": "885ad809",
   "metadata": {
    "papermill": {
     "duration": 0.077073,
     "end_time": "2021-08-20T15:24:11.125067",
     "exception": false,
     "start_time": "2021-08-20T15:24:11.047994",
     "status": "completed"
    },
    "tags": []
   },
   "outputs": [],
   "source": []
  }
 ],
 "metadata": {
  "kernelspec": {
   "display_name": "Python 3",
   "language": "python",
   "name": "python3"
  },
  "language_info": {
   "codemirror_mode": {
    "name": "ipython",
    "version": 3
   },
   "file_extension": ".py",
   "mimetype": "text/x-python",
   "name": "python",
   "nbconvert_exporter": "python",
   "pygments_lexer": "ipython3",
   "version": "3.8.6"
  },
  "papermill": {
   "default_parameters": {},
   "duration": 46.265487,
   "end_time": "2021-08-20T15:24:12.677424",
   "environment_variables": {},
   "exception": null,
   "input_path": "__notebook__.ipynb",
   "output_path": "__notebook__.ipynb",
   "parameters": {},
   "start_time": "2021-08-20T15:23:26.411937",
   "version": "2.3.3"
  }
 },
 "nbformat": 4,
 "nbformat_minor": 5
}
