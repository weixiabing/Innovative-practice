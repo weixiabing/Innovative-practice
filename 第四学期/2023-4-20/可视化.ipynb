{
 "cells": [
  {
   "cell_type": "code",
   "execution_count": 7,
   "metadata": {},
   "outputs": [
    {
     "name": "stdout",
     "output_type": "stream",
     "text": [
      "(444, 100, 100, 1)\n",
      "(444, 100, 100, 1)\n"
     ]
    }
   ],
   "source": [
    "#导入../data/testPredict.npy\n",
    "#导入../data/testY.npy\n",
    "import numpy as np\n",
    "import matplotlib.pyplot as plt\n",
    "testPredict = np.load('./data/testPredict.npy')\n",
    "testY = np.load('./data/testY.npy')\n",
    "print(testPredict.shape)\n",
    "print(testY.shape)"
   ]
  },
  {
   "cell_type": "code",
   "execution_count": 8,
   "metadata": {},
   "outputs": [],
   "source": [
    "data_min = 0.0\n",
    "data_max = 4435\n",
    "testPredict = testPredict * (data_max - data_min) + data_min\n",
    "testY= testY * (data_max - data_min) + data_min"
   ]
  },
  {
   "cell_type": "code",
   "execution_count": 9,
   "metadata": {},
   "outputs": [
    {
     "name": "stdout",
     "output_type": "stream",
     "text": [
      "(444, 100, 100, 1)\n",
      "(177600, 1)\n"
     ]
    }
   ],
   "source": [
    "import pandas as pd\n",
    "data=abs(testPredict-testY)\n",
    "print(data.shape)\n",
    "#data降成二维数组\n",
    "data = pd.DataFrame(data[:,40:60,40:60,:].reshape(-1,1))\n",
    "#打印形状\n",
    "print(data.shape)"
   ]
  },
  {
   "cell_type": "code",
   "execution_count": 10,
   "metadata": {},
   "outputs": [
    {
     "name": "stdout",
     "output_type": "stream",
     "text": [
      "(177600, 4)\n"
     ]
    }
   ],
   "source": [
    "#data增加3列\n",
    "data['lat'] = 0\n",
    "data['long'] = 0\n",
    "data['time'] = 0\n",
    "print(data.shape)"
   ]
  },
  {
   "cell_type": "code",
   "execution_count": 12,
   "metadata": {},
   "outputs": [
    {
     "data": {
      "text/html": [
       "<div>\n",
       "<style scoped>\n",
       "    .dataframe tbody tr th:only-of-type {\n",
       "        vertical-align: middle;\n",
       "    }\n",
       "\n",
       "    .dataframe tbody tr th {\n",
       "        vertical-align: top;\n",
       "    }\n",
       "\n",
       "    .dataframe thead th {\n",
       "        text-align: right;\n",
       "    }\n",
       "</style>\n",
       "<table border=\"1\" class=\"dataframe\">\n",
       "  <thead>\n",
       "    <tr style=\"text-align: right;\">\n",
       "      <th></th>\n",
       "      <th>value</th>\n",
       "      <th>lat</th>\n",
       "      <th>long</th>\n",
       "      <th>time</th>\n",
       "    </tr>\n",
       "  </thead>\n",
       "  <tbody>\n",
       "    <tr>\n",
       "      <th>0</th>\n",
       "      <td>30.138402</td>\n",
       "      <td>0</td>\n",
       "      <td>0</td>\n",
       "      <td>1386997200</td>\n",
       "    </tr>\n",
       "    <tr>\n",
       "      <th>1</th>\n",
       "      <td>13.579959</td>\n",
       "      <td>0</td>\n",
       "      <td>0</td>\n",
       "      <td>1386997200</td>\n",
       "    </tr>\n",
       "    <tr>\n",
       "      <th>2</th>\n",
       "      <td>10.221628</td>\n",
       "      <td>0</td>\n",
       "      <td>0</td>\n",
       "      <td>1386997200</td>\n",
       "    </tr>\n",
       "    <tr>\n",
       "      <th>3</th>\n",
       "      <td>8.669166</td>\n",
       "      <td>0</td>\n",
       "      <td>0</td>\n",
       "      <td>1386997200</td>\n",
       "    </tr>\n",
       "    <tr>\n",
       "      <th>4</th>\n",
       "      <td>14.216250</td>\n",
       "      <td>0</td>\n",
       "      <td>0</td>\n",
       "      <td>1386997200</td>\n",
       "    </tr>\n",
       "  </tbody>\n",
       "</table>\n",
       "</div>"
      ],
      "text/plain": [
       "       value  lat  long        time\n",
       "0  30.138402    0     0  1386997200\n",
       "1  13.579959    0     0  1386997200\n",
       "2  10.221628    0     0  1386997200\n",
       "3   8.669166    0     0  1386997200\n",
       "4  14.216250    0     0  1386997200"
      ]
     },
     "execution_count": 12,
     "metadata": {},
     "output_type": "execute_result"
    }
   ],
   "source": [
    "#第一列名改为value\n",
    "data.rename(columns={0:'value'},inplace=True)\n",
    "for i in range(444):\n",
    "    #从2013.12.14 12:00:00开始，每隔1小时\n",
    "    for j in range(400):\n",
    "        data.iloc[(i-1)*400+j,3] = 1386993600+i*3600\n",
    "data.head()\n",
    "    \n"
   ]
  },
  {
   "cell_type": "code",
   "execution_count": 13,
   "metadata": {},
   "outputs": [
    {
     "data": {
      "text/html": [
       "<div>\n",
       "<style scoped>\n",
       "    .dataframe tbody tr th:only-of-type {\n",
       "        vertical-align: middle;\n",
       "    }\n",
       "\n",
       "    .dataframe tbody tr th {\n",
       "        vertical-align: top;\n",
       "    }\n",
       "\n",
       "    .dataframe thead th {\n",
       "        text-align: right;\n",
       "    }\n",
       "</style>\n",
       "<table border=\"1\" class=\"dataframe\">\n",
       "  <thead>\n",
       "    <tr style=\"text-align: right;\">\n",
       "      <th></th>\n",
       "      <th>value</th>\n",
       "      <th>lat</th>\n",
       "      <th>long</th>\n",
       "      <th>time</th>\n",
       "    </tr>\n",
       "  </thead>\n",
       "  <tbody>\n",
       "    <tr>\n",
       "      <th>0</th>\n",
       "      <td>30.138402</td>\n",
       "      <td>0</td>\n",
       "      <td>0</td>\n",
       "      <td>2013-12-14 05:00:00</td>\n",
       "    </tr>\n",
       "    <tr>\n",
       "      <th>1</th>\n",
       "      <td>13.579959</td>\n",
       "      <td>0</td>\n",
       "      <td>0</td>\n",
       "      <td>2013-12-14 05:00:00</td>\n",
       "    </tr>\n",
       "    <tr>\n",
       "      <th>2</th>\n",
       "      <td>10.221628</td>\n",
       "      <td>0</td>\n",
       "      <td>0</td>\n",
       "      <td>2013-12-14 05:00:00</td>\n",
       "    </tr>\n",
       "    <tr>\n",
       "      <th>3</th>\n",
       "      <td>8.669166</td>\n",
       "      <td>0</td>\n",
       "      <td>0</td>\n",
       "      <td>2013-12-14 05:00:00</td>\n",
       "    </tr>\n",
       "    <tr>\n",
       "      <th>4</th>\n",
       "      <td>14.216250</td>\n",
       "      <td>0</td>\n",
       "      <td>0</td>\n",
       "      <td>2013-12-14 05:00:00</td>\n",
       "    </tr>\n",
       "  </tbody>\n",
       "</table>\n",
       "</div>"
      ],
      "text/plain": [
       "       value  lat  long                time\n",
       "0  30.138402    0     0 2013-12-14 05:00:00\n",
       "1  13.579959    0     0 2013-12-14 05:00:00\n",
       "2  10.221628    0     0 2013-12-14 05:00:00\n",
       "3   8.669166    0     0 2013-12-14 05:00:00\n",
       "4  14.216250    0     0 2013-12-14 05:00:00"
      ]
     },
     "execution_count": 13,
     "metadata": {},
     "output_type": "execute_result"
    }
   ],
   "source": [
    "#将第三列转换为时间格式\n",
    "data['time'] = pd.to_datetime(data['time'],unit='s')\n",
    "data.head()"
   ]
  },
  {
   "cell_type": "code",
   "execution_count": 15,
   "metadata": {},
   "outputs": [
    {
     "data": {
      "text/html": [
       "<div>\n",
       "<style scoped>\n",
       "    .dataframe tbody tr th:only-of-type {\n",
       "        vertical-align: middle;\n",
       "    }\n",
       "\n",
       "    .dataframe tbody tr th {\n",
       "        vertical-align: top;\n",
       "    }\n",
       "\n",
       "    .dataframe thead th {\n",
       "        text-align: right;\n",
       "    }\n",
       "</style>\n",
       "<table border=\"1\" class=\"dataframe\">\n",
       "  <thead>\n",
       "    <tr style=\"text-align: right;\">\n",
       "      <th></th>\n",
       "      <th>value</th>\n",
       "      <th>lat</th>\n",
       "      <th>long</th>\n",
       "      <th>time</th>\n",
       "    </tr>\n",
       "  </thead>\n",
       "  <tbody>\n",
       "    <tr>\n",
       "      <th>0</th>\n",
       "      <td>30.138402</td>\n",
       "      <td>9.16</td>\n",
       "      <td>45.450000</td>\n",
       "      <td>2013-12-14 05:00:00</td>\n",
       "    </tr>\n",
       "    <tr>\n",
       "      <th>1</th>\n",
       "      <td>13.579959</td>\n",
       "      <td>9.16</td>\n",
       "      <td>45.452106</td>\n",
       "      <td>2013-12-14 05:00:00</td>\n",
       "    </tr>\n",
       "    <tr>\n",
       "      <th>2</th>\n",
       "      <td>10.221628</td>\n",
       "      <td>9.16</td>\n",
       "      <td>45.454212</td>\n",
       "      <td>2013-12-14 05:00:00</td>\n",
       "    </tr>\n",
       "    <tr>\n",
       "      <th>3</th>\n",
       "      <td>8.669166</td>\n",
       "      <td>9.16</td>\n",
       "      <td>45.456318</td>\n",
       "      <td>2013-12-14 05:00:00</td>\n",
       "    </tr>\n",
       "    <tr>\n",
       "      <th>4</th>\n",
       "      <td>14.216250</td>\n",
       "      <td>9.16</td>\n",
       "      <td>45.458424</td>\n",
       "      <td>2013-12-14 05:00:00</td>\n",
       "    </tr>\n",
       "  </tbody>\n",
       "</table>\n",
       "</div>"
      ],
      "text/plain": [
       "       value   lat       long                time\n",
       "0  30.138402  9.16  45.450000 2013-12-14 05:00:00\n",
       "1  13.579959  9.16  45.452106 2013-12-14 05:00:00\n",
       "2  10.221628  9.16  45.454212 2013-12-14 05:00:00\n",
       "3   8.669166  9.16  45.456318 2013-12-14 05:00:00\n",
       "4  14.216250  9.16  45.458424 2013-12-14 05:00:00"
      ]
     },
     "execution_count": 15,
     "metadata": {},
     "output_type": "execute_result"
    }
   ],
   "source": [
    "data.rename(columns={0:'value'},inplace=True)\n",
    "for i in range(444):\n",
    "    for j in range(20):\n",
    "        for k in range(20):\n",
    "            data.iloc[i*400+j*20+k,2] = 0.002106*k+45.45\n",
    "            data.iloc[i*400+k*20+j,1] = 0.002832*k+9.16\n",
    "data.head()\n",
    "    "
   ]
  },
  {
   "cell_type": "code",
   "execution_count": 11,
   "metadata": {},
   "outputs": [],
   "source": [
    "#保存data为pd格式\n",
    "data.to_csv('./data/data.csv',index=False)"
   ]
  },
  {
   "cell_type": "code",
   "execution_count": 1,
   "metadata": {},
   "outputs": [
    {
     "name": "stdout",
     "output_type": "stream",
     "text": [
      "User Guide: https://docs.kepler.gl/docs/keplergl-jupyter\n"
     ]
    },
    {
     "data": {
      "application/vnd.jupyter.widget-view+json": {
       "model_id": "558f92132455466da351a16fa475eb2d",
       "version_major": 2,
       "version_minor": 0
      },
      "text/plain": [
       "KeplerGl(height=500)"
      ]
     },
     "metadata": {},
     "output_type": "display_data"
    }
   ],
   "source": [
    "from keplergl import KeplerGl\n",
    "\n",
    "#创建一个KeplerGl对象\n",
    "map_1 = KeplerGl(height=500)\n",
    "\n",
    "#激活KeplerGl对象到jupyter的窗口中\n",
    "map_1"
   ]
  },
  {
   "cell_type": "code",
   "execution_count": 2,
   "metadata": {},
   "outputs": [
    {
     "data": {
      "text/html": [
       "<div>\n",
       "<style scoped>\n",
       "    .dataframe tbody tr th:only-of-type {\n",
       "        vertical-align: middle;\n",
       "    }\n",
       "\n",
       "    .dataframe tbody tr th {\n",
       "        vertical-align: top;\n",
       "    }\n",
       "\n",
       "    .dataframe thead th {\n",
       "        text-align: right;\n",
       "    }\n",
       "</style>\n",
       "<table border=\"1\" class=\"dataframe\">\n",
       "  <thead>\n",
       "    <tr style=\"text-align: right;\">\n",
       "      <th></th>\n",
       "      <th>value</th>\n",
       "      <th>lat</th>\n",
       "      <th>long</th>\n",
       "      <th>time</th>\n",
       "    </tr>\n",
       "  </thead>\n",
       "  <tbody>\n",
       "    <tr>\n",
       "      <th>0</th>\n",
       "      <td>6.025671</td>\n",
       "      <td>9.02407</td>\n",
       "      <td>45.360213</td>\n",
       "      <td>2013-12-14 05:00:00</td>\n",
       "    </tr>\n",
       "    <tr>\n",
       "      <th>1</th>\n",
       "      <td>0.912601</td>\n",
       "      <td>9.02407</td>\n",
       "      <td>45.362319</td>\n",
       "      <td>2013-12-14 05:00:00</td>\n",
       "    </tr>\n",
       "    <tr>\n",
       "      <th>2</th>\n",
       "      <td>2.178531</td>\n",
       "      <td>9.02407</td>\n",
       "      <td>45.364425</td>\n",
       "      <td>2013-12-14 05:00:00</td>\n",
       "    </tr>\n",
       "    <tr>\n",
       "      <th>3</th>\n",
       "      <td>2.193963</td>\n",
       "      <td>9.02407</td>\n",
       "      <td>45.366531</td>\n",
       "      <td>2013-12-14 05:00:00</td>\n",
       "    </tr>\n",
       "    <tr>\n",
       "      <th>4</th>\n",
       "      <td>2.524400</td>\n",
       "      <td>9.02407</td>\n",
       "      <td>45.368637</td>\n",
       "      <td>2013-12-14 05:00:00</td>\n",
       "    </tr>\n",
       "  </tbody>\n",
       "</table>\n",
       "</div>"
      ],
      "text/plain": [
       "      value      lat       long                 time\n",
       "0  6.025671  9.02407  45.360213  2013-12-14 05:00:00\n",
       "1  0.912601  9.02407  45.362319  2013-12-14 05:00:00\n",
       "2  2.178531  9.02407  45.364425  2013-12-14 05:00:00\n",
       "3  2.193963  9.02407  45.366531  2013-12-14 05:00:00\n",
       "4  2.524400  9.02407  45.368637  2013-12-14 05:00:00"
      ]
     },
     "execution_count": 2,
     "metadata": {},
     "output_type": "execute_result"
    }
   ],
   "source": [
    "import pandas as pd\n",
    "\n",
    "\n",
    "df = pd.read_csv('./data/data.csv')\n",
    "df.head()"
   ]
  },
  {
   "cell_type": "code",
   "execution_count": 3,
   "metadata": {},
   "outputs": [
    {
     "name": "stdout",
     "output_type": "stream",
     "text": [
      "User Guide: https://docs.kepler.gl/docs/keplergl-jupyter\n"
     ]
    },
    {
     "data": {
      "application/vnd.jupyter.widget-view+json": {
       "model_id": "58e9db074bbf4d7b9b212fcfabcce066",
       "version_major": 2,
       "version_minor": 0
      },
      "text/plain": [
       "KeplerGl(data={'rocket': {'index': [0, 1, 2, 3, 4, 5, 6, 7, 8, 9, 10, 11, 12, 13, 14, 15, 16, 17, 18, 19, 20, …"
      ]
     },
     "metadata": {},
     "output_type": "display_data"
    }
   ],
   "source": [
    "#创建一个KeplerGl对象\n",
    "map_2 = KeplerGl(height=600)\n",
    "\n",
    "#激活KeplerGl对象到jupyter的窗口中\n",
    "map_2\n",
    "\n",
    "# 添加数据\n",
    "map_2.add_data(name='rocket', data=df)\n",
    "\n",
    "map_2\n"
   ]
  }
 ],
 "metadata": {
  "kernelspec": {
   "display_name": "Innovative-practice-HHChy52D",
   "language": "python",
   "name": "python3"
  },
  "language_info": {
   "codemirror_mode": {
    "name": "ipython",
    "version": 3
   },
   "file_extension": ".py",
   "mimetype": "text/x-python",
   "name": "python",
   "nbconvert_exporter": "python",
   "pygments_lexer": "ipython3",
   "version": "3.8.6"
  },
  "orig_nbformat": 4
 },
 "nbformat": 4,
 "nbformat_minor": 2
}
