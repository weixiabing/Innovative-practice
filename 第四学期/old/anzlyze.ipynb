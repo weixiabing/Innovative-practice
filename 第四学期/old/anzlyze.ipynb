{
 "cells": [
  {
   "cell_type": "code",
   "execution_count": 6,
   "metadata": {},
   "outputs": [],
   "source": [
    "import numpy as np\n",
    "import h5py"
   ]
  },
  {
   "cell_type": "code",
   "execution_count": 10,
   "metadata": {},
   "outputs": [
    {
     "name": "stdout",
     "output_type": "stream",
     "text": [
      "(819, 100, 100, 1)\n",
      "(273, 100, 100, 3)\n"
     ]
    }
   ],
   "source": [
    "#读取100/testPredict.npy\n",
    "testPredict = np.load('data/testPredict.npy')\n",
    "#读取h5\n",
    "f = h5py.File('data/testY.h5','r')\n",
    "testY = f['testY'][:]\n",
    "f.close()\n",
    "print(testPredict.shape)\n",
    "print(testY.shape)\n",
    "#反归一化\n",
    "data_max = 4435\n",
    "data_min = 0.0\n",
    "testPredict = testPredict * (data_max - data_min) + data_min\n",
    "testY= testY * (data_max - data_min) + data_min\n"
   ]
  },
  {
   "cell_type": "code",
   "execution_count": 12,
   "metadata": {},
   "outputs": [],
   "source": [
    "testPredict=testPredict[:273,:,:,:].reshape(2730000,1)\n",
    "testY=testY[:,:,:,1].reshape(2730000,1)"
   ]
  },
  {
   "cell_type": "code",
   "execution_count": 13,
   "metadata": {},
   "outputs": [
    {
     "name": "stdout",
     "output_type": "stream",
     "text": [
      "RMSE为 302.2062800824336\n",
      "MAE为 293.8191286394889\n",
      "MAPE为 71819.24972667343\n",
      "R2为 -22.4575037399117\n"
     ]
    }
   ],
   "source": [
    "from  sklearn import  metrics\n",
    "import numpy as np\n",
    "\n",
    "def GetRMSE(y_hat,y_test):\n",
    "    sum = np.sqrt(metrics.mean_squared_error(y_test, y_hat))\n",
    "    return  sum\n",
    "\n",
    "def GetMAE(y_hat,y_test):\n",
    "    sum = metrics.mean_absolute_error(y_test, y_hat)\n",
    "    return  sum\n",
    "\n",
    "def GetMAPE_Order(y_hat,y_test):\n",
    "    #删除test_y 为0元素\n",
    "    zero_index = np.where(y_test == 0)\n",
    "    y_hat = np.delete(y_hat,zero_index[0])\n",
    "    y_test = np.delete(y_test,zero_index[0])\n",
    "    sum = np.mean(np.abs((y_hat - y_test) / y_test)) * 100\n",
    "    return sum\n",
    "#计算R2\n",
    "def GetR2(y_hat,y_test):\n",
    "    sum = metrics.r2_score(y_test, y_hat)\n",
    "    return sum\n",
    "\n",
    "\n",
    "\n",
    "print(\"RMSE为\",GetRMSE(testPredict,testY))\n",
    "print(\"MAE为\",GetMAE(testPredict,testY))\n",
    "print(\"MAPE为\",GetMAPE_Order(testPredict,testY))\n",
    "print(\"R2为\",GetR2(testPredict,testY))"
   ]
  }
 ],
 "metadata": {
  "kernelspec": {
   "display_name": "Innovative-practice-HHChy52D",
   "language": "python",
   "name": "python3"
  },
  "language_info": {
   "codemirror_mode": {
    "name": "ipython",
    "version": 3
   },
   "file_extension": ".py",
   "mimetype": "text/x-python",
   "name": "python",
   "nbconvert_exporter": "python",
   "pygments_lexer": "ipython3",
   "version": "3.8.6"
  },
  "orig_nbformat": 4
 },
 "nbformat": 4,
 "nbformat_minor": 2
}
