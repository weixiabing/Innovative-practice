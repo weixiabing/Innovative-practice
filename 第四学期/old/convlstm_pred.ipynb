{
 "cells": [
  {
   "cell_type": "code",
   "execution_count": 4,
   "metadata": {},
   "outputs": [],
   "source": [
    "import numpy as np\n",
    "import cupy as cp\n",
    "import h5py\n",
    "import os\n",
    "import matplotlib.pyplot as plt\n",
    "import datetime\n",
    "import tensorflow as tf\n",
    "from tensorflow import keras\n",
    "from tensorflow.keras import layers\n",
    "from keras.models import Sequential,load_model\n",
    "import io\n",
    "import imageio\n",
    "from IPython.display import Image, display\n",
    "from ipywidgets import widgets, Layout, HBox"
   ]
  },
  {
   "cell_type": "code",
   "execution_count": 5,
   "metadata": {},
   "outputs": [],
   "source": [
    "f = h5py.File('./data/testlist.h5', 'r')\n",
    "testX = f['testX']\n",
    "testY = f['testY']\n",
    "testX = np.array(testX)\n",
    "testY = np.array(testY)"
   ]
  },
  {
   "cell_type": "code",
   "execution_count": 6,
   "metadata": {},
   "outputs": [
    {
     "name": "stdout",
     "output_type": "stream",
     "text": [
      "0 列最大值为： 2302.134\n",
      "1 列最大值为： 2688.535\n",
      "2 列最大值为： 4317.349\n",
      "3 列最大值为： 1063.0\n",
      "4 列最大值为： 115.0\n",
      "5 列最大值为： 151.0\n",
      "6 列最大值为： 71.0\n"
     ]
    }
   ],
   "source": [
    "#对每列进行归一化\n",
    "def normalize(data):\n",
    "    for i in range(data.shape[-1]):\n",
    "        print(i,'列最大值为：',data[:,:,:,i].max())\n",
    "        data[:,:,:,:,i] = data[:,:,:,:,i]/(int(data[:,:,:,i].max())+1)\n",
    "    return data\n",
    "testX = normalize(testX)\n",
    "testY = testY/2689\n"
   ]
  },
  {
   "cell_type": "code",
   "execution_count": 9,
   "metadata": {},
   "outputs": [
    {
     "ename": "TypeError",
     "evalue": "weight_decay is not a valid argument, kwargs should be empty  for `optimizer_experimental.Optimizer`.",
     "output_type": "error",
     "traceback": [
      "\u001b[1;31m---------------------------------------------------------------------------\u001b[0m",
      "\u001b[1;31mTypeError\u001b[0m                                 Traceback (most recent call last)",
      "\u001b[1;32md:\\library\\Github\\Innovative-practice\\第四学期\\convlstm_pred.ipynb 单元格 4\u001b[0m in \u001b[0;36m1\n\u001b[1;32m----> <a href='vscode-notebook-cell:/d%3A/library/Github/Innovative-practice/%E7%AC%AC%E5%9B%9B%E5%AD%A6%E6%9C%9F/convlstm_pred.ipynb#W0sZmlsZQ%3D%3D?line=0'>1</a>\u001b[0m model \u001b[39m=\u001b[39m load_model(\u001b[39m'\u001b[39;49m\u001b[39m./data/train_result.h5\u001b[39;49m\u001b[39m'\u001b[39;49m)\n\u001b[0;32m      <a href='vscode-notebook-cell:/d%3A/library/Github/Innovative-practice/%E7%AC%AC%E5%9B%9B%E5%AD%A6%E6%9C%9F/convlstm_pred.ipynb#W0sZmlsZQ%3D%3D?line=1'>2</a>\u001b[0m testPredict \u001b[39m=\u001b[39m model\u001b[39m.\u001b[39mpredict(testX)\n\u001b[0;32m      <a href='vscode-notebook-cell:/d%3A/library/Github/Innovative-practice/%E7%AC%AC%E5%9B%9B%E5%AD%A6%E6%9C%9F/convlstm_pred.ipynb#W0sZmlsZQ%3D%3D?line=2'>3</a>\u001b[0m \u001b[39mprint\u001b[39m(testPredict\u001b[39m.\u001b[39mshape)\n",
      "File \u001b[1;32mc:\\Users\\weixiabing\\.virtualenvs\\Innovative-practice-HHChy52D\\lib\\site-packages\\keras\\utils\\traceback_utils.py:70\u001b[0m, in \u001b[0;36mfilter_traceback.<locals>.error_handler\u001b[1;34m(*args, **kwargs)\u001b[0m\n\u001b[0;32m     67\u001b[0m     filtered_tb \u001b[39m=\u001b[39m _process_traceback_frames(e\u001b[39m.\u001b[39m__traceback__)\n\u001b[0;32m     68\u001b[0m     \u001b[39m# To get the full stack trace, call:\u001b[39;00m\n\u001b[0;32m     69\u001b[0m     \u001b[39m# `tf.debugging.disable_traceback_filtering()`\u001b[39;00m\n\u001b[1;32m---> 70\u001b[0m     \u001b[39mraise\u001b[39;00m e\u001b[39m.\u001b[39mwith_traceback(filtered_tb) \u001b[39mfrom\u001b[39;00m \u001b[39mNone\u001b[39m\n\u001b[0;32m     71\u001b[0m \u001b[39mfinally\u001b[39;00m:\n\u001b[0;32m     72\u001b[0m     \u001b[39mdel\u001b[39;00m filtered_tb\n",
      "File \u001b[1;32mc:\\Users\\weixiabing\\.virtualenvs\\Innovative-practice-HHChy52D\\lib\\site-packages\\keras\\optimizers\\optimizer_experimental\\optimizer.py:115\u001b[0m, in \u001b[0;36m_BaseOptimizer._process_kwargs\u001b[1;34m(self, kwargs)\u001b[0m\n\u001b[0;32m    109\u001b[0m     logging\u001b[39m.\u001b[39mwarning(\n\u001b[0;32m    110\u001b[0m         \u001b[39m\"\u001b[39m\u001b[39m%s\u001b[39;00m\u001b[39m is deprecated in `optimizer_experimental.Optimizer`\u001b[39m\u001b[39m\"\u001b[39m\n\u001b[0;32m    111\u001b[0m         \u001b[39m\"\u001b[39m\u001b[39m, please check the docstring for valid arguments.\u001b[39m\u001b[39m\"\u001b[39m,\n\u001b[0;32m    112\u001b[0m         k,\n\u001b[0;32m    113\u001b[0m     )\n\u001b[0;32m    114\u001b[0m \u001b[39melse\u001b[39;00m:\n\u001b[1;32m--> 115\u001b[0m     \u001b[39mraise\u001b[39;00m \u001b[39mTypeError\u001b[39;00m(\n\u001b[0;32m    116\u001b[0m         \u001b[39mf\u001b[39m\u001b[39m\"\u001b[39m\u001b[39m{\u001b[39;00mk\u001b[39m}\u001b[39;00m\u001b[39m is not a valid argument, kwargs should be empty \u001b[39m\u001b[39m\"\u001b[39m\n\u001b[0;32m    117\u001b[0m         \u001b[39m\"\u001b[39m\u001b[39m for `optimizer_experimental.Optimizer`.\u001b[39m\u001b[39m\"\u001b[39m\n\u001b[0;32m    118\u001b[0m     )\n",
      "\u001b[1;31mTypeError\u001b[0m: weight_decay is not a valid argument, kwargs should be empty  for `optimizer_experimental.Optimizer`."
     ]
    }
   ],
   "source": [
    "model = load_model('./data/train_result.h5')\n",
    "testPredict = model.predict(testX)\n",
    "print(testPredict.shape)"
   ]
  }
 ],
 "metadata": {
  "kernelspec": {
   "display_name": "Innovative-practice-HHChy52D",
   "language": "python",
   "name": "python3"
  },
  "language_info": {
   "codemirror_mode": {
    "name": "ipython",
    "version": 3
   },
   "file_extension": ".py",
   "mimetype": "text/x-python",
   "name": "python",
   "nbconvert_exporter": "python",
   "pygments_lexer": "ipython3",
   "version": "3.8.6"
  },
  "orig_nbformat": 4
 },
 "nbformat": 4,
 "nbformat_minor": 2
}
