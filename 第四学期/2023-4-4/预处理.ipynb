{
 "cells": [
  {
   "cell_type": "code",
   "execution_count": 2,
   "metadata": {},
   "outputs": [],
   "source": [
    "import h5py\n",
    "import pandas as pd\n",
    "import numpy as np"
   ]
  },
  {
   "cell_type": "code",
   "execution_count": 4,
   "metadata": {},
   "outputs": [],
   "source": [
    "f = h5py.File('../data/data_git_version.h5', 'r')\n",
    "data = f['data']\n",
    "data = np.array(data)\n",
    "f.close()\n"
   ]
  },
  {
   "cell_type": "code",
   "execution_count": 6,
   "metadata": {},
   "outputs": [
    {
     "name": "stdout",
     "output_type": "stream",
     "text": [
      "(1488, 10000, 3)\n",
      "(1488, 100, 100, 1)\n"
     ]
    }
   ],
   "source": [
    "print(data.shape)\n",
    "data=data[:,:,1].reshape(1488,100,100,1)\n",
    "print(data.shape)"
   ]
  },
  {
   "cell_type": "code",
   "execution_count": 7,
   "metadata": {},
   "outputs": [
    {
     "name": "stdout",
     "output_type": "stream",
     "text": [
      "最小值： 0.0\n",
      "最大值： 4434.6990000000005\n"
     ]
    }
   ],
   "source": [
    "data_min = np.min(data)\n",
    "data_max = np.max(data)\n",
    "print(\"最小值：\",data_min)\n",
    "print(\"最大值：\",data_max)\n",
    "data_normalized = (data - data_min) / (data_max - data_min)"
   ]
  },
  {
   "cell_type": "code",
   "execution_count": 8,
   "metadata": {},
   "outputs": [
    {
     "name": "stdout",
     "output_type": "stream",
     "text": [
      "(1041, 100, 100, 1)\n",
      "(447, 100, 100, 1)\n"
     ]
    }
   ],
   "source": [
    "n=int(data_normalized.shape[0]*0.7)\n",
    "trainlist=data_normalized[0:n,:,:]\n",
    "testlist=data_normalized[n:,:,:]\n",
    "print(trainlist.shape)\n",
    "print(testlist.shape)"
   ]
  },
  {
   "cell_type": "code",
   "execution_count": 10,
   "metadata": {},
   "outputs": [
    {
     "name": "stdout",
     "output_type": "stream",
     "text": [
      "(1017, 24, 100, 100, 1)\n",
      "(1017, 100, 100, 1)\n",
      "(423, 24, 100, 100, 1)\n",
      "(423, 100, 100, 1)\n"
     ]
    }
   ],
   "source": [
    "#滑窗\n",
    "def create_dataset(dataset, look_back):\n",
    "#这里的look_back与timestep相同\n",
    "    dataX, dataY = [], []\n",
    "    for j in range(dataset.shape[0]-look_back):\n",
    "            a = dataset[j:(j+look_back),:,:]\n",
    "            dataX.append(a)\n",
    "            dataY.append(dataset[j + look_back,:,:])\n",
    "    return np.array(dataX),np.array(dataY)\n",
    "look_back = 24\n",
    "trainX,trainY  = create_dataset(trainlist,look_back)\n",
    "testX,testY = create_dataset(testlist,look_back)\n",
    "trainX =np.reshape(trainX, (trainX.shape[0], trainX.shape[1],trainX.shape[2],trainX.shape[3],1))\n",
    "testX =np.reshape(testX, (testX.shape[0], testX.shape[1],testX.shape[2],testX.shape[3],1))\n",
    "trainY =np.reshape(trainY, (trainY.shape[0], trainY.shape[1],trainY.shape[2],1))\n",
    "testY =np.reshape(testY, (testY.shape[0], testY.shape[1],testY.shape[2],1))\n",
    "print(trainX.shape)\n",
    "print(trainY.shape)\n",
    "print(testX.shape)\n",
    "print(testY.shape)"
   ]
  },
  {
   "cell_type": "code",
   "execution_count": null,
   "metadata": {},
   "outputs": [],
   "source": [
    "#保存数据\n",
    "np.save('../data/trainX.npy',trainX)\n",
    "np.save('../data/trainY.npy',trainY)\n",
    "np.save('../data/testX.npy',testX)\n",
    "np.save('../data/testY.npy',testY)"
   ]
  }
 ],
 "metadata": {
  "kernelspec": {
   "display_name": "Innovative-practice-HHChy52D",
   "language": "python",
   "name": "python3"
  },
  "language_info": {
   "codemirror_mode": {
    "name": "ipython",
    "version": 3
   },
   "file_extension": ".py",
   "mimetype": "text/x-python",
   "name": "python",
   "nbconvert_exporter": "python",
   "pygments_lexer": "ipython3",
   "version": "3.8.6"
  },
  "orig_nbformat": 4
 },
 "nbformat": 4,
 "nbformat_minor": 2
}
