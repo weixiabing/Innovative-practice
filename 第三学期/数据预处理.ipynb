{
 "cells": [
  {
   "cell_type": "markdown",
   "metadata": {},
   "source": [
    "\n",
    "*******************************************\n",
    "+ Name: weixiabing\n",
    "+ Date: 9/14/22\n",
    "********************************************\n"
   ]
  },
  {
   "cell_type": "code",
   "execution_count": 9,
   "metadata": {},
   "outputs": [],
   "source": [
    "import h5py\n",
    "import cupy as cp\n",
    "import matplotlib.pyplot as plt\n",
    "from keras.models import Sequential\n",
    "from keras.layers import Dense\n",
    "from keras.layers import LSTM\n",
    "import  pandas as pd\n",
    "import  os\n",
    "from keras.models import Sequential, load_model\n",
    "from sklearn.preprocessing import MinMaxScaler"
   ]
  },
  {
   "cell_type": "code",
   "execution_count": 10,
   "metadata": {},
   "outputs": [
    {
     "name": "stdout",
     "output_type": "stream",
     "text": [
      "(1488, 10000, 3)\n",
      "(10000, 1488, 3)\n",
      "(14880000, 3)\n"
     ]
    }
   ],
   "source": [
    "#读取数据\n",
    "f = h5py.File('D:\\library\\Github\\Innovative-practice\\library\\csv\\第三学期\\data_git_version.h5', 'r')\n",
    "data_o = f['data']\n",
    "data_o = cp.array(data_o)\n",
    "print(data_o.shape)\n",
    "#数据换轴\n",
    "data_o = cp.transpose(data_o,(1,0,2))\n",
    "print(data_o.shape)\n",
    "#数据降维\n",
    "data=cp.reshape(data_o,(-1,3))\n",
    "print(data.shape)"
   ]
  },
  {
   "cell_type": "code",
   "execution_count": 11,
   "metadata": {},
   "outputs": [
    {
     "name": "stdout",
     "output_type": "stream",
     "text": [
      "(14880000, 5)\n"
     ]
    }
   ],
   "source": [
    "#定义data_n为(n,5)的数组\n",
    "data_n=cp.zeros((data.shape[0],5))\n",
    "print(data_n.shape)\n",
    "#将data中的数据复制到data_n中\n",
    "data_n[:,2:5]=data\n",
    "#date_n[:,0]赋值为0-1487重复10000次\n",
    "data_n[:,1]=cp.repeat(cp.arange(0,10000),1488)\n",
    "#date_n[:,0]赋值为0-1488循环10000次\n",
    "data_n[:,0]=cp.tile(cp.arange(0,1488),10000)\n"
   ]
  },
  {
   "cell_type": "code",
   "execution_count": 14,
   "metadata": {},
   "outputs": [
    {
     "name": "stdout",
     "output_type": "stream",
     "text": [
      "(10000, 1488, 5)\n"
     ]
    }
   ],
   "source": [
    "#data_n转化为(1488,10000,5)的数组\n",
    "data_n=cp.reshape(data_n,(10000, 1488,5))\n",
    "print(data_n.shape)\n"
   ]
  },
  {
   "cell_type": "code",
   "execution_count": 16,
   "metadata": {},
   "outputs": [
    {
     "name": "stdout",
     "output_type": "stream",
     "text": [
      "[[0.0000e+00 0.0000e+00 3.1890e+00 1.0210e+00 5.7799e+01]\n",
      " [1.0000e+00 0.0000e+00 1.9340e+00 3.8500e-01 4.4047e+01]\n",
      " [2.0000e+00 0.0000e+00 7.1600e-01 1.6400e-01 4.1207e+01]\n",
      " [3.0000e+00 0.0000e+00 2.0480e+00 2.8000e-02 3.3022e+01]\n",
      " [4.0000e+00 0.0000e+00 8.6500e-01 3.1000e-02 3.1377e+01]\n",
      " [5.0000e+00 0.0000e+00 3.6200e-01 2.1200e-01 3.4842e+01]\n",
      " [6.0000e+00 0.0000e+00 3.3100e-01 3.7500e-01 3.5416e+01]\n",
      " [7.0000e+00 0.0000e+00 1.1240e+00 7.3800e-01 4.2934e+01]\n",
      " [8.0000e+00 0.0000e+00 5.1020e+00 2.4380e+00 5.9881e+01]\n",
      " [9.0000e+00 0.0000e+00 6.4750e+00 6.1330e+00 7.1136e+01]]\n"
     ]
    }
   ],
   "source": [
    "print(data_n[0,0:10,:])"
   ]
  },
  {
   "cell_type": "code",
   "execution_count": 22,
   "metadata": {},
   "outputs": [
    {
     "name": "stdout",
     "output_type": "stream",
     "text": [
      "[9085 5090 7299 6053 3508 6189 7548 7992 4827 4586 5080 6753 3658 5005\n",
      " 9093 3475 9280 1771 3346 9968 6626 2739 4995 4449 4411 4468 1824 8952\n",
      " 9041 3311 7016 1423 4608 4175 8861  620 1653 2131 3619 4191 7885 2053\n",
      " 4748 6075 9069  104 2863 1425 1489 3758 3376 8971  387 4626 2637 5026\n",
      " 5305 3043 3793 2163 7118 5442 4209 2210 6792 4398 3011 3033 7231 2725\n",
      " 5742 2516 4883 1345 3705 8584 4131 4534  704 3891 8187 2513 1624 6179\n",
      " 9343 5406 3297 8877 4592  874 2782 4202 8435 2685 8025 9304 4335 4823\n",
      " 5215 8456]\n"
     ]
    }
   ],
   "source": [
    "#生成100个（0，10000）的随机数\n",
    "index=cp.random.randint(0,10000,5000)\n",
    "print(index)\n",
    "data_random=data_n[index,:,:]\n",
    "\n",
    "\n"
   ]
  },
  {
   "cell_type": "code",
   "execution_count": 26,
   "metadata": {},
   "outputs": [
    {
     "name": "stdout",
     "output_type": "stream",
     "text": [
      "(100, 1190, 5)\n",
      "(100, 298, 5)\n",
      "(119000, 5)\n",
      "(29800, 5)\n"
     ]
    }
   ],
   "source": [
    "train_size = int(1488* 0.8)\n",
    "trainlist=data_random[:,0:train_size,:]\n",
    "testlist=data_random[:,train_size:,:]\n",
    "print(trainlist.shape)\n",
    "print(testlist.shape)\n",
    "#trainlist转化为二维\n",
    "trainlist=cp.reshape(trainlist,(-1,5))\n",
    "print(trainlist.shape)\n",
    "#testlist转化为二维\n",
    "testlist=cp.reshape(testlist,(-1,5))\n",
    "print(testlist.shape)\n",
    "#将trainlist和testlist转化为dataframe\n",
    "trainlist=pd.DataFrame(trainlist.get(), columns=['time','place','sms','call','internet'])\n",
    "testlist=pd.DataFrame(testlist.get(), columns=['time','place','sms','call','internet'])\n",
    "#将trainlist和testlist转化为csv文件\n",
    "trainlist.to_csv('D:\\library\\Github\\Innovative-practice\\library\\csv\\第三学期/trainlist.csv',index=False)\n",
    "testlist.to_csv('D:\\library\\Github\\Innovative-practice\\library\\csv\\第三学期/testlist.csv',index=False)\n"
   ]
  }
 ],
 "metadata": {
  "kernelspec": {
   "display_name": "Python 3.8.6 ('Innovative-practice-HHChy52D')",
   "language": "python",
   "name": "python3"
  },
  "language_info": {
   "codemirror_mode": {
    "name": "ipython",
    "version": 3
   },
   "file_extension": ".py",
   "mimetype": "text/x-python",
   "name": "python",
   "nbconvert_exporter": "python",
   "pygments_lexer": "ipython3",
   "version": "3.8.6"
  },
  "orig_nbformat": 4,
  "vscode": {
   "interpreter": {
    "hash": "1353927fb18e064046a1cd21ed8c15ef15c98edbe2136e1d2bceb4804e0d476f"
   }
  }
 },
 "nbformat": 4,
 "nbformat_minor": 2
}
