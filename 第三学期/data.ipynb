{
 "cells": [
  {
   "cell_type": "code",
   "execution_count": null,
   "metadata": {
    "collapsed": false,
    "pycharm": {
     "name": "#%%\n"
    }
   },
   "outputs": [],
   "source": [
    "import h5py\n",
    "import numpy as np\n",
    "f = h5py.File('D:\\library\\Github\\Innovative-practice\\library\\csv\\第三学期\\data_git_version.h5', 'r')\n",
    "for key in f.keys():\n",
    "    print(f[key].name)\n",
    "#打印data关键字\n",
    "print(f['data'].shape)\n",
    "#(1488, 10000, 3) 1488个样本(每1h)，每个样本10000个点（100x100），每个点3个特征（sms, call, internet） \n",
    "print(f['idx'][0])\n",
    "print(f['idx'][1])\n",
    "#idx为每个样本的时间戳，第一个样本的时间戳为2013-11-01 01:00:00，第二个样本的时间戳为2013-11-01 02:00:00"
   ]
  },
  {
   "cell_type": "code",
   "execution_count": null,
   "metadata": {
    "collapsed": false,
    "pycharm": {
     "name": "#%%\n"
    }
   },
   "outputs": [],
   "source": [
    "import seaborn as sns\n",
    "import matplotlib.pyplot as plt\n",
    "data0 = f['data'][0, :, 0]\n",
    "data1 = f['data'][0, :, 1] \n",
    "data2 = f['data'][0, :, 2]\n",
    "#将data转化成二维数据\n",
    "data0 = data0.reshape(100, 100)\n",
    "data1 = data1.reshape(100, 100)\n",
    "data2 = data2.reshape(100, 100)\n",
    "#将data转化成热力图\n",
    "plt.figure( figsize=(10,30) )\n",
    "plt.subplot(3,1,1)\n",
    "sns.heatmap(data0)\n",
    "plt.subplot(3,1,2)\n",
    "sns.heatmap(data1)\n",
    "plt.subplot(3,1,3)\n",
    "sns.heatmap(data2)\n",
    "\n",
    "plt.show()\n"
   ]
  },
  {
   "cell_type": "code",
   "execution_count": null,
   "metadata": {
    "collapsed": false,
    "pycharm": {
     "name": "#%%\n"
    }
   },
   "outputs": [],
   "source": [
    "import  matplotlib.pyplot as plt\n",
    "data_p1_1 = f['data'][:, 0, 0]\n",
    "#绘制折线图\n",
    "plt.figure( figsize=(100,30) )\n",
    "plt.plot(data_p1_1)\n",
    "plt.show()\n"
   ]
  },
  {
   "cell_type": "code",
   "execution_count": null,
   "metadata": {
    "collapsed": false,
    "pycharm": {
     "name": "#%%\n"
    }
   },
   "outputs": [],
   "source": [
    "#导出data_p1_1 = f['data'][:, 0, 0]为csv文件\n",
    "import pandas as pd\n",
    "data_p1_1 = f['data'][:, 0, 0]\n",
    "data_p1_1 = pd.DataFrame(data_p1_1)\n",
    "data_p1_1.to_csv('D:\\library\\Github\\Innovative-practice\\library\\csv\\第三学期\\data_p1_1.csv', index=False)\n"
   ]
  },
  {
   "cell_type": "code",
   "execution_count": null,
   "metadata": {
    "collapsed": false,
    "pycharm": {
     "name": "#%%\n"
    }
   },
   "outputs": [],
   "source": [
    "#检测f['data']有无缺失值\n",
    "import numpy as np\n",
    "np.isnan(f['data']).any()\n"
   ]
  },
  {
   "cell_type": "code",
   "execution_count": null,
   "metadata": {
    "collapsed": false,
    "pycharm": {
     "name": "#%%\n"
    }
   },
   "outputs": [],
   "source": [
    "import  matplotlib.pyplot as plt\n",
    "data_p1_1 = f['data'][:, 0, 0]\n",
    "#绘制折线图\n",
    "plt.figure( figsize=(100,30) )\n",
    "plt.plot(data_p1_1)\n",
    "plt.show()\n"
   ]
  },
  {
   "cell_type": "code",
   "execution_count": null,
   "metadata": {
    "collapsed": false,
    "pycharm": {
     "name": "#%%\n"
    }
   },
   "outputs": [],
   "source": [
    "#导出data_p1_1 = f['data'][:, 0, 0]为csv文件\n",
    "import pandas as pd\n",
    "data_p1_1 = f['data'][:, 0, 0]\n",
    "data_p1_1 = pd.DataFrame(data_p1_1)\n",
    "data_p1_1.to_csv('D:\\library\\Github\\Innovative-practice\\library\\csv\\第三学期\\data_p1_1.csv', index=False)\n"
   ]
  },
  {
   "cell_type": "code",
   "execution_count": null,
   "metadata": {
    "collapsed": false,
    "pycharm": {
     "name": "#%%\n"
    }
   },
   "outputs": [],
   "source": [
    "import tensorflow as tf\n",
    "print(tf.test.is_gpu_available())\n"
   ]
  }
 ],
 "metadata": {
  "kernelspec": {
   "display_name": "Python 3.8.6 ('Innovative-practice-HHChy52D')",
   "language": "python",
   "name": "python3"
  },
  "language_info": {
   "codemirror_mode": {
    "name": "ipython",
    "version": 3
   },
   "file_extension": ".py",
   "mimetype": "text/x-python",
   "name": "python",
   "nbconvert_exporter": "python",
   "pygments_lexer": "ipython3",
   "version": "3.8.6"
  },
  "orig_nbformat": 4,
  "vscode": {
   "interpreter": {
    "hash": "1353927fb18e064046a1cd21ed8c15ef15c98edbe2136e1d2bceb4804e0d476f"
   }
  }
 },
 "nbformat": 4,
 "nbformat_minor": 2
}
