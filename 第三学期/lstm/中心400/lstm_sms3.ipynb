{
 "cells": [
  {
   "cell_type": "code",
   "execution_count": 1,
   "metadata": {},
   "outputs": [],
   "source": [
    "from sklearn.preprocessing import MinMaxScaler\n",
    "from keras.models import Sequential,load_model\n",
    "import cupy as cp\n",
    "from keras.layers import LSTM\n",
    "from  tensorflow.keras.layers import LSTM,Dense,Activation,Dropout\n",
    "from  tensorflow.keras.callbacks import History,Callback,EarlyStopping\n",
    "import os\n",
    "import tensorflow as tf\n",
    "import datetime\n",
    "import h5py"
   ]
  },
  {
   "cell_type": "code",
   "execution_count": 2,
   "metadata": {},
   "outputs": [
    {
     "name": "stdout",
     "output_type": "stream",
     "text": [
      "(406800, 24, 3)\n",
      "(406800, 3)\n",
      "(169200, 24, 3)\n",
      "(169200, 3)\n"
     ]
    }
   ],
   "source": [
    "f = h5py.File('D:/library/Github/Innovative-practice/library/csv/第三学期/trainX400.h5', 'r')\n",
    "trainX = f['data']\n",
    "trainX  = cp.array(trainX)\n",
    "f.close()\n",
    "f = h5py.File('D:/library/Github/Innovative-practice/library/csv/第三学期/trainY400.h5', 'r')\n",
    "trainY = f['data']\n",
    "trainY  = cp.array(trainY)\n",
    "f.close()\n",
    "f = h5py.File('D:/library/Github/Innovative-practice/library/csv/第三学期/testX400.h5', 'r')\n",
    "testX = f['data']\n",
    "testX  = cp.array(testX)\n",
    "f.close()\n",
    "f = h5py.File('D:/library/Github/Innovative-practice/library/csv/第三学期/testY400.h5', 'r')\n",
    "testY = f['data']\n",
    "testY  = cp.array(testY)\n",
    "f.close()\n",
    "print(trainX.shape)\n",
    "print(trainY.shape)\n",
    "print(testX.shape)\n",
    "print(testY.shape)"
   ]
  },
  {
   "cell_type": "code",
   "execution_count": 3,
   "metadata": {},
   "outputs": [],
   "source": [
    "#选择要测试kpi sms=0 call=1 internet=2\n",
    "kpi=0\n",
    "if kpi==0:\n",
    "    kpi_name='sms'\n",
    "elif kpi==1:\n",
    "    kpi_name='call'\n",
    "else:\n",
    "    kpi_name='internet'"
   ]
  },
  {
   "cell_type": "code",
   "execution_count": 4,
   "metadata": {},
   "outputs": [
    {
     "name": "stdout",
     "output_type": "stream",
     "text": [
      "[4047, 3417, 23564]\n",
      "[10118, 3815, 20809]\n"
     ]
    }
   ],
   "source": [
    "#查找每个kpi最大值\n",
    "trainmax=[int(cp.max(trainX[:,:,0])),int(cp.max(trainX[:,:,1])),int(cp.max(trainX[:,:,2]))]\n",
    "testmax=[int(cp.max(testX[:,:,0])),int(cp.max(testX[:,:,1])),int(cp.max(testX[:,:,2]))]\n",
    "print(trainmax)\n",
    "print(testmax)\n"
   ]
  },
  {
   "cell_type": "code",
   "execution_count": 5,
   "metadata": {},
   "outputs": [],
   "source": [
    "#归一化\n",
    "for i in range(3):\n",
    "    trainX[:,:,i] = trainX[:,:,i]/trainmax[i]\n",
    "    testX[:,:,i] = testX[:,:,i]/testmax[i]\n",
    "    trainY[:,i] = trainY[:,i]/trainmax[i]"
   ]
  },
  {
   "cell_type": "code",
   "execution_count": 6,
   "metadata": {},
   "outputs": [
    {
     "name": "stdout",
     "output_type": "stream",
     "text": [
      "(406800, 1)\n",
      "(169200, 1)\n"
     ]
    }
   ],
   "source": [
    "\n",
    "trainY = cp.reshape(trainY[:,kpi], (trainY.shape[0], 1))\n",
    "testY = cp.reshape(testY[:,kpi], (testY.shape[0], 1))\n",
    "print(trainY.shape)\n",
    "print(testY.shape)"
   ]
  },
  {
   "cell_type": "code",
   "execution_count": 18,
   "metadata": {},
   "outputs": [
    {
     "name": "stdout",
     "output_type": "stream",
     "text": [
      "Model: \"sequential_1\"\n",
      "_________________________________________________________________\n",
      " Layer (type)                Output Shape              Param #   \n",
      "=================================================================\n",
      " lstm_2 (LSTM)               (None, 24, 60)            15360     \n",
      "                                                                 \n",
      " dropout_2 (Dropout)         (None, 24, 60)            0         \n",
      "                                                                 \n",
      " lstm_3 (LSTM)               (None, 60)                29040     \n",
      "                                                                 \n",
      " dropout_3 (Dropout)         (None, 60)                0         \n",
      "                                                                 \n",
      " dense_1 (Dense)             (None, 1)                 61        \n",
      "                                                                 \n",
      " activation_1 (Activation)   (None, 1)                 0         \n",
      "                                                                 \n",
      "=================================================================\n",
      "Total params: 44,461\n",
      "Trainable params: 44,461\n",
      "Non-trainable params: 0\n",
      "_________________________________________________________________\n"
     ]
    }
   ],
   "source": [
    "model = Sequential()\n",
    "model.add(LSTM(60,input_shape=(trainX.shape[1],trainX.shape[2]),\n",
    "                   return_sequences=True))\n",
    "model.add(Dropout(0.2))\n",
    "\n",
    "model.add(LSTM(60,return_sequences=False))\n",
    "model.add(Dropout(0.2))\n",
    "\n",
    "model.add(Dense(trainY.shape[1]))\n",
    "model.add(Activation(\"relu\"))\n",
    "\n",
    "model.summary()"
   ]
  },
  {
   "cell_type": "code",
   "execution_count": 19,
   "metadata": {},
   "outputs": [
    {
     "name": "stdout",
     "output_type": "stream",
     "text": [
      "Epoch 1/200\n",
      "5085/5085 [==============================] - 56s 10ms/step - loss: 4.0829e-04 - accuracy: 6.6679e-04 - val_loss: 1.8579e-04 - val_accuracy: 0.0028\n",
      "Epoch 2/200\n",
      "5085/5085 [==============================] - 50s 10ms/step - loss: 2.6623e-04 - accuracy: 6.6679e-04 - val_loss: 1.8136e-04 - val_accuracy: 0.0028\n",
      "Epoch 3/200\n",
      "5085/5085 [==============================] - 49s 10ms/step - loss: 2.4443e-04 - accuracy: 6.6679e-04 - val_loss: 1.5973e-04 - val_accuracy: 0.0028\n",
      "Epoch 4/200\n",
      "5085/5085 [==============================] - 50s 10ms/step - loss: 2.2859e-04 - accuracy: 6.6679e-04 - val_loss: 1.5014e-04 - val_accuracy: 0.0028\n",
      "Epoch 5/200\n",
      "5085/5085 [==============================] - 50s 10ms/step - loss: 2.2389e-04 - accuracy: 6.6679e-04 - val_loss: 1.3959e-04 - val_accuracy: 0.0028\n",
      "Epoch 6/200\n",
      "5085/5085 [==============================] - 52s 10ms/step - loss: 2.1559e-04 - accuracy: 6.6679e-04 - val_loss: 1.4398e-04 - val_accuracy: 0.0028\n",
      "Epoch 7/200\n",
      "5085/5085 [==============================] - 52s 10ms/step - loss: 2.1011e-04 - accuracy: 6.6679e-04 - val_loss: 1.4366e-04 - val_accuracy: 0.0028\n",
      "Epoch 8/200\n",
      "5085/5085 [==============================] - 52s 10ms/step - loss: 2.0602e-04 - accuracy: 6.6679e-04 - val_loss: 1.4131e-04 - val_accuracy: 0.0028\n",
      "Epoch 9/200\n",
      "5085/5085 [==============================] - 52s 10ms/step - loss: 2.0464e-04 - accuracy: 6.6679e-04 - val_loss: 1.4727e-04 - val_accuracy: 0.0028\n",
      "Epoch 10/200\n",
      "5085/5085 [==============================] - 52s 10ms/step - loss: 2.0213e-04 - accuracy: 6.6679e-04 - val_loss: 1.3936e-04 - val_accuracy: 0.0028\n",
      "Epoch 11/200\n",
      "5085/5085 [==============================] - 52s 10ms/step - loss: 1.9680e-04 - accuracy: 6.6679e-04 - val_loss: 1.3550e-04 - val_accuracy: 0.0028\n",
      "Epoch 12/200\n",
      "5085/5085 [==============================] - 52s 10ms/step - loss: 1.9505e-04 - accuracy: 6.6679e-04 - val_loss: 1.4374e-04 - val_accuracy: 0.0028\n",
      "Epoch 13/200\n",
      "5085/5085 [==============================] - 52s 10ms/step - loss: 1.9296e-04 - accuracy: 6.6679e-04 - val_loss: 1.3564e-04 - val_accuracy: 0.0028\n",
      "Epoch 14/200\n",
      "5085/5085 [==============================] - 50s 10ms/step - loss: 1.9168e-04 - accuracy: 6.6679e-04 - val_loss: 1.3642e-04 - val_accuracy: 0.0028\n",
      "Epoch 15/200\n",
      "5085/5085 [==============================] - 50s 10ms/step - loss: 1.8960e-04 - accuracy: 6.6679e-04 - val_loss: 1.3438e-04 - val_accuracy: 0.0028\n"
     ]
    }
   ],
   "source": [
    "\n",
    "\n",
    "cbs = [History(), EarlyStopping(monitor='val_loss',\n",
    "                                patience=10,\n",
    "                                min_delta=0.00001,\n",
    "                                verbose=0)]\n",
    "model.compile(loss='mse',optimizer='adam',metrics=['accuracy'])\n",
    "log_dir = \"logs/fit/\" + datetime.datetime.now().strftime(\"%Y%m%d-%H%M%S\")+kpi_name\n",
    "tensorboard_callback = tf.keras.callbacks.TensorBoard(log_dir=log_dir, histogram_freq=1)\n",
    "history=model.fit(trainX.get(),\n",
    "        trainY.get(),\n",
    "        batch_size=64,\n",
    "        epochs=200,\n",
    "        validation_split=0.2,\n",
    "        callbacks=[cbs,tensorboard_callback],\n",
    "        verbose=True)\n",
    "model.save(os.path.join(f\"D:\\library\\Github\\Innovative-practice\\第三学期\\DATA\\lstm\",f\"Test_{kpi_name}400\" + \".h5\"))"
   ]
  },
  {
   "cell_type": "code",
   "execution_count": 20,
   "metadata": {},
   "outputs": [
    {
     "name": "stderr",
     "output_type": "stream",
     "text": [
      "UsageError: Line magic function `%tensorboard` not found.\n"
     ]
    }
   ],
   "source": [
    "#读取训练时的loss\n",
    "%tensorboard --logdir D:\\library\\Github\\Innovative-practice\\第三学期\\lstm\\logs\\fit"
   ]
  },
  {
   "cell_type": "code",
   "execution_count": 7,
   "metadata": {},
   "outputs": [
    {
     "name": "stdout",
     "output_type": "stream",
     "text": [
      "12713/12713 [==============================] - 51s 4ms/step\n",
      "5288/5288 [==============================] - 18s 3ms/step\n",
      "(406800, 1)\n",
      "(169200, 1)\n"
     ]
    }
   ],
   "source": [
    "#预测\n",
    "model = load_model(os.path.join(f\"D:\\library\\Github\\Innovative-practice\\第三学期\\DATA\\lstm\",f\"Test_{kpi_name}400\" + \".h5\"))\n",
    "trainPredict = model.predict(trainX.get())\n",
    "testPredict = model.predict(testX[:].get())\n",
    "\n",
    "print(trainPredict.shape)\n",
    "print(testPredict.shape)\n",
    "\n"
   ]
  },
  {
   "cell_type": "code",
   "execution_count": 8,
   "metadata": {},
   "outputs": [],
   "source": [
    "testPredict = testPredict\n",
    "testY = testY.get()"
   ]
  },
  {
   "cell_type": "code",
   "execution_count": 9,
   "metadata": {},
   "outputs": [],
   "source": [
    "from scipy.stats import kstest\n",
    "import pandas as pd\n",
    "import numpy as np\n",
    "def KsNormDetect(data):\n",
    "    # 计算均值\n",
    "    u = data.mean()\n",
    "    # 计算标准差\n",
    "    std = data.std()\n",
    "    # 计算P值\n",
    "    res=kstest(data, 'norm', (u, std))[1]\n",
    "    # 判断p值是否服从正态分布，p<=0.05 则服从正态分布，否则不服从。\n",
    "    if res<=0.05:\n",
    "        #print('该列数据服从正态分布------------')\n",
    "        #print('均值为：%.3f，标准差为：%.3f' % (u, std))\n",
    "        #print('------------------------------')\n",
    "        return 1\n",
    "    else:\n",
    "        return 0\n",
    "\n",
    "\n",
    "\n",
    "def OutlierDetection(data,ks_res):\n",
    "    # 计算均值\n",
    "    u =data.mean()\n",
    "    # 计算标准差\n",
    "    std = data.std()\n",
    "    if ks_res==1:\n",
    "        # 定义3σ法则识别异常值\n",
    "        # 识别异常值\n",
    "        error_y = [i for i in data if abs(i-u)> 3 * std]\n",
    "        # 识别异常值的索引\n",
    "        error_index = [i for i in range(len(data)) if abs(data[i]-u)> 3 * std]\n",
    "        #error_y转变为一行int列表\n",
    "        error_y = [int(i) for i in error_y]\n",
    "        return error_y,error_index\n",
    "\n",
    "    else:\n",
    "        print('请先检测数据是否服从正态分布-----------')\n",
    "        return [],[]\n",
    "\n",
    "\n",
    "\n"
   ]
  },
  {
   "cell_type": "code",
   "execution_count": 10,
   "metadata": {},
   "outputs": [],
   "source": [
    "residual=abs(testPredict*testmax[kpi]-testY)\n",
    "testPredict1=testPredict*testmax[kpi]\n"
   ]
  },
  {
   "cell_type": "code",
   "execution_count": 11,
   "metadata": {},
   "outputs": [],
   "source": [
    "import matplotlib.pyplot as plt\n",
    "# 解决中文显示问题\n",
    "plt.rcParams['font.sans-serif'] = ['SimHei']\n",
    "plt.rcParams['axes.unicode_minus'] = False\n",
    "\n",
    "for i in range(50):\n",
    "    data = residual[i*423:(i+1)*423]\n",
    "    ks_res=KsNormDetect(data)\n",
    "    error_y,error_index=OutlierDetection(data, ks_res)\n",
    "    error_index_testY=[j+i*423 for j in error_index]\n",
    "    plt.figure( figsize=(100,10) )\n",
    "    plt.subplot(2,1,1)\n",
    "    plt.plot(testY[i*423:(i+1)*423])\n",
    "    plt.plot(testPredict[i*423:(i+1)*423]*testmax[kpi])\n",
    "    #error_index用取出testY中的异常值\n",
    "    plt.scatter(error_index,testY[error_index_testY],c='r',linewidths=25)\n",
    "    plt.title(f\"{kpi_name}测试集预测图{i}\",fontsize=50)\n",
    "    plt.legend(['testY',\"testYPredict\"],fontsize=50)\n",
    "    plt.subplot(2,1,2)\n",
    "    plt.plot(abs(testY[i*423:(i+1)*423]-testPredict[i*423:(i+1)*423]*testmax[kpi]))\n",
    "    plt.scatter(error_index,error_y,c='r',linewidths=25)\n",
    "    plt.title(f\"{kpi_name}测试集误差图{i}\",fontsize=50)\n",
    "    plt.savefig(f'D:\\library\\Github\\Innovative-practice\\第三学期\\DATA\\pic\\lstm\\pred400\\{kpi_name}\\{kpi_name}测试集预测图{i}.png')\n",
    "    plt.close()\n",
    "   "
   ]
  },
  {
   "cell_type": "code",
   "execution_count": 12,
   "metadata": {},
   "outputs": [
    {
     "name": "stdout",
     "output_type": "stream",
     "text": [
      "<class 'numpy.ndarray'>\n",
      "RMSE为 120.67828102604793\n",
      "MAE为 66.32284996331472\n",
      "MAPE为 69.02712028287887\n",
      "R2为 0.6646273981712123\n"
     ]
    }
   ],
   "source": [
    "from  sklearn import  metrics\n",
    "import numpy as np\n",
    "\n",
    "def GetRMSE(y_hat,y_test):\n",
    "    sum = np.sqrt(metrics.mean_squared_error(y_test, y_hat))\n",
    "    return  sum\n",
    "\n",
    "def GetMAE(y_hat,y_test):\n",
    "    sum = metrics.mean_absolute_error(y_test, y_hat)\n",
    "    return  sum\n",
    "\n",
    "def GetMAPE_Order(y_hat,y_test):\n",
    "    #删除test_y 为0元素\n",
    "    zero_index = np.where(y_test == 0)\n",
    "    y_hat = np.delete(y_hat,zero_index[0])\n",
    "    y_test = np.delete(y_test,zero_index[0])\n",
    "    sum = np.mean(np.abs((y_hat - y_test) / y_test)) * 100\n",
    "    return sum\n",
    "#计算R2\n",
    "def GetR2(y_hat,y_test):\n",
    "    sum = metrics.r2_score(y_test, y_hat)\n",
    "    return sum\n",
    "print(type(testY))\n",
    "\n",
    "\n",
    "\n",
    "print(\"RMSE为\",GetRMSE(testPredict1,testY))\n",
    "print(\"MAE为\",GetMAE(testPredict1,testY))\n",
    "print(\"MAPE为\",GetMAPE_Order(testPredict1,testY))\n",
    "print(\"R2为\",GetR2(testPredict1,testY))\n"
   ]
  }
 ],
 "metadata": {
  "kernelspec": {
   "display_name": "Python 3.8.6 ('Innovative-practice-HHChy52D')",
   "language": "python",
   "name": "python3"
  },
  "language_info": {
   "codemirror_mode": {
    "name": "ipython",
    "version": 3
   },
   "file_extension": ".py",
   "mimetype": "text/x-python",
   "name": "python",
   "nbconvert_exporter": "python",
   "pygments_lexer": "ipython3",
   "version": "3.8.6"
  },
  "orig_nbformat": 4,
  "vscode": {
   "interpreter": {
    "hash": "1353927fb18e064046a1cd21ed8c15ef15c98edbe2136e1d2bceb4804e0d476f"
   }
  }
 },
 "nbformat": 4,
 "nbformat_minor": 2
}
