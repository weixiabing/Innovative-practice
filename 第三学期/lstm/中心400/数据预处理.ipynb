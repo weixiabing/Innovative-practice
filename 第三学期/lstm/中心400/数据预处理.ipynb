{
 "cells": [
  {
   "cell_type": "code",
   "execution_count": 1,
   "metadata": {},
   "outputs": [],
   "source": [
    "import h5py\n",
    "import cupy as cp"
   ]
  },
  {
   "cell_type": "code",
   "execution_count": 2,
   "metadata": {},
   "outputs": [
    {
     "name": "stdout",
     "output_type": "stream",
     "text": [
      "(1488, 10000, 3)\n",
      "(10000, 1488, 3)\n"
     ]
    }
   ],
   "source": [
    "#读取数据\n",
    "f = h5py.File('D:/library/Github/Innovative-practice/library/csv/第三学期/data_git_version.h5', 'r')\n",
    "data = f['data']\n",
    "data = cp.array(data)\n",
    "print(data.shape)\n",
    "data = cp.transpose(data,(1,0,2))\n",
    "print(data.shape)\n",
    "f.close()"
   ]
  },
  {
   "cell_type": "code",
   "execution_count": 5,
   "metadata": {},
   "outputs": [
    {
     "name": "stdout",
     "output_type": "stream",
     "text": [
      "(400, 1488, 3)\n"
     ]
    }
   ],
   "source": [
    "#取中心100个基站的数据\n",
    "index=[i*100+j for i in range(40,60) for j in range(40,60)]\n",
    "data_random=data[index,:,:]\n",
    "print(data_random.shape)"
   ]
  },
  {
   "cell_type": "code",
   "execution_count": 6,
   "metadata": {},
   "outputs": [
    {
     "name": "stdout",
     "output_type": "stream",
     "text": [
      "(400, 1041, 3)\n",
      "(400, 447, 3)\n"
     ]
    }
   ],
   "source": [
    "#划分训练集和测试集\n",
    "train_size = int(1488* 0.7)\n",
    "trainlist=data_random[:,0:train_size,:]\n",
    "testlist=data_random[:,train_size:,:]\n",
    "print(trainlist.shape)\n",
    "print(testlist.shape)"
   ]
  },
  {
   "cell_type": "code",
   "execution_count": 7,
   "metadata": {},
   "outputs": [
    {
     "name": "stdout",
     "output_type": "stream",
     "text": [
      "400\n"
     ]
    }
   ],
   "source": [
    "print(trainlist.shape[0])"
   ]
  },
  {
   "cell_type": "code",
   "execution_count": 8,
   "metadata": {},
   "outputs": [
    {
     "name": "stdout",
     "output_type": "stream",
     "text": [
      "(406800, 24, 3)\n",
      "(406800, 3)\n",
      "(169200, 24, 3)\n",
      "(169200, 3)\n"
     ]
    }
   ],
   "source": [
    "#滑窗\n",
    "def create_dataset(dataset, look_back):\n",
    "#这里的look_back与timestep相同\n",
    "    dataX, dataY = [], []\n",
    "    for i in range(dataset.shape[0]):\n",
    "        for j in range(dataset.shape[1]-look_back):\n",
    "            a = dataset[i,j:(j+look_back),:]\n",
    "            dataX.append(a)\n",
    "            dataY.append(dataset[i,j + look_back,:])\n",
    "    return cp.array(dataX), cp.array(dataY)\n",
    "look_back = 24\n",
    "trainX,trainY  = create_dataset(trainlist,look_back)\n",
    "testX,testY = create_dataset(testlist,look_back)\n",
    "print(trainX.shape)\n",
    "print(trainY.shape)\n",
    "print(testX.shape)\n",
    "print(testY.shape)"
   ]
  },
  {
   "cell_type": "code",
   "execution_count": 9,
   "metadata": {},
   "outputs": [],
   "source": [
    "#trainX保存为h5文件\n",
    "f = h5py.File('D:/library/Github/Innovative-practice/library/csv/第三学期/trainX400.h5', 'w')\n",
    "f['data'] = trainX.get()\n",
    "f.close()\n",
    "#trainY保存为h5文件\n",
    "f = h5py.File('D:/library/Github/Innovative-practice/library/csv/第三学期/trainY400.h5', 'w')\n",
    "f['data'] = trainY.get()\n",
    "f.close()\n",
    "#testX保存为h5文件\n",
    "f = h5py.File('D:/library/Github/Innovative-practice/library/csv/第三学期/testX400.h5', 'w')\n",
    "f['data'] = testX.get()\n",
    "f.close()\n",
    "#testY保存为h5文件\n",
    "f = h5py.File('D:/library/Github/Innovative-practice/library/csv/第三学期/testY400.h5', 'w')\n",
    "f['data'] = testY.get()\n",
    "f.close()\n"
   ]
  }
 ],
 "metadata": {
  "kernelspec": {
   "display_name": "Python 3.8.6 ('Innovative-practice-HHChy52D')",
   "language": "python",
   "name": "python3"
  },
  "language_info": {
   "codemirror_mode": {
    "name": "ipython",
    "version": 3
   },
   "file_extension": ".py",
   "mimetype": "text/x-python",
   "name": "python",
   "nbconvert_exporter": "python",
   "pygments_lexer": "ipython3",
   "version": "3.8.6"
  },
  "orig_nbformat": 4,
  "vscode": {
   "interpreter": {
    "hash": "1353927fb18e064046a1cd21ed8c15ef15c98edbe2136e1d2bceb4804e0d476f"
   }
  }
 },
 "nbformat": 4,
 "nbformat_minor": 2
}
