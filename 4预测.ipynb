{
 "cells": [
  {
   "cell_type": "code",
   "execution_count": null,
   "metadata": {},
   "outputs": [],
   "source": [
    "import pandas as pd\n",
    "import numpy as np\n",
    "import matplotlib.pyplot as plt\n",
    "from pandas.core.frame import DataFrame\n",
    "from statsmodels.tsa.seasonal import seasonal_decompose\n",
    "from statsmodels.tsa.holtwinters import SimpleExpSmoothing, ExponentialSmoothing"
   ]
  },
  {
   "cell_type": "code",
   "execution_count": null,
   "metadata": {},
   "outputs": [],
   "source": [
    "pf=pd.read_csv('library/csv/pm/beijing_final1.csv')\n",
    "pf2=pd.read_csv('library/csv/pm/beijing_final2.csv')\n",
    "\n",
    "model = ExponentialSmoothing(pf[\"Value\"], trend=\"mul\", seasonal=\"mul\", seasonal_periods=8760).fit()\n",
    "pred = model.forecast(720)\n",
    "pred.to_csv(\"library/csv/pm/beijing_result.csv\", encoding=\"utf_8_sig\")\n",
    "plt.figure()\n",
    "plt.plot(range(24),pf2['Value'][0:24], color='r', label='Value')\n",
    "plt.plot(range(24), pred , color='b', label='pred')\n",
    "\n",
    "plt.legend()\n",
    "plt.show()\n"
   ]
  }
 ],
 "metadata": {
  "language_info": {
   "name": "python"
  },
  "orig_nbformat": 4
 },
 "nbformat": 4,
 "nbformat_minor": 2
}
