{
 "cells": [
  {
   "cell_type": "code",
   "execution_count": 1,
   "metadata": {},
   "outputs": [],
   "source": [
    "import pandas as pd\n",
    "import numpy as np\n",
    "import matplotlib.pyplot as plt\n",
    "from pandas.core.frame import DataFrame\n",
    "from statsmodels.tsa.seasonal import seasonal_decompose\n",
    "from statsmodels.tsa.holtwinters import SimpleExpSmoothing, ExponentialSmoothing\n",
    "pf=pd.read_csv('library/csv/New_York_Hourly.csv')\n"
   ]
  },
  {
   "cell_type": "code",
   "execution_count": 2,
   "metadata": {},
   "outputs": [],
   "source": [
    "for i in range(len(pf)):\n",
    "    if (pf['Value'][i]<=0):\n",
    "        pf['Value'][i] = \"NaN\"   "
   ]
  },
  {
   "cell_type": "code",
   "execution_count": 4,
   "metadata": {},
   "outputs": [],
   "source": [
    "#填充\n",
    "pf= pf.interpolate()\n",
    "pf.to_csv(\"library/csv/tm_final.csv\", encoding=\"utf_8_sig\")\n"
   ]
  },
  {
   "cell_type": "code",
   "execution_count": null,
   "metadata": {},
   "outputs": [],
   "source": [
    "pf=pd.read_csv('library/csv/pm/beijing_final1.csv')\n",
    "pf2=pd.read_csv('library/csv/pm/beijing_final2.csv')\n",
    "\n",
    "model = ExponentialSmoothing(pf[\"Value\"], trend=\"mul\", seasonal=\"mul\", seasonal_periods=8760).fit()\n",
    "pred = model.forecast(720)\n",
    "pred.to_csv(\"library/csv/pm/beijing_result.csv\", encoding=\"utf_8_sig\")\n",
    "plt.figure()\n",
    "plt.plot(range(24),pf2['Value'][0:24], color='r', label='Value')\n",
    "plt.plot(range(24), pred , color='b', label='pred')\n",
    "\n",
    "plt.legend()\n",
    "plt.show()"
   ]
  }
 ],
 "metadata": {
  "interpreter": {
   "hash": "278b3e799b5b45eaaddffe90a3acf9d7476d92b640da773074f553509b97ee71"
  },
  "kernelspec": {
   "display_name": "Python 3.7.3 64-bit ('Innovative-practice-zjFOS_of': pipenv)",
   "language": "python",
   "name": "python3"
  },
  "language_info": {
   "codemirror_mode": {
    "name": "ipython",
    "version": 3
   },
   "file_extension": ".py",
   "mimetype": "text/x-python",
   "name": "python",
   "nbconvert_exporter": "python",
   "pygments_lexer": "ipython3",
   "version": "3.7.3"
  },
  "orig_nbformat": 4
 },
 "nbformat": 4,
 "nbformat_minor": 2
}
